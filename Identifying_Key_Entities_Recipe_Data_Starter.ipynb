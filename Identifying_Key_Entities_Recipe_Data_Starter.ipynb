{
 "cells": [
  {
   "cell_type": "markdown",
   "metadata": {
    "id": "42UBKEnat_xo"
   },
   "source": [
    "# **Identifying Key Entities in Recipe Data**"
   ]
  },
  {
   "cell_type": "markdown",
   "metadata": {
    "id": "Pme3h_fduOKh"
   },
   "source": [
    "\n",
    "**Business Objective**:\n",
    "The goal of this assignment is to train a Named Entity Recognition (NER) model using Conditional Random Fields (CRF) to extract key entities from recipe data. The model will classify words into predefined categories such as ingredients, quantities and units, enabling the creation of a structured database of recipes and ingredients that can be used to power advanced features in recipe management systems, dietary tracking apps, or e-commerce platforms."
   ]
  },
  {
   "cell_type": "markdown",
   "metadata": {
    "id": "FXzoAs8evNG0"
   },
   "source": [
    "### **Data Description**\n",
    "The given data is in JSON format, representing a **structured recipe ingredient list** with **Named Entity Recognition (NER) labels**. Below is a breakdown of the data fields:\n",
    "\n",
    "```json\n",
    "[\n",
    "    {\n",
    "        \"input\": \"6 Karela Bitter Gourd Pavakkai Salt 1 Onion 3 tablespoon Gram flour besan 2 teaspoons Turmeric powder Haldi Red Chilli Cumin seeds Jeera Coriander Powder Dhania Amchur Dry Mango Sunflower Oil\",\n",
    "        \"pos\": \"quantity ingredient ingredient ingredient ingredient ingredient quantity ingredient quantity unit ingredient ingredient ingredient quantity unit ingredient ingredient ingredient ingredient ingredient ingredient ingredient ingredient ingredient ingredient ingredient ingredient ingredient ingredient ingredient ingredient\"\n",
    "    },\n",
    "    {\n",
    "      \"input\": \"2-1/2 cups rice cooked 3 tomatoes teaspoons BC Belle Bhat powder 1 teaspoon chickpea lentils 1/2 cumin seeds white urad dal mustard green chilli dry red 2 cashew or peanuts 1-1/2 tablespoon oil asafoetida\",\n",
    "      \"pos\": \"quantity unit ingredient ingredient quantity ingredient unit ingredient ingredient ingredient ingredient quantity unit ingredient ingredient quantity ingredient ingredient ingredient ingredient ingredient ingredient ingredient ingredient ingredient ingredient quantity ingredient ingredient ingredient quantity unit ingredient ingredient\"\n",
    "    }\n",
    "]\n"
   ]
  },
  {
   "cell_type": "markdown",
   "metadata": {
    "id": "LSDcNvJlwC6N"
   },
   "source": [
    "| **Key**  | **Description**  |\n",
    "|----------|-----------------|\n",
    "| `input`  | Contains a raw ingredient list from a recipe. |\n",
    "| `pos`    | Represents the corresponding part-of-speech (POS) tags or NER labels, identifying quantities, ingredients, and units. |\n"
   ]
  },
  {
   "cell_type": "markdown",
   "metadata": {
    "id": "phenosA4se1c"
   },
   "source": [
    "## **1** Import libraries"
   ]
  },
  {
   "cell_type": "markdown",
   "metadata": {
    "id": "Br-jQHin3kQX"
   },
   "source": [
    "#### **1.1** Installation of sklearn-crfsuite"
   ]
  },
  {
   "cell_type": "markdown",
   "metadata": {
    "id": "DPhaJSfCwpfa"
   },
   "source": [
    "sklearn-crfsuite is a Python wrapper for CRFsuite, a fast and efficient implementation of Conditional Random Fields (CRFs). It is designed to integrate seamlessly with scikit-learn for structured prediction tasks such as Named Entity Recognition (NER), Part-of-Speech (POS) tagging, and chunking."
   ]
  },
  {
   "cell_type": "code",
   "execution_count": 21,
   "metadata": {
    "id": "_QawokgQXAMO"
   },
   "outputs": [
    {
     "name": "stdout",
     "output_type": "stream",
     "text": [
      "Requirement already satisfied: sklearn_crfsuite==0.5.0 in c:\\users\\acer\\anaconda3\\lib\\site-packages (0.5.0)\n",
      "Requirement already satisfied: python-crfsuite>=0.9.7 in c:\\users\\acer\\anaconda3\\lib\\site-packages (from sklearn_crfsuite==0.5.0) (0.9.11)\n",
      "Requirement already satisfied: scikit-learn>=0.24.0 in c:\\users\\acer\\anaconda3\\lib\\site-packages (from sklearn_crfsuite==0.5.0) (1.4.2)\n",
      "Requirement already satisfied: tabulate>=0.4.2 in c:\\users\\acer\\anaconda3\\lib\\site-packages (from sklearn_crfsuite==0.5.0) (0.9.0)\n",
      "Requirement already satisfied: tqdm>=2.0 in c:\\users\\acer\\anaconda3\\lib\\site-packages (from sklearn_crfsuite==0.5.0) (4.66.4)\n",
      "Requirement already satisfied: numpy>=1.19.5 in c:\\users\\acer\\anaconda3\\lib\\site-packages (from scikit-learn>=0.24.0->sklearn_crfsuite==0.5.0) (1.26.4)\n",
      "Requirement already satisfied: scipy>=1.6.0 in c:\\users\\acer\\anaconda3\\lib\\site-packages (from scikit-learn>=0.24.0->sklearn_crfsuite==0.5.0) (1.13.1)\n",
      "Requirement already satisfied: joblib>=1.2.0 in c:\\users\\acer\\anaconda3\\lib\\site-packages (from scikit-learn>=0.24.0->sklearn_crfsuite==0.5.0) (1.4.2)\n",
      "Requirement already satisfied: threadpoolctl>=2.0.0 in c:\\users\\acer\\anaconda3\\lib\\site-packages (from scikit-learn>=0.24.0->sklearn_crfsuite==0.5.0) (2.2.0)\n",
      "Requirement already satisfied: colorama in c:\\users\\acer\\anaconda3\\lib\\site-packages (from tqdm>=2.0->sklearn_crfsuite==0.5.0) (0.4.6)\n",
      "Requirement already satisfied: numpy==1.26.4 in c:\\users\\acer\\anaconda3\\lib\\site-packages (1.26.4)\n",
      "Requirement already satisfied: spacy==3.7.4 in c:\\users\\acer\\anaconda3\\lib\\site-packages (3.7.4)\n",
      "Collecting en-core-web-sm==3.7.1\n",
      "  Downloading https://github.com/explosion/spacy-models/releases/download/en_core_web_sm-3.7.1/en_core_web_sm-3.7.1-py3-none-any.whl (12.8 MB)\n",
      "     ---------------------------------------- 0.0/12.8 MB ? eta -:--:--\n",
      "     - -------------------------------------- 0.4/12.8 MB 12.2 MB/s eta 0:00:02\n",
      "     ---- ----------------------------------- 1.3/12.8 MB 16.8 MB/s eta 0:00:01\n",
      "     -------- ------------------------------- 2.6/12.8 MB 18.5 MB/s eta 0:00:01\n",
      "     -------- ------------------------------- 2.9/12.8 MB 18.3 MB/s eta 0:00:01\n",
      "     ---------- ----------------------------- 3.3/12.8 MB 16.4 MB/s eta 0:00:01\n",
      "     ------------- -------------------------- 4.2/12.8 MB 15.8 MB/s eta 0:00:01\n",
      "     ------------- -------------------------- 4.2/12.8 MB 15.8 MB/s eta 0:00:01\n",
      "     ------------- -------------------------- 4.2/12.8 MB 15.8 MB/s eta 0:00:01\n",
      "     ------------- -------------------------- 4.2/12.8 MB 15.8 MB/s eta 0:00:01\n",
      "     ------------- -------------------------- 4.2/12.8 MB 15.8 MB/s eta 0:00:01\n",
      "     ------------- -------------------------- 4.2/12.8 MB 8.4 MB/s eta 0:00:02\n",
      "     -------------- ------------------------- 4.5/12.8 MB 8.0 MB/s eta 0:00:02\n",
      "     ---------------- ----------------------- 5.2/12.8 MB 8.7 MB/s eta 0:00:01\n",
      "     ----------------- ---------------------- 5.5/12.8 MB 8.8 MB/s eta 0:00:01\n",
      "     ------------------ --------------------- 5.9/12.8 MB 8.3 MB/s eta 0:00:01\n",
      "     ------------------- -------------------- 6.2/12.8 MB 8.2 MB/s eta 0:00:01\n",
      "     -------------------- ------------------- 6.4/12.8 MB 8.1 MB/s eta 0:00:01\n",
      "     -------------------- ------------------- 6.6/12.8 MB 7.9 MB/s eta 0:00:01\n",
      "     --------------------- ------------------ 7.0/12.8 MB 7.8 MB/s eta 0:00:01\n",
      "     ---------------------- ----------------- 7.1/12.8 MB 7.5 MB/s eta 0:00:01\n",
      "     ---------------------- ----------------- 7.2/12.8 MB 7.3 MB/s eta 0:00:01\n",
      "     ----------------------- ---------------- 7.4/12.8 MB 7.2 MB/s eta 0:00:01\n",
      "     ----------------------- ---------------- 7.5/12.8 MB 6.9 MB/s eta 0:00:01\n",
      "     ----------------------- ---------------- 7.6/12.8 MB 6.8 MB/s eta 0:00:01\n",
      "     ------------------------ --------------- 7.8/12.8 MB 6.7 MB/s eta 0:00:01\n",
      "     ------------------------ --------------- 8.0/12.8 MB 6.5 MB/s eta 0:00:01\n",
      "     ------------------------- -------------- 8.1/12.8 MB 6.4 MB/s eta 0:00:01\n",
      "     ------------------------- -------------- 8.2/12.8 MB 6.3 MB/s eta 0:00:01\n",
      "     -------------------------- ------------- 8.4/12.8 MB 6.2 MB/s eta 0:00:01\n",
      "     -------------------------- ------------- 8.6/12.8 MB 6.1 MB/s eta 0:00:01\n",
      "     --------------------------- ------------ 8.8/12.8 MB 6.1 MB/s eta 0:00:01\n",
      "     ---------------------------- ----------- 9.1/12.8 MB 6.1 MB/s eta 0:00:01\n",
      "     ----------------------------- ---------- 9.4/12.8 MB 6.1 MB/s eta 0:00:01\n",
      "     ------------------------------ --------- 9.6/12.8 MB 6.0 MB/s eta 0:00:01\n",
      "     ------------------------------ --------- 9.8/12.8 MB 6.0 MB/s eta 0:00:01\n",
      "     ------------------------------- -------- 10.1/12.8 MB 5.9 MB/s eta 0:00:01\n",
      "     -------------------------------- ------- 10.3/12.8 MB 6.0 MB/s eta 0:00:01\n",
      "     --------------------------------- ------ 10.6/12.8 MB 5.8 MB/s eta 0:00:01\n",
      "     --------------------------------- ------ 10.8/12.8 MB 5.7 MB/s eta 0:00:01\n",
      "     ---------------------------------- ----- 11.0/12.8 MB 5.6 MB/s eta 0:00:01\n",
      "     ----------------------------------- ---- 11.3/12.8 MB 5.5 MB/s eta 0:00:01\n",
      "     ----------------------------------- ---- 11.4/12.8 MB 5.4 MB/s eta 0:00:01\n",
      "     ----------------------------------- ---- 11.5/12.8 MB 5.2 MB/s eta 0:00:01\n",
      "     ------------------------------------ --- 11.6/12.8 MB 5.2 MB/s eta 0:00:01\n",
      "     ------------------------------------ --- 11.8/12.8 MB 5.0 MB/s eta 0:00:01\n",
      "     ------------------------------------- -- 12.0/12.8 MB 4.9 MB/s eta 0:00:01\n",
      "     -------------------------------------- - 12.2/12.8 MB 4.9 MB/s eta 0:00:01\n",
      "     -------------------------------------- - 12.5/12.8 MB 4.7 MB/s eta 0:00:01\n",
      "     ---------------------------------------  12.8/12.8 MB 4.7 MB/s eta 0:00:01\n",
      "     ---------------------------------------  12.8/12.8 MB 4.6 MB/s eta 0:00:01\n",
      "     ---------------------------------------- 12.8/12.8 MB 4.5 MB/s eta 0:00:00\n",
      "Requirement already satisfied: spacy<3.8.0,>=3.7.2 in c:\\users\\acer\\anaconda3\\lib\\site-packages (from en-core-web-sm==3.7.1) (3.7.4)\n",
      "Requirement already satisfied: spacy-legacy<3.1.0,>=3.0.11 in c:\\users\\acer\\anaconda3\\lib\\site-packages (from spacy<3.8.0,>=3.7.2->en-core-web-sm==3.7.1) (3.0.12)\n",
      "Requirement already satisfied: spacy-loggers<2.0.0,>=1.0.0 in c:\\users\\acer\\anaconda3\\lib\\site-packages (from spacy<3.8.0,>=3.7.2->en-core-web-sm==3.7.1) (1.0.5)\n",
      "Requirement already satisfied: murmurhash<1.1.0,>=0.28.0 in c:\\users\\acer\\anaconda3\\lib\\site-packages (from spacy<3.8.0,>=3.7.2->en-core-web-sm==3.7.1) (1.0.13)\n",
      "Requirement already satisfied: cymem<2.1.0,>=2.0.2 in c:\\users\\acer\\anaconda3\\lib\\site-packages (from spacy<3.8.0,>=3.7.2->en-core-web-sm==3.7.1) (2.0.11)\n",
      "Requirement already satisfied: preshed<3.1.0,>=3.0.2 in c:\\users\\acer\\anaconda3\\lib\\site-packages (from spacy<3.8.0,>=3.7.2->en-core-web-sm==3.7.1) (3.0.10)\n",
      "Requirement already satisfied: thinc<8.3.0,>=8.2.2 in c:\\users\\acer\\anaconda3\\lib\\site-packages (from spacy<3.8.0,>=3.7.2->en-core-web-sm==3.7.1) (8.2.5)\n",
      "Requirement already satisfied: wasabi<1.2.0,>=0.9.1 in c:\\users\\acer\\anaconda3\\lib\\site-packages (from spacy<3.8.0,>=3.7.2->en-core-web-sm==3.7.1) (1.1.3)\n",
      "Requirement already satisfied: srsly<3.0.0,>=2.4.3 in c:\\users\\acer\\anaconda3\\lib\\site-packages (from spacy<3.8.0,>=3.7.2->en-core-web-sm==3.7.1) (2.5.1)\n",
      "Requirement already satisfied: catalogue<2.1.0,>=2.0.6 in c:\\users\\acer\\anaconda3\\lib\\site-packages (from spacy<3.8.0,>=3.7.2->en-core-web-sm==3.7.1) (2.0.10)\n",
      "Requirement already satisfied: weasel<0.4.0,>=0.1.0 in c:\\users\\acer\\anaconda3\\lib\\site-packages (from spacy<3.8.0,>=3.7.2->en-core-web-sm==3.7.1) (0.3.4)\n",
      "Requirement already satisfied: typer<0.10.0,>=0.3.0 in c:\\users\\acer\\anaconda3\\lib\\site-packages (from spacy<3.8.0,>=3.7.2->en-core-web-sm==3.7.1) (0.9.4)\n",
      "Requirement already satisfied: smart-open<7.0.0,>=5.2.1 in c:\\users\\acer\\anaconda3\\lib\\site-packages (from spacy<3.8.0,>=3.7.2->en-core-web-sm==3.7.1) (5.2.1)\n",
      "Requirement already satisfied: tqdm<5.0.0,>=4.38.0 in c:\\users\\acer\\anaconda3\\lib\\site-packages (from spacy<3.8.0,>=3.7.2->en-core-web-sm==3.7.1) (4.66.4)\n",
      "Requirement already satisfied: requests<3.0.0,>=2.13.0 in c:\\users\\acer\\anaconda3\\lib\\site-packages (from spacy<3.8.0,>=3.7.2->en-core-web-sm==3.7.1) (2.32.2)\n",
      "Requirement already satisfied: pydantic!=1.8,!=1.8.1,<3.0.0,>=1.7.4 in c:\\users\\acer\\anaconda3\\lib\\site-packages (from spacy<3.8.0,>=3.7.2->en-core-web-sm==3.7.1) (2.11.7)\n",
      "Requirement already satisfied: jinja2 in c:\\users\\acer\\anaconda3\\lib\\site-packages (from spacy<3.8.0,>=3.7.2->en-core-web-sm==3.7.1) (3.1.4)\n",
      "Requirement already satisfied: setuptools in c:\\users\\acer\\anaconda3\\lib\\site-packages (from spacy<3.8.0,>=3.7.2->en-core-web-sm==3.7.1) (69.5.1)\n",
      "Requirement already satisfied: packaging>=20.0 in c:\\users\\acer\\anaconda3\\lib\\site-packages (from spacy<3.8.0,>=3.7.2->en-core-web-sm==3.7.1) (23.2)\n",
      "Requirement already satisfied: langcodes<4.0.0,>=3.2.0 in c:\\users\\acer\\anaconda3\\lib\\site-packages (from spacy<3.8.0,>=3.7.2->en-core-web-sm==3.7.1) (3.5.0)\n",
      "Requirement already satisfied: numpy>=1.19.0 in c:\\users\\acer\\anaconda3\\lib\\site-packages (from spacy<3.8.0,>=3.7.2->en-core-web-sm==3.7.1) (1.26.4)\n",
      "Requirement already satisfied: language-data>=1.2 in c:\\users\\acer\\anaconda3\\lib\\site-packages (from langcodes<4.0.0,>=3.2.0->spacy<3.8.0,>=3.7.2->en-core-web-sm==3.7.1) (1.3.0)\n",
      "Requirement already satisfied: annotated-types>=0.6.0 in c:\\users\\acer\\anaconda3\\lib\\site-packages (from pydantic!=1.8,!=1.8.1,<3.0.0,>=1.7.4->spacy<3.8.0,>=3.7.2->en-core-web-sm==3.7.1) (0.6.0)\n",
      "Requirement already satisfied: pydantic-core==2.33.2 in c:\\users\\acer\\anaconda3\\lib\\site-packages (from pydantic!=1.8,!=1.8.1,<3.0.0,>=1.7.4->spacy<3.8.0,>=3.7.2->en-core-web-sm==3.7.1) (2.33.2)\n",
      "Requirement already satisfied: typing-extensions>=4.12.2 in c:\\users\\acer\\anaconda3\\lib\\site-packages (from pydantic!=1.8,!=1.8.1,<3.0.0,>=1.7.4->spacy<3.8.0,>=3.7.2->en-core-web-sm==3.7.1) (4.14.1)\n",
      "Requirement already satisfied: typing-inspection>=0.4.0 in c:\\users\\acer\\anaconda3\\lib\\site-packages (from pydantic!=1.8,!=1.8.1,<3.0.0,>=1.7.4->spacy<3.8.0,>=3.7.2->en-core-web-sm==3.7.1) (0.4.1)\n",
      "Requirement already satisfied: charset-normalizer<4,>=2 in c:\\users\\acer\\anaconda3\\lib\\site-packages (from requests<3.0.0,>=2.13.0->spacy<3.8.0,>=3.7.2->en-core-web-sm==3.7.1) (2.0.4)\n",
      "Requirement already satisfied: idna<4,>=2.5 in c:\\users\\acer\\anaconda3\\lib\\site-packages (from requests<3.0.0,>=2.13.0->spacy<3.8.0,>=3.7.2->en-core-web-sm==3.7.1) (3.7)\n",
      "Requirement already satisfied: urllib3<3,>=1.21.1 in c:\\users\\acer\\anaconda3\\lib\\site-packages (from requests<3.0.0,>=2.13.0->spacy<3.8.0,>=3.7.2->en-core-web-sm==3.7.1) (2.2.2)\n",
      "Requirement already satisfied: certifi>=2017.4.17 in c:\\users\\acer\\anaconda3\\lib\\site-packages (from requests<3.0.0,>=2.13.0->spacy<3.8.0,>=3.7.2->en-core-web-sm==3.7.1) (2025.7.14)\n",
      "Requirement already satisfied: blis<0.8.0,>=0.7.8 in c:\\users\\acer\\anaconda3\\lib\\site-packages (from thinc<8.3.0,>=8.2.2->spacy<3.8.0,>=3.7.2->en-core-web-sm==3.7.1) (0.7.11)\n",
      "Requirement already satisfied: confection<1.0.0,>=0.0.1 in c:\\users\\acer\\anaconda3\\lib\\site-packages (from thinc<8.3.0,>=8.2.2->spacy<3.8.0,>=3.7.2->en-core-web-sm==3.7.1) (0.1.5)\n",
      "Requirement already satisfied: colorama in c:\\users\\acer\\anaconda3\\lib\\site-packages (from tqdm<5.0.0,>=4.38.0->spacy<3.8.0,>=3.7.2->en-core-web-sm==3.7.1) (0.4.6)\n",
      "Requirement already satisfied: click<9.0.0,>=7.1.1 in c:\\users\\acer\\anaconda3\\lib\\site-packages (from typer<0.10.0,>=0.3.0->spacy<3.8.0,>=3.7.2->en-core-web-sm==3.7.1) (8.1.7)\n",
      "Requirement already satisfied: cloudpathlib<0.17.0,>=0.7.0 in c:\\users\\acer\\anaconda3\\lib\\site-packages (from weasel<0.4.0,>=0.1.0->spacy<3.8.0,>=3.7.2->en-core-web-sm==3.7.1) (0.16.0)\n",
      "Requirement already satisfied: MarkupSafe>=2.0 in c:\\users\\acer\\anaconda3\\lib\\site-packages (from jinja2->spacy<3.8.0,>=3.7.2->en-core-web-sm==3.7.1) (2.1.3)\n",
      "Requirement already satisfied: marisa-trie>=1.1.0 in c:\\users\\acer\\anaconda3\\lib\\site-packages (from language-data>=1.2->langcodes<4.0.0,>=3.2.0->spacy<3.8.0,>=3.7.2->en-core-web-sm==3.7.1) (1.2.1)\n",
      "\u001b[38;5;2m[+] Download and installation successful\u001b[0m\n",
      "You can now load the package via spacy.load('en_core_web_sm')\n",
      "Collecting scikit-learn\n",
      "  Downloading scikit_learn-1.7.0-cp312-cp312-win_amd64.whl.metadata (14 kB)\n",
      "Collecting scipy\n",
      "  Downloading scipy-1.16.0-cp312-cp312-win_amd64.whl.metadata (60 kB)\n",
      "     ---------------------------------------- 0.0/60.8 kB ? eta -:--:--\n",
      "     ---------------------------------------- 60.8/60.8 kB 3.4 MB/s eta 0:00:00\n",
      "Collecting seaborn\n",
      "  Downloading seaborn-0.13.2-py3-none-any.whl.metadata (5.4 kB)\n",
      "Collecting sklearn_crfsuite\n",
      "  Using cached sklearn_crfsuite-0.5.0-py2.py3-none-any.whl.metadata (4.9 kB)\n",
      "Downloading scikit_learn-1.7.0-cp312-cp312-win_amd64.whl (10.7 MB)\n",
      "   ---------------------------------------- 0.0/10.7 MB ? eta -:--:--\n",
      "   -- ------------------------------------- 0.6/10.7 MB 18.5 MB/s eta 0:00:01\n",
      "   ------ --------------------------------- 1.6/10.7 MB 17.3 MB/s eta 0:00:01\n",
      "   --------- ------------------------------ 2.6/10.7 MB 20.7 MB/s eta 0:00:01\n",
      "   ------------ --------------------------- 3.2/10.7 MB 18.6 MB/s eta 0:00:01\n",
      "   -------------- ------------------------- 3.7/10.7 MB 18.4 MB/s eta 0:00:01\n",
      "   -------------- ------------------------- 3.7/10.7 MB 18.4 MB/s eta 0:00:01\n",
      "   -------------- ------------------------- 3.7/10.7 MB 18.4 MB/s eta 0:00:01\n",
      "   -------------- ------------------------- 3.7/10.7 MB 18.4 MB/s eta 0:00:01\n",
      "   -------------- ------------------------- 3.7/10.7 MB 18.4 MB/s eta 0:00:01\n",
      "   --------------- ------------------------ 4.2/10.7 MB 8.8 MB/s eta 0:00:01\n",
      "   ------------------ --------------------- 5.0/10.7 MB 9.6 MB/s eta 0:00:01\n",
      "   --------------------- ------------------ 5.7/10.7 MB 10.1 MB/s eta 0:00:01\n",
      "   ---------------------- ----------------- 5.9/10.7 MB 9.7 MB/s eta 0:00:01\n",
      "   ---------------------- ----------------- 6.1/10.7 MB 9.2 MB/s eta 0:00:01\n",
      "   ----------------------- ---------------- 6.3/10.7 MB 8.9 MB/s eta 0:00:01\n",
      "   ------------------------ --------------- 6.4/10.7 MB 8.5 MB/s eta 0:00:01\n",
      "   ------------------------ --------------- 6.5/10.7 MB 8.2 MB/s eta 0:00:01\n",
      "   ------------------------ --------------- 6.6/10.7 MB 7.8 MB/s eta 0:00:01\n",
      "   ------------------------- -------------- 6.8/10.7 MB 7.6 MB/s eta 0:00:01\n",
      "   -------------------------- ------------- 6.9/10.7 MB 7.4 MB/s eta 0:00:01\n",
      "   -------------------------- ------------- 7.1/10.7 MB 7.2 MB/s eta 0:00:01\n",
      "   --------------------------- ------------ 7.2/10.7 MB 7.0 MB/s eta 0:00:01\n",
      "   --------------------------- ------------ 7.4/10.7 MB 6.8 MB/s eta 0:00:01\n",
      "   ---------------------------- ----------- 7.6/10.7 MB 6.7 MB/s eta 0:00:01\n",
      "   ----------------------------- ---------- 7.7/10.7 MB 6.5 MB/s eta 0:00:01\n",
      "   ----------------------------- ---------- 7.8/10.7 MB 6.4 MB/s eta 0:00:01\n",
      "   ----------------------------- ---------- 7.9/10.7 MB 6.2 MB/s eta 0:00:01\n",
      "   ------------------------------ --------- 8.1/10.7 MB 6.2 MB/s eta 0:00:01\n",
      "   ------------------------------ --------- 8.3/10.7 MB 6.1 MB/s eta 0:00:01\n",
      "   ------------------------------- -------- 8.4/10.7 MB 5.9 MB/s eta 0:00:01\n",
      "   -------------------------------- ------- 8.7/10.7 MB 6.0 MB/s eta 0:00:01\n",
      "   --------------------------------- ------ 8.9/10.7 MB 5.9 MB/s eta 0:00:01\n",
      "   ---------------------------------- ----- 9.2/10.7 MB 5.9 MB/s eta 0:00:01\n",
      "   ----------------------------------- ---- 9.6/10.7 MB 5.9 MB/s eta 0:00:01\n",
      "   ------------------------------------- -- 9.9/10.7 MB 6.0 MB/s eta 0:00:01\n",
      "   -------------------------------------- - 10.2/10.7 MB 6.0 MB/s eta 0:00:01\n",
      "   ---------------------------------------  10.5/10.7 MB 5.9 MB/s eta 0:00:01\n",
      "   ---------------------------------------  10.7/10.7 MB 5.8 MB/s eta 0:00:01\n",
      "   ---------------------------------------- 10.7/10.7 MB 5.7 MB/s eta 0:00:00\n",
      "Downloading scipy-1.16.0-cp312-cp312-win_amd64.whl (38.4 MB)\n",
      "   ---------------------------------------- 0.0/38.4 MB ? eta -:--:--\n",
      "   ---------------------------------------- 0.2/38.4 MB 6.9 MB/s eta 0:00:06\n",
      "   ---------------------------------------- 0.5/38.4 MB 4.9 MB/s eta 0:00:08\n",
      "    --------------------------------------- 0.8/38.4 MB 6.1 MB/s eta 0:00:07\n",
      "   - -------------------------------------- 1.0/38.4 MB 5.9 MB/s eta 0:00:07\n",
      "   - -------------------------------------- 1.3/38.4 MB 5.3 MB/s eta 0:00:07\n",
      "   - -------------------------------------- 1.5/38.4 MB 5.6 MB/s eta 0:00:07\n",
      "   - -------------------------------------- 1.7/38.4 MB 5.2 MB/s eta 0:00:08\n",
      "   -- ------------------------------------- 2.0/38.4 MB 5.4 MB/s eta 0:00:07\n",
      "   -- ------------------------------------- 2.2/38.4 MB 5.2 MB/s eta 0:00:07\n",
      "   -- ------------------------------------- 2.4/38.4 MB 5.1 MB/s eta 0:00:08\n",
      "   -- ------------------------------------- 2.6/38.4 MB 5.1 MB/s eta 0:00:08\n",
      "   -- ------------------------------------- 2.8/38.4 MB 4.9 MB/s eta 0:00:08\n",
      "   --- ------------------------------------ 3.0/38.4 MB 4.9 MB/s eta 0:00:08\n",
      "   --- ------------------------------------ 3.2/38.4 MB 4.9 MB/s eta 0:00:08\n",
      "   --- ------------------------------------ 3.4/38.4 MB 4.9 MB/s eta 0:00:08\n",
      "   --- ------------------------------------ 3.6/38.4 MB 4.7 MB/s eta 0:00:08\n",
      "   --- ------------------------------------ 3.7/38.4 MB 4.7 MB/s eta 0:00:08\n",
      "   ---- ----------------------------------- 3.9/38.4 MB 4.6 MB/s eta 0:00:08\n",
      "   ---- ----------------------------------- 4.1/38.4 MB 4.5 MB/s eta 0:00:08\n",
      "   ---- ----------------------------------- 4.2/38.4 MB 4.4 MB/s eta 0:00:08\n",
      "   ---- ----------------------------------- 4.4/38.4 MB 4.5 MB/s eta 0:00:08\n",
      "   ---- ----------------------------------- 4.7/38.4 MB 4.5 MB/s eta 0:00:08\n",
      "   ----- ---------------------------------- 5.0/38.4 MB 4.6 MB/s eta 0:00:08\n",
      "   ----- ---------------------------------- 5.3/38.4 MB 4.6 MB/s eta 0:00:08\n",
      "   ----- ---------------------------------- 5.6/38.4 MB 4.8 MB/s eta 0:00:07\n",
      "   ------ --------------------------------- 6.0/38.4 MB 4.8 MB/s eta 0:00:07\n",
      "   ------ --------------------------------- 6.3/38.4 MB 5.0 MB/s eta 0:00:07\n",
      "   ------ --------------------------------- 6.6/38.4 MB 5.0 MB/s eta 0:00:07\n",
      "   ------- -------------------------------- 6.9/38.4 MB 5.0 MB/s eta 0:00:07\n",
      "   ------- -------------------------------- 7.1/38.4 MB 5.0 MB/s eta 0:00:07\n",
      "   ------- -------------------------------- 7.2/38.4 MB 4.9 MB/s eta 0:00:07\n",
      "   ------- -------------------------------- 7.4/38.4 MB 4.9 MB/s eta 0:00:07\n",
      "   ------- -------------------------------- 7.6/38.4 MB 4.9 MB/s eta 0:00:07\n",
      "   -------- ------------------------------- 7.8/38.4 MB 4.9 MB/s eta 0:00:07\n",
      "   -------- ------------------------------- 8.0/38.4 MB 4.8 MB/s eta 0:00:07\n",
      "   -------- ------------------------------- 8.2/38.4 MB 4.8 MB/s eta 0:00:07\n",
      "   -------- ------------------------------- 8.3/38.4 MB 4.8 MB/s eta 0:00:07\n",
      "   -------- ------------------------------- 8.5/38.4 MB 4.7 MB/s eta 0:00:07\n",
      "   -------- ------------------------------- 8.6/38.4 MB 4.7 MB/s eta 0:00:07\n",
      "   --------- ------------------------------ 8.8/38.4 MB 4.7 MB/s eta 0:00:07\n",
      "   --------- ------------------------------ 9.0/38.4 MB 4.6 MB/s eta 0:00:07\n",
      "   --------- ------------------------------ 9.2/38.4 MB 4.6 MB/s eta 0:00:07\n",
      "   --------- ------------------------------ 9.4/38.4 MB 4.6 MB/s eta 0:00:07\n",
      "   ---------- ----------------------------- 9.7/38.4 MB 4.6 MB/s eta 0:00:07\n",
      "   ---------- ----------------------------- 9.9/38.4 MB 4.6 MB/s eta 0:00:07\n",
      "   ---------- ----------------------------- 10.1/38.4 MB 4.7 MB/s eta 0:00:07\n",
      "   ---------- ----------------------------- 10.4/38.4 MB 4.6 MB/s eta 0:00:07\n",
      "   ----------- ---------------------------- 10.7/38.4 MB 4.7 MB/s eta 0:00:06\n",
      "   ----------- ---------------------------- 11.1/38.4 MB 4.7 MB/s eta 0:00:06\n",
      "   ----------- ---------------------------- 11.4/38.4 MB 4.7 MB/s eta 0:00:06\n",
      "   ------------ --------------------------- 11.7/38.4 MB 4.7 MB/s eta 0:00:06\n",
      "   ------------ --------------------------- 12.1/38.4 MB 4.8 MB/s eta 0:00:06\n",
      "   ------------ --------------------------- 12.3/38.4 MB 4.8 MB/s eta 0:00:06\n",
      "   ------------- -------------------------- 12.6/38.4 MB 4.9 MB/s eta 0:00:06\n",
      "   ------------- -------------------------- 12.7/38.4 MB 4.9 MB/s eta 0:00:06\n",
      "   ------------- -------------------------- 13.0/38.4 MB 4.9 MB/s eta 0:00:06\n",
      "   ------------- -------------------------- 13.2/38.4 MB 4.9 MB/s eta 0:00:06\n",
      "   -------------- ------------------------- 13.5/38.4 MB 4.9 MB/s eta 0:00:06\n",
      "   -------------- ------------------------- 13.8/38.4 MB 5.0 MB/s eta 0:00:05\n",
      "   -------------- ------------------------- 14.0/38.4 MB 5.0 MB/s eta 0:00:05\n",
      "   -------------- ------------------------- 14.2/38.4 MB 5.1 MB/s eta 0:00:05\n",
      "   --------------- ------------------------ 14.5/38.4 MB 5.1 MB/s eta 0:00:05\n",
      "   --------------- ------------------------ 14.7/38.4 MB 5.2 MB/s eta 0:00:05\n",
      "   --------------- ------------------------ 14.9/38.4 MB 5.2 MB/s eta 0:00:05\n",
      "   --------------- ------------------------ 15.3/38.4 MB 5.2 MB/s eta 0:00:05\n",
      "   ---------------- ----------------------- 15.6/38.4 MB 5.2 MB/s eta 0:00:05\n",
      "   ---------------- ----------------------- 15.9/38.4 MB 5.2 MB/s eta 0:00:05\n",
      "   ---------------- ----------------------- 16.1/38.4 MB 5.1 MB/s eta 0:00:05\n",
      "   ---------------- ----------------------- 16.3/38.4 MB 5.1 MB/s eta 0:00:05\n",
      "   ----------------- ---------------------- 16.5/38.4 MB 5.0 MB/s eta 0:00:05\n",
      "   ----------------- ---------------------- 16.6/38.4 MB 4.9 MB/s eta 0:00:05\n",
      "   ----------------- ---------------------- 16.7/38.4 MB 4.8 MB/s eta 0:00:05\n",
      "   ----------------- ---------------------- 16.8/38.4 MB 4.8 MB/s eta 0:00:05\n",
      "   ----------------- ---------------------- 17.0/38.4 MB 4.7 MB/s eta 0:00:05\n",
      "   ----------------- ---------------------- 17.1/38.4 MB 4.7 MB/s eta 0:00:05\n",
      "   ------------------ --------------------- 17.3/38.4 MB 4.7 MB/s eta 0:00:05\n",
      "   ------------------ --------------------- 17.4/38.4 MB 4.7 MB/s eta 0:00:05\n",
      "   ------------------ --------------------- 17.5/38.4 MB 4.6 MB/s eta 0:00:05\n",
      "   ------------------ --------------------- 17.7/38.4 MB 4.6 MB/s eta 0:00:05\n",
      "   ------------------ --------------------- 17.8/38.4 MB 4.6 MB/s eta 0:00:05\n",
      "   ------------------ --------------------- 18.0/38.4 MB 4.5 MB/s eta 0:00:05\n",
      "   ------------------ --------------------- 18.2/38.4 MB 4.6 MB/s eta 0:00:05\n",
      "   ------------------- -------------------- 18.4/38.4 MB 4.5 MB/s eta 0:00:05\n",
      "   ------------------- -------------------- 18.5/38.4 MB 4.5 MB/s eta 0:00:05\n",
      "   ------------------- -------------------- 18.7/38.4 MB 4.5 MB/s eta 0:00:05\n",
      "   ------------------- -------------------- 18.9/38.4 MB 4.6 MB/s eta 0:00:05\n",
      "   ------------------- -------------------- 19.1/38.4 MB 4.6 MB/s eta 0:00:05\n",
      "   -------------------- ------------------- 19.3/38.4 MB 4.6 MB/s eta 0:00:05\n",
      "   -------------------- ------------------- 19.5/38.4 MB 4.6 MB/s eta 0:00:05\n",
      "   -------------------- ------------------- 19.7/38.4 MB 4.6 MB/s eta 0:00:05\n",
      "   -------------------- ------------------- 19.8/38.4 MB 4.5 MB/s eta 0:00:05\n",
      "   -------------------- ------------------- 20.0/38.4 MB 4.5 MB/s eta 0:00:05\n",
      "   -------------------- ------------------- 20.1/38.4 MB 4.5 MB/s eta 0:00:05\n",
      "   --------------------- ------------------ 20.2/38.4 MB 4.5 MB/s eta 0:00:05\n",
      "   --------------------- ------------------ 20.3/38.4 MB 4.4 MB/s eta 0:00:05\n",
      "   --------------------- ------------------ 20.4/38.4 MB 4.4 MB/s eta 0:00:05\n",
      "   --------------------- ------------------ 20.6/38.4 MB 4.3 MB/s eta 0:00:05\n",
      "   --------------------- ------------------ 20.7/38.4 MB 4.3 MB/s eta 0:00:05\n",
      "   --------------------- ------------------ 21.0/38.4 MB 4.3 MB/s eta 0:00:05\n",
      "   ---------------------- ----------------- 21.3/38.4 MB 4.3 MB/s eta 0:00:05\n",
      "   ---------------------- ----------------- 21.5/38.4 MB 4.2 MB/s eta 0:00:05\n",
      "   ---------------------- ----------------- 21.8/38.4 MB 4.2 MB/s eta 0:00:04\n",
      "   ---------------------- ----------------- 22.1/38.4 MB 4.2 MB/s eta 0:00:04\n",
      "   ----------------------- ---------------- 22.3/38.4 MB 4.2 MB/s eta 0:00:04\n",
      "   ----------------------- ---------------- 22.5/38.4 MB 4.2 MB/s eta 0:00:04\n",
      "   ----------------------- ---------------- 22.8/38.4 MB 4.2 MB/s eta 0:00:04\n",
      "   ------------------------ --------------- 23.1/38.4 MB 4.3 MB/s eta 0:00:04\n",
      "   ------------------------ --------------- 23.4/38.4 MB 4.3 MB/s eta 0:00:04\n",
      "   ------------------------ --------------- 23.8/38.4 MB 4.3 MB/s eta 0:00:04\n",
      "   ------------------------- -------------- 24.1/38.4 MB 4.3 MB/s eta 0:00:04\n",
      "   ------------------------- -------------- 24.5/38.4 MB 4.4 MB/s eta 0:00:04\n",
      "   ------------------------- -------------- 24.8/38.4 MB 4.4 MB/s eta 0:00:04\n",
      "   -------------------------- ------------- 25.1/38.4 MB 4.4 MB/s eta 0:00:04\n",
      "   -------------------------- ------------- 25.3/38.4 MB 4.4 MB/s eta 0:00:04\n",
      "   -------------------------- ------------- 25.5/38.4 MB 4.3 MB/s eta 0:00:03\n",
      "   -------------------------- ------------- 25.6/38.4 MB 4.3 MB/s eta 0:00:03\n",
      "   -------------------------- ------------- 25.8/38.4 MB 4.2 MB/s eta 0:00:03\n",
      "   -------------------------- ------------- 25.9/38.4 MB 4.2 MB/s eta 0:00:03\n",
      "   --------------------------- ------------ 26.1/38.4 MB 4.1 MB/s eta 0:00:03\n",
      "   --------------------------- ------------ 26.2/38.4 MB 4.1 MB/s eta 0:00:03\n",
      "   --------------------------- ------------ 26.4/38.4 MB 4.1 MB/s eta 0:00:03\n",
      "   --------------------------- ------------ 26.6/38.4 MB 4.1 MB/s eta 0:00:03\n",
      "   --------------------------- ------------ 26.9/38.4 MB 4.2 MB/s eta 0:00:03\n",
      "   ---------------------------- ----------- 27.1/38.4 MB 4.3 MB/s eta 0:00:03\n",
      "   ---------------------------- ----------- 27.3/38.4 MB 4.3 MB/s eta 0:00:03\n",
      "   ---------------------------- ----------- 27.6/38.4 MB 4.4 MB/s eta 0:00:03\n",
      "   ---------------------------- ----------- 27.8/38.4 MB 4.5 MB/s eta 0:00:03\n",
      "   ----------------------------- ---------- 28.1/38.4 MB 4.5 MB/s eta 0:00:03\n",
      "   ----------------------------- ---------- 28.4/38.4 MB 4.6 MB/s eta 0:00:03\n",
      "   ----------------------------- ---------- 28.7/38.4 MB 4.7 MB/s eta 0:00:03\n",
      "   ------------------------------ --------- 29.0/38.4 MB 4.8 MB/s eta 0:00:02\n",
      "   ------------------------------ --------- 29.2/38.4 MB 4.8 MB/s eta 0:00:02\n",
      "   ------------------------------ --------- 29.3/38.4 MB 4.8 MB/s eta 0:00:02\n",
      "   ------------------------------ --------- 29.3/38.4 MB 4.7 MB/s eta 0:00:02\n",
      "   ------------------------------ --------- 29.5/38.4 MB 4.6 MB/s eta 0:00:02\n",
      "   ------------------------------ --------- 29.6/38.4 MB 4.6 MB/s eta 0:00:02\n",
      "   ------------------------------- -------- 29.8/38.4 MB 4.6 MB/s eta 0:00:02\n",
      "   ------------------------------- -------- 30.0/38.4 MB 4.6 MB/s eta 0:00:02\n",
      "   ------------------------------- -------- 30.3/38.4 MB 4.7 MB/s eta 0:00:02\n",
      "   ------------------------------- -------- 30.5/38.4 MB 4.7 MB/s eta 0:00:02\n",
      "   ------------------------------- -------- 30.7/38.4 MB 4.9 MB/s eta 0:00:02\n",
      "   -------------------------------- ------- 30.9/38.4 MB 4.9 MB/s eta 0:00:02\n",
      "   -------------------------------- ------- 31.2/38.4 MB 5.0 MB/s eta 0:00:02\n",
      "   -------------------------------- ------- 31.5/38.4 MB 5.0 MB/s eta 0:00:02\n",
      "   -------------------------------- ------- 31.6/38.4 MB 4.9 MB/s eta 0:00:02\n",
      "   --------------------------------- ------ 31.9/38.4 MB 4.9 MB/s eta 0:00:02\n",
      "   --------------------------------- ------ 32.1/38.4 MB 4.9 MB/s eta 0:00:02\n",
      "   --------------------------------- ------ 32.2/38.4 MB 4.8 MB/s eta 0:00:02\n",
      "   --------------------------------- ------ 32.4/38.4 MB 4.8 MB/s eta 0:00:02\n",
      "   --------------------------------- ------ 32.6/38.4 MB 4.8 MB/s eta 0:00:02\n",
      "   ---------------------------------- ----- 32.7/38.4 MB 4.7 MB/s eta 0:00:02\n",
      "   ---------------------------------- ----- 32.9/38.4 MB 4.7 MB/s eta 0:00:02\n",
      "   ---------------------------------- ----- 33.0/38.4 MB 4.6 MB/s eta 0:00:02\n",
      "   ---------------------------------- ----- 33.1/38.4 MB 4.6 MB/s eta 0:00:02\n",
      "   ---------------------------------- ----- 33.2/38.4 MB 4.5 MB/s eta 0:00:02\n",
      "   ---------------------------------- ----- 33.4/38.4 MB 4.5 MB/s eta 0:00:02\n",
      "   ---------------------------------- ----- 33.5/38.4 MB 4.4 MB/s eta 0:00:02\n",
      "   ----------------------------------- ---- 33.8/38.4 MB 4.4 MB/s eta 0:00:02\n",
      "   ----------------------------------- ---- 34.0/38.4 MB 4.3 MB/s eta 0:00:02\n",
      "   ----------------------------------- ---- 34.3/38.4 MB 4.3 MB/s eta 0:00:01\n",
      "   ----------------------------------- ---- 34.6/38.4 MB 4.3 MB/s eta 0:00:01\n",
      "   ------------------------------------ --- 34.9/38.4 MB 4.3 MB/s eta 0:00:01\n",
      "   ------------------------------------ --- 35.2/38.4 MB 4.3 MB/s eta 0:00:01\n",
      "   ------------------------------------- -- 35.6/38.4 MB 4.4 MB/s eta 0:00:01\n",
      "   ------------------------------------- -- 36.0/38.4 MB 4.6 MB/s eta 0:00:01\n",
      "   ------------------------------------- -- 36.4/38.4 MB 4.7 MB/s eta 0:00:01\n",
      "   -------------------------------------- - 36.7/38.4 MB 4.7 MB/s eta 0:00:01\n",
      "   -------------------------------------- - 37.0/38.4 MB 4.7 MB/s eta 0:00:01\n",
      "   -------------------------------------- - 37.2/38.4 MB 4.8 MB/s eta 0:00:01\n",
      "   -------------------------------------- - 37.4/38.4 MB 4.8 MB/s eta 0:00:01\n",
      "   ---------------------------------------  37.6/38.4 MB 4.7 MB/s eta 0:00:01\n",
      "   ---------------------------------------  37.8/38.4 MB 4.7 MB/s eta 0:00:01\n",
      "   ---------------------------------------  38.0/38.4 MB 4.7 MB/s eta 0:00:01\n",
      "   ---------------------------------------  38.2/38.4 MB 4.7 MB/s eta 0:00:01\n",
      "   ---------------------------------------  38.4/38.4 MB 4.6 MB/s eta 0:00:01\n",
      "   ---------------------------------------  38.4/38.4 MB 4.6 MB/s eta 0:00:01\n",
      "   ---------------------------------------- 38.4/38.4 MB 4.4 MB/s eta 0:00:00\n",
      "Downloading seaborn-0.13.2-py3-none-any.whl (294 kB)\n",
      "   ---------------------------------------- 0.0/294.9 kB ? eta -:--:--\n",
      "   ------------------- -------------------- 143.4/294.9 kB 2.8 MB/s eta 0:00:01\n",
      "   -------------------------------------- - 286.7/294.9 kB 2.9 MB/s eta 0:00:01\n",
      "   ---------------------------------------- 294.9/294.9 kB 2.6 MB/s eta 0:00:00\n",
      "Using cached sklearn_crfsuite-0.5.0-py2.py3-none-any.whl (10 kB)\n",
      "Installing collected packages: sklearn_crfsuite, seaborn, scipy, scikit-learn\n",
      "  Attempting uninstall: sklearn_crfsuite\n",
      "    Found existing installation: sklearn-crfsuite 0.5.0\n",
      "    Uninstalling sklearn-crfsuite-0.5.0:\n",
      "      Successfully uninstalled sklearn-crfsuite-0.5.0\n",
      "  Attempting uninstall: seaborn\n",
      "    Found existing installation: seaborn 0.13.2\n",
      "    Uninstalling seaborn-0.13.2:\n",
      "      Successfully uninstalled seaborn-0.13.2\n",
      "  Attempting uninstall: scipy\n",
      "    Found existing installation: scipy 1.13.1\n",
      "    Uninstalling scipy-1.13.1:\n",
      "      Successfully uninstalled scipy-1.13.1\n",
      "  Attempting uninstall: scikit-learn\n",
      "    Found existing installation: scikit-learn 1.4.2\n",
      "    Uninstalling scikit-learn-1.4.2:\n",
      "      Successfully uninstalled scikit-learn-1.4.2\n",
      "Successfully installed scikit-learn-1.7.0 scipy-1.16.0 seaborn-0.13.2 sklearn_crfsuite-0.5.0\n"
     ]
    }
   ],
   "source": [
    "# installation of sklearn_crfsuite\n",
    "!pip install sklearn_crfsuite==0.5.0\n",
    "!pip install numpy==1.26.4\n",
    "!pip install spacy==3.7.4 --no-deps\n",
    "!python -m spacy download en_core_web_sm\n",
    "!pip install --force-reinstall --no-deps scikit-learn scipy seaborn sklearn_crfsuite"
   ]
  },
  {
   "cell_type": "code",
   "execution_count": 1,
   "metadata": {},
   "outputs": [
    {
     "name": "stdout",
     "output_type": "stream",
     "text": [
      "Collecting scikit-learn\n",
      "  Using cached scikit_learn-1.7.0-cp312-cp312-win_amd64.whl.metadata (14 kB)\n",
      "Collecting threadpoolctl\n",
      "  Using cached threadpoolctl-3.6.0-py3-none-any.whl.metadata (13 kB)\n",
      "Collecting joblib\n",
      "  Using cached joblib-1.5.1-py3-none-any.whl.metadata (5.6 kB)\n",
      "Using cached scikit_learn-1.7.0-cp312-cp312-win_amd64.whl (10.7 MB)\n",
      "Using cached threadpoolctl-3.6.0-py3-none-any.whl (18 kB)\n",
      "Using cached joblib-1.5.1-py3-none-any.whl (307 kB)\n",
      "Installing collected packages: threadpoolctl, scikit-learn, joblib\n",
      "  Attempting uninstall: threadpoolctl\n",
      "    Found existing installation: threadpoolctl 3.6.0\n",
      "    Uninstalling threadpoolctl-3.6.0:\n",
      "      Successfully uninstalled threadpoolctl-3.6.0\n",
      "  Attempting uninstall: scikit-learn\n",
      "    Found existing installation: scikit-learn 1.7.0\n",
      "    Uninstalling scikit-learn-1.7.0:\n",
      "      Successfully uninstalled scikit-learn-1.7.0\n",
      "  Attempting uninstall: joblib\n",
      "    Found existing installation: joblib 1.5.1\n",
      "    Uninstalling joblib-1.5.1:\n",
      "      Successfully uninstalled joblib-1.5.1\n",
      "Successfully installed joblib-1.5.1 scikit-learn-1.7.0 threadpoolctl-3.6.0\n"
     ]
    }
   ],
   "source": [
    "!pip install --force-reinstall --no-deps scikit-learn threadpoolctl joblib"
   ]
  },
  {
   "cell_type": "markdown",
   "metadata": {
    "id": "svqZwrHT3rzV"
   },
   "source": [
    "#### **1.2** Import necessary libraries"
   ]
  },
  {
   "cell_type": "code",
   "execution_count": 13,
   "metadata": {
    "id": "v2zLbaB0w1ZH"
   },
   "outputs": [],
   "source": [
    "# Import warnings\n",
    "import warnings\n",
    "warnings.filterwarnings('ignore')"
   ]
  },
  {
   "cell_type": "code",
   "execution_count": 179,
   "metadata": {
    "id": "0hlp-Ln4WsaV"
   },
   "outputs": [],
   "source": [
    "# Import necessary libraries\n",
    "import json  # For handling JSON data\n",
    "import pandas as pd  # For data manipulation and analysis\n",
    "import re  # For regular expressions (useful for text preprocessing)\n",
    "import matplotlib.pyplot as plt  # For visualisation\n",
    "import seaborn as sns  # For advanced data visualisation\n",
    "import sklearn_crfsuite  # CRF (Conditional Random Fields) implementation for sequence modeling\n",
    "import numpy as np  # For numerical computations\n",
    "# Saving and loading machine learning models\n",
    "import joblib\n",
    "import random\n",
    "import numpy as np\n",
    "import spacy\n",
    "import sklearn\n",
    "from IPython.display import display, Markdown # For displaying well-formatted output\n",
    "\n",
    "from fractions import Fraction  # For handling fractional values in numerical data\n",
    "# Importing tools for feature engineering and model training\n",
    "from collections import Counter  # For counting occurrences of elements in a list\n",
    "from sklearn.model_selection import train_test_split  # For splitting dataset into train and test sets\n",
    "from sklearn_crfsuite import metrics  # For evaluating CRF models\n",
    "from sklearn_crfsuite.metrics import flat_classification_report\n",
    "from sklearn.utils.class_weight import compute_class_weight\n",
    "from collections import Counter\n",
    "from sklearn.metrics import ConfusionMatrixDisplay, confusion_matrix"
   ]
  },
  {
   "cell_type": "code",
   "execution_count": 29,
   "metadata": {
    "id": "k3_LR6N_2cli"
   },
   "outputs": [],
   "source": [
    "# Ensure pandas displays full content\n",
    "pd.set_option('display.max_colwidth', None)\n",
    "pd.set_option('display.expand_frame_repr', False)"
   ]
  },
  {
   "cell_type": "markdown",
   "metadata": {
    "id": "fUOu_u0fyMfh"
   },
   "source": [
    "## **2** Data Ingestion and Preparation <font color = red>[25 marks]</font> <br>"
   ]
  },
  {
   "cell_type": "markdown",
   "metadata": {
    "id": "-ksMVNgeyiLN"
   },
   "source": [
    "#### **2.1** *Read Recipe Data from Dataframe and prepare the data for analysis* <font color = red>[12 marks]</font> <br>\n",
    "Read the data from JSON file, print first five rows and describe the dataframe"
   ]
  },
  {
   "cell_type": "markdown",
   "metadata": {
    "id": "kxn28jL3z4GY"
   },
   "source": [
    "##### **2.1.1** **Define a *load_json_dataframe* function** <font color = red>[7 marks]</font> <br>\n",
    "\n",
    "Define a function that takes path of the ingredient_and_quantity.json file and reads it, convert it into dataframe - df and return it."
   ]
  },
  {
   "cell_type": "code",
   "execution_count": 33,
   "metadata": {
    "id": "dq6UgUYcPyOL"
   },
   "outputs": [
    {
     "data": {
      "text/html": [
       "<div>\n",
       "<style scoped>\n",
       "    .dataframe tbody tr th:only-of-type {\n",
       "        vertical-align: middle;\n",
       "    }\n",
       "\n",
       "    .dataframe tbody tr th {\n",
       "        vertical-align: top;\n",
       "    }\n",
       "\n",
       "    .dataframe thead th {\n",
       "        text-align: right;\n",
       "    }\n",
       "</style>\n",
       "<table border=\"1\" class=\"dataframe\">\n",
       "  <thead>\n",
       "    <tr style=\"text-align: right;\">\n",
       "      <th></th>\n",
       "      <th>input</th>\n",
       "      <th>pos</th>\n",
       "    </tr>\n",
       "  </thead>\n",
       "  <tbody>\n",
       "    <tr>\n",
       "      <th>0</th>\n",
       "      <td>6 Karela Bitter Gourd Pavakkai Salt 1 Onion 3 tablespoon Gram flour besan 2 teaspoons Turmeric powder Haldi Red Chilli Cumin seeds Jeera Coriander Powder Dhania Amchur Dry Mango Sunflower Oil</td>\n",
       "      <td>quantity ingredient ingredient ingredient ingredient ingredient quantity ingredient quantity unit ingredient ingredient ingredient quantity unit ingredient ingredient ingredient ingredient ingredient ingredient ingredient ingredient ingredient ingredient ingredient ingredient ingredient ingredient ingredient ingredient</td>\n",
       "    </tr>\n",
       "    <tr>\n",
       "      <th>1</th>\n",
       "      <td>2-1/2 cups rice cooked 3 tomatoes teaspoons BC Belle Bhat powder 1 teaspoon chickpea lentils 1/2 cumin seeds white urad dal mustard green chilli dry red 2 cashew or peanuts 1-1/2 tablespoon oil asafoetida</td>\n",
       "      <td>quantity unit ingredient ingredient quantity ingredient unit ingredient ingredient ingredient ingredient quantity unit ingredient ingredient quantity ingredient ingredient ingredient ingredient ingredient ingredient ingredient ingredient ingredient ingredient quantity ingredient ingredient ingredient quantity unit ingredient ingredient</td>\n",
       "    </tr>\n",
       "    <tr>\n",
       "      <th>2</th>\n",
       "      <td>1-1/2 cups Rice Vermicelli Noodles Thin 1 Onion sliced 1/2 cup Carrots Gajjar chopped 1/3 Green peas Matar 2 Chillies 1/4 teaspoon Asafoetida hing Mustard seeds White Urad Dal Split Ghee sprig Curry leaves Salt Lemon juice</td>\n",
       "      <td>quantity unit ingredient ingredient ingredient ingredient quantity ingredient ingredient quantity unit ingredient ingredient ingredient quantity ingredient ingredient ingredient quantity ingredient quantity unit ingredient ingredient ingredient ingredient ingredient ingredient ingredient ingredient ingredient unit ingredient ingredient ingredient ingredient ingredient</td>\n",
       "    </tr>\n",
       "    <tr>\n",
       "      <th>3</th>\n",
       "      <td>500 grams Chicken 2 Onion chopped 1 Tomato 4 Green Chillies slit inch Ginger finely 6 cloves Garlic 1/2 teaspoon Turmeric powder Haldi Garam masala tablespoon Sesame Gingelly Oil 1/4 Methi Seeds Fenugreek Coriander Dhania Dry Red Fennel seeds Saunf cups Sorrel Leaves Gongura picked and</td>\n",
       "      <td>quantity unit ingredient quantity ingredient ingredient quantity ingredient quantity ingredient ingredient ingredient unit ingredient ingredient quantity unit ingredient quantity unit ingredient ingredient ingredient ingredient ingredient unit ingredient ingredient ingredient quantity ingredient ingredient ingredient ingredient ingredient ingredient ingredient ingredient ingredient ingredient unit ingredient ingredient ingredient ingredient ingredient</td>\n",
       "    </tr>\n",
       "    <tr>\n",
       "      <th>4</th>\n",
       "      <td>1 tablespoon chana dal white urad 2 red chillies coriander seeds 3 inches ginger onion tomato Teaspoon mustard asafoetida sprig curry</td>\n",
       "      <td>quantity unit ingredient ingredient ingredient ingredient quantity ingredient ingredient ingredient ingredient quantity unit ingredient ingredient ingredient unit ingredient ingredient unit ingredient</td>\n",
       "    </tr>\n",
       "  </tbody>\n",
       "</table>\n",
       "</div>"
      ],
      "text/plain": [
       "                                                                                                                                                                                                                                                                                            input                                                                                                                                                                                                                                                                                                                                                                                                                                                                      pos\n",
       "0                                                                                                 6 Karela Bitter Gourd Pavakkai Salt 1 Onion 3 tablespoon Gram flour besan 2 teaspoons Turmeric powder Haldi Red Chilli Cumin seeds Jeera Coriander Powder Dhania Amchur Dry Mango Sunflower Oil                                                                                                                                         quantity ingredient ingredient ingredient ingredient ingredient quantity ingredient quantity unit ingredient ingredient ingredient quantity unit ingredient ingredient ingredient ingredient ingredient ingredient ingredient ingredient ingredient ingredient ingredient ingredient ingredient ingredient ingredient ingredient\n",
       "1                                                                                    2-1/2 cups rice cooked 3 tomatoes teaspoons BC Belle Bhat powder 1 teaspoon chickpea lentils 1/2 cumin seeds white urad dal mustard green chilli dry red 2 cashew or peanuts 1-1/2 tablespoon oil asafoetida                                                                                                                        quantity unit ingredient ingredient quantity ingredient unit ingredient ingredient ingredient ingredient quantity unit ingredient ingredient quantity ingredient ingredient ingredient ingredient ingredient ingredient ingredient ingredient ingredient ingredient quantity ingredient ingredient ingredient quantity unit ingredient ingredient\n",
       "2                                                                  1-1/2 cups Rice Vermicelli Noodles Thin 1 Onion sliced 1/2 cup Carrots Gajjar chopped 1/3 Green peas Matar 2 Chillies 1/4 teaspoon Asafoetida hing Mustard seeds White Urad Dal Split Ghee sprig Curry leaves Salt Lemon juice                                                                                       quantity unit ingredient ingredient ingredient ingredient quantity ingredient ingredient quantity unit ingredient ingredient ingredient quantity ingredient ingredient ingredient quantity ingredient quantity unit ingredient ingredient ingredient ingredient ingredient ingredient ingredient ingredient ingredient unit ingredient ingredient ingredient ingredient ingredient\n",
       "3  500 grams Chicken 2 Onion chopped 1 Tomato 4 Green Chillies slit inch Ginger finely 6 cloves Garlic 1/2 teaspoon Turmeric powder Haldi Garam masala tablespoon Sesame Gingelly Oil 1/4 Methi Seeds Fenugreek Coriander Dhania Dry Red Fennel seeds Saunf cups Sorrel Leaves Gongura picked and  quantity unit ingredient quantity ingredient ingredient quantity ingredient quantity ingredient ingredient ingredient unit ingredient ingredient quantity unit ingredient quantity unit ingredient ingredient ingredient ingredient ingredient unit ingredient ingredient ingredient quantity ingredient ingredient ingredient ingredient ingredient ingredient ingredient ingredient ingredient ingredient unit ingredient ingredient ingredient ingredient ingredient\n",
       "4                                                                                                                                                           1 tablespoon chana dal white urad 2 red chillies coriander seeds 3 inches ginger onion tomato Teaspoon mustard asafoetida sprig curry                                                                                                                                                                                                                                                                 quantity unit ingredient ingredient ingredient ingredient quantity ingredient ingredient ingredient ingredient quantity unit ingredient ingredient ingredient unit ingredient ingredient unit ingredient"
      ]
     },
     "execution_count": 33,
     "metadata": {},
     "output_type": "execute_result"
    }
   ],
   "source": [
    "# define a function to load json file to a dataframe\n",
    "\n",
    "def load_json_dataframe(json_path):\n",
    "    with open(json_path, 'r') as file:\n",
    "        data = json.load(file)\n",
    "    df = pd.DataFrame(data)\n",
    "    return df\n",
    "\n",
    "# Load the DataFrame\n",
    "json_path = 'ingredient_and_quantity.json'\n",
    "df = load_json_dataframe(json_path)\n",
    "df.head()"
   ]
  },
  {
   "cell_type": "markdown",
   "metadata": {
    "id": "1NlhkH_605IA"
   },
   "source": [
    "##### **2.1.2** **Execute the *load_json_dataframe* function** <font color = red>[2 marks]</font> <br>"
   ]
  },
  {
   "cell_type": "code",
   "execution_count": 35,
   "metadata": {
    "id": "UONMkMsrxdxB"
   },
   "outputs": [
    {
     "data": {
      "text/html": [
       "<div>\n",
       "<style scoped>\n",
       "    .dataframe tbody tr th:only-of-type {\n",
       "        vertical-align: middle;\n",
       "    }\n",
       "\n",
       "    .dataframe tbody tr th {\n",
       "        vertical-align: top;\n",
       "    }\n",
       "\n",
       "    .dataframe thead th {\n",
       "        text-align: right;\n",
       "    }\n",
       "</style>\n",
       "<table border=\"1\" class=\"dataframe\">\n",
       "  <thead>\n",
       "    <tr style=\"text-align: right;\">\n",
       "      <th></th>\n",
       "      <th>input</th>\n",
       "      <th>pos</th>\n",
       "    </tr>\n",
       "  </thead>\n",
       "  <tbody>\n",
       "    <tr>\n",
       "      <th>0</th>\n",
       "      <td>6 Karela Bitter Gourd Pavakkai Salt 1 Onion 3 tablespoon Gram flour besan 2 teaspoons Turmeric powder Haldi Red Chilli Cumin seeds Jeera Coriander Powder Dhania Amchur Dry Mango Sunflower Oil</td>\n",
       "      <td>quantity ingredient ingredient ingredient ingredient ingredient quantity ingredient quantity unit ingredient ingredient ingredient quantity unit ingredient ingredient ingredient ingredient ingredient ingredient ingredient ingredient ingredient ingredient ingredient ingredient ingredient ingredient ingredient ingredient</td>\n",
       "    </tr>\n",
       "    <tr>\n",
       "      <th>1</th>\n",
       "      <td>2-1/2 cups rice cooked 3 tomatoes teaspoons BC Belle Bhat powder 1 teaspoon chickpea lentils 1/2 cumin seeds white urad dal mustard green chilli dry red 2 cashew or peanuts 1-1/2 tablespoon oil asafoetida</td>\n",
       "      <td>quantity unit ingredient ingredient quantity ingredient unit ingredient ingredient ingredient ingredient quantity unit ingredient ingredient quantity ingredient ingredient ingredient ingredient ingredient ingredient ingredient ingredient ingredient ingredient quantity ingredient ingredient ingredient quantity unit ingredient ingredient</td>\n",
       "    </tr>\n",
       "    <tr>\n",
       "      <th>2</th>\n",
       "      <td>1-1/2 cups Rice Vermicelli Noodles Thin 1 Onion sliced 1/2 cup Carrots Gajjar chopped 1/3 Green peas Matar 2 Chillies 1/4 teaspoon Asafoetida hing Mustard seeds White Urad Dal Split Ghee sprig Curry leaves Salt Lemon juice</td>\n",
       "      <td>quantity unit ingredient ingredient ingredient ingredient quantity ingredient ingredient quantity unit ingredient ingredient ingredient quantity ingredient ingredient ingredient quantity ingredient quantity unit ingredient ingredient ingredient ingredient ingredient ingredient ingredient ingredient ingredient unit ingredient ingredient ingredient ingredient ingredient</td>\n",
       "    </tr>\n",
       "    <tr>\n",
       "      <th>3</th>\n",
       "      <td>500 grams Chicken 2 Onion chopped 1 Tomato 4 Green Chillies slit inch Ginger finely 6 cloves Garlic 1/2 teaspoon Turmeric powder Haldi Garam masala tablespoon Sesame Gingelly Oil 1/4 Methi Seeds Fenugreek Coriander Dhania Dry Red Fennel seeds Saunf cups Sorrel Leaves Gongura picked and</td>\n",
       "      <td>quantity unit ingredient quantity ingredient ingredient quantity ingredient quantity ingredient ingredient ingredient unit ingredient ingredient quantity unit ingredient quantity unit ingredient ingredient ingredient ingredient ingredient unit ingredient ingredient ingredient quantity ingredient ingredient ingredient ingredient ingredient ingredient ingredient ingredient ingredient ingredient unit ingredient ingredient ingredient ingredient ingredient</td>\n",
       "    </tr>\n",
       "    <tr>\n",
       "      <th>4</th>\n",
       "      <td>1 tablespoon chana dal white urad 2 red chillies coriander seeds 3 inches ginger onion tomato Teaspoon mustard asafoetida sprig curry</td>\n",
       "      <td>quantity unit ingredient ingredient ingredient ingredient quantity ingredient ingredient ingredient ingredient quantity unit ingredient ingredient ingredient unit ingredient ingredient unit ingredient</td>\n",
       "    </tr>\n",
       "  </tbody>\n",
       "</table>\n",
       "</div>"
      ],
      "text/plain": [
       "                                                                                                                                                                                                                                                                                            input                                                                                                                                                                                                                                                                                                                                                                                                                                                                      pos\n",
       "0                                                                                                 6 Karela Bitter Gourd Pavakkai Salt 1 Onion 3 tablespoon Gram flour besan 2 teaspoons Turmeric powder Haldi Red Chilli Cumin seeds Jeera Coriander Powder Dhania Amchur Dry Mango Sunflower Oil                                                                                                                                         quantity ingredient ingredient ingredient ingredient ingredient quantity ingredient quantity unit ingredient ingredient ingredient quantity unit ingredient ingredient ingredient ingredient ingredient ingredient ingredient ingredient ingredient ingredient ingredient ingredient ingredient ingredient ingredient ingredient\n",
       "1                                                                                    2-1/2 cups rice cooked 3 tomatoes teaspoons BC Belle Bhat powder 1 teaspoon chickpea lentils 1/2 cumin seeds white urad dal mustard green chilli dry red 2 cashew or peanuts 1-1/2 tablespoon oil asafoetida                                                                                                                        quantity unit ingredient ingredient quantity ingredient unit ingredient ingredient ingredient ingredient quantity unit ingredient ingredient quantity ingredient ingredient ingredient ingredient ingredient ingredient ingredient ingredient ingredient ingredient quantity ingredient ingredient ingredient quantity unit ingredient ingredient\n",
       "2                                                                  1-1/2 cups Rice Vermicelli Noodles Thin 1 Onion sliced 1/2 cup Carrots Gajjar chopped 1/3 Green peas Matar 2 Chillies 1/4 teaspoon Asafoetida hing Mustard seeds White Urad Dal Split Ghee sprig Curry leaves Salt Lemon juice                                                                                       quantity unit ingredient ingredient ingredient ingredient quantity ingredient ingredient quantity unit ingredient ingredient ingredient quantity ingredient ingredient ingredient quantity ingredient quantity unit ingredient ingredient ingredient ingredient ingredient ingredient ingredient ingredient ingredient unit ingredient ingredient ingredient ingredient ingredient\n",
       "3  500 grams Chicken 2 Onion chopped 1 Tomato 4 Green Chillies slit inch Ginger finely 6 cloves Garlic 1/2 teaspoon Turmeric powder Haldi Garam masala tablespoon Sesame Gingelly Oil 1/4 Methi Seeds Fenugreek Coriander Dhania Dry Red Fennel seeds Saunf cups Sorrel Leaves Gongura picked and  quantity unit ingredient quantity ingredient ingredient quantity ingredient quantity ingredient ingredient ingredient unit ingredient ingredient quantity unit ingredient quantity unit ingredient ingredient ingredient ingredient ingredient unit ingredient ingredient ingredient quantity ingredient ingredient ingredient ingredient ingredient ingredient ingredient ingredient ingredient ingredient unit ingredient ingredient ingredient ingredient ingredient\n",
       "4                                                                                                                                                           1 tablespoon chana dal white urad 2 red chillies coriander seeds 3 inches ginger onion tomato Teaspoon mustard asafoetida sprig curry                                                                                                                                                                                                                                                                 quantity unit ingredient ingredient ingredient ingredient quantity ingredient ingredient ingredient ingredient quantity unit ingredient ingredient ingredient unit ingredient ingredient unit ingredient"
      ]
     },
     "execution_count": 35,
     "metadata": {},
     "output_type": "execute_result"
    }
   ],
   "source": [
    "# read the json file by giving the file path and create a dataframe\n",
    "\n",
    "def load_json_dataframe(json_path):\n",
    "    with open(json_path, 'r') as file:\n",
    "        data = json.load(file)\n",
    "    df = pd.DataFrame(data)\n",
    "    return df\n",
    "\n",
    "# Read the JSON file and create the dataframe\n",
    "df = load_json_dataframe(\"ingredient_and_quantity.json\")\n",
    "\n",
    "# Display the first few rows\n",
    "df.head()"
   ]
  },
  {
   "cell_type": "markdown",
   "metadata": {
    "id": "_1VkDbev3UHP"
   },
   "source": [
    "##### **2.1.3** **Describe the dataframe** <font color = red>[3 marks]</font> <br>\n",
    "\n",
    "Print first five rows of dataframe along with dimensions. Display the information of dataframe"
   ]
  },
  {
   "cell_type": "code",
   "execution_count": 37,
   "metadata": {
    "id": "yZFj2skZxgpl"
   },
   "outputs": [
    {
     "name": "stdout",
     "output_type": "stream",
     "text": [
      "First 5 rows of the dataframe:\n",
      "                                                                                                                                                                                                                                                                                            input                                                                                                                                                                                                                                                                                                                                                                                                                                                                      pos\n",
      "0                                                                                                 6 Karela Bitter Gourd Pavakkai Salt 1 Onion 3 tablespoon Gram flour besan 2 teaspoons Turmeric powder Haldi Red Chilli Cumin seeds Jeera Coriander Powder Dhania Amchur Dry Mango Sunflower Oil                                                                                                                                         quantity ingredient ingredient ingredient ingredient ingredient quantity ingredient quantity unit ingredient ingredient ingredient quantity unit ingredient ingredient ingredient ingredient ingredient ingredient ingredient ingredient ingredient ingredient ingredient ingredient ingredient ingredient ingredient ingredient\n",
      "1                                                                                    2-1/2 cups rice cooked 3 tomatoes teaspoons BC Belle Bhat powder 1 teaspoon chickpea lentils 1/2 cumin seeds white urad dal mustard green chilli dry red 2 cashew or peanuts 1-1/2 tablespoon oil asafoetida                                                                                                                        quantity unit ingredient ingredient quantity ingredient unit ingredient ingredient ingredient ingredient quantity unit ingredient ingredient quantity ingredient ingredient ingredient ingredient ingredient ingredient ingredient ingredient ingredient ingredient quantity ingredient ingredient ingredient quantity unit ingredient ingredient\n",
      "2                                                                  1-1/2 cups Rice Vermicelli Noodles Thin 1 Onion sliced 1/2 cup Carrots Gajjar chopped 1/3 Green peas Matar 2 Chillies 1/4 teaspoon Asafoetida hing Mustard seeds White Urad Dal Split Ghee sprig Curry leaves Salt Lemon juice                                                                                       quantity unit ingredient ingredient ingredient ingredient quantity ingredient ingredient quantity unit ingredient ingredient ingredient quantity ingredient ingredient ingredient quantity ingredient quantity unit ingredient ingredient ingredient ingredient ingredient ingredient ingredient ingredient ingredient unit ingredient ingredient ingredient ingredient ingredient\n",
      "3  500 grams Chicken 2 Onion chopped 1 Tomato 4 Green Chillies slit inch Ginger finely 6 cloves Garlic 1/2 teaspoon Turmeric powder Haldi Garam masala tablespoon Sesame Gingelly Oil 1/4 Methi Seeds Fenugreek Coriander Dhania Dry Red Fennel seeds Saunf cups Sorrel Leaves Gongura picked and  quantity unit ingredient quantity ingredient ingredient quantity ingredient quantity ingredient ingredient ingredient unit ingredient ingredient quantity unit ingredient quantity unit ingredient ingredient ingredient ingredient ingredient unit ingredient ingredient ingredient quantity ingredient ingredient ingredient ingredient ingredient ingredient ingredient ingredient ingredient ingredient unit ingredient ingredient ingredient ingredient ingredient\n",
      "4                                                                                                                                                           1 tablespoon chana dal white urad 2 red chillies coriander seeds 3 inches ginger onion tomato Teaspoon mustard asafoetida sprig curry                                                                                                                                                                                                                                                                 quantity unit ingredient ingredient ingredient ingredient quantity ingredient ingredient ingredient ingredient quantity unit ingredient ingredient ingredient unit ingredient ingredient unit ingredient\n",
      "\n",
      "Shape of the dataframe (rows, columns):\n",
      "(285, 2)\n",
      "\n",
      "DataFrame info:\n",
      "<class 'pandas.core.frame.DataFrame'>\n",
      "RangeIndex: 285 entries, 0 to 284\n",
      "Data columns (total 2 columns):\n",
      " #   Column  Non-Null Count  Dtype \n",
      "---  ------  --------------  ----- \n",
      " 0   input   285 non-null    object\n",
      " 1   pos     285 non-null    object\n",
      "dtypes: object(2)\n",
      "memory usage: 4.6+ KB\n"
     ]
    }
   ],
   "source": [
    "# display first five rows of the dataframe - df\n",
    "\n",
    "print(\"First 5 rows of the dataframe:\")\n",
    "print(df.head())\n",
    "\n",
    "# Print dimensions of the dataframe\n",
    "print(\"\\nShape of the dataframe (rows, columns):\")\n",
    "print(df.shape)\n",
    "\n",
    "# Display DataFrame information\n",
    "print(\"\\nDataFrame info:\")\n",
    "df.info()"
   ]
  },
  {
   "cell_type": "code",
   "execution_count": 45,
   "metadata": {
    "id": "Y7cA28XSx1I1"
   },
   "outputs": [
    {
     "name": "stdout",
     "output_type": "stream",
     "text": [
      "Shape of the dataframe (rows, columns): (285, 4)\n"
     ]
    }
   ],
   "source": [
    "# print the dimensions of dataframe - df\n",
    "\n",
    "print(\"Shape of the dataframe (rows, columns):\", df.shape)\n"
   ]
  },
  {
   "cell_type": "code",
   "execution_count": 47,
   "metadata": {
    "id": "Q-gsbEhJx2rm"
   },
   "outputs": [
    {
     "name": "stdout",
     "output_type": "stream",
     "text": [
      "Information of the dataframe:\n",
      "<class 'pandas.core.frame.DataFrame'>\n",
      "RangeIndex: 285 entries, 0 to 284\n",
      "Data columns (total 4 columns):\n",
      " #   Column        Non-Null Count  Dtype \n",
      "---  ------        --------------  ----- \n",
      " 0   input         285 non-null    object\n",
      " 1   pos           285 non-null    object\n",
      " 2   input_tokens  285 non-null    object\n",
      " 3   pos_tokens    285 non-null    object\n",
      "dtypes: object(4)\n",
      "memory usage: 9.0+ KB\n"
     ]
    }
   ],
   "source": [
    "# print the information of the dataframe\n",
    "\n",
    "print(\"Information of the dataframe:\")\n",
    "df.info()\n"
   ]
  },
  {
   "cell_type": "markdown",
   "metadata": {
    "id": "1y18LwoqyFpk"
   },
   "source": [
    "#### **2.2** *Recipe Data Manipulation* <font color = red>[13 marks]</font> <br>\n",
    "Create derived metrics in dataframe and provide insights of the dataframe"
   ]
  },
  {
   "cell_type": "markdown",
   "metadata": {
    "id": "bhNG_XC1r4Qw"
   },
   "source": [
    "##### **2.2.1** **Create input_tokens and pos_tokens columns by splitting the input and pos from the dataframe** <font color = red>[3 marks]</font> <br>\n",
    "Split the input and pos into input_tokens and pos_tokens in the dataframe and display it in the dataframe"
   ]
  },
  {
   "cell_type": "code",
   "execution_count": 49,
   "metadata": {
    "id": "nma6uJwmXUas"
   },
   "outputs": [
    {
     "data": {
      "text/html": [
       "<div>\n",
       "<style scoped>\n",
       "    .dataframe tbody tr th:only-of-type {\n",
       "        vertical-align: middle;\n",
       "    }\n",
       "\n",
       "    .dataframe tbody tr th {\n",
       "        vertical-align: top;\n",
       "    }\n",
       "\n",
       "    .dataframe thead th {\n",
       "        text-align: right;\n",
       "    }\n",
       "</style>\n",
       "<table border=\"1\" class=\"dataframe\">\n",
       "  <thead>\n",
       "    <tr style=\"text-align: right;\">\n",
       "      <th></th>\n",
       "      <th>input</th>\n",
       "      <th>pos</th>\n",
       "      <th>input_tokens</th>\n",
       "      <th>pos_tokens</th>\n",
       "    </tr>\n",
       "  </thead>\n",
       "  <tbody>\n",
       "    <tr>\n",
       "      <th>0</th>\n",
       "      <td>6 Karela Bitter Gourd Pavakkai Salt 1 Onion 3 tablespoon Gram flour besan 2 teaspoons Turmeric powder Haldi Red Chilli Cumin seeds Jeera Coriander Powder Dhania Amchur Dry Mango Sunflower Oil</td>\n",
       "      <td>quantity ingredient ingredient ingredient ingredient ingredient quantity ingredient quantity unit ingredient ingredient ingredient quantity unit ingredient ingredient ingredient ingredient ingredient ingredient ingredient ingredient ingredient ingredient ingredient ingredient ingredient ingredient ingredient ingredient</td>\n",
       "      <td>[6, Karela, Bitter, Gourd, Pavakkai, Salt, 1, Onion, 3, tablespoon, Gram, flour, besan, 2, teaspoons, Turmeric, powder, Haldi, Red, Chilli, Cumin, seeds, Jeera, Coriander, Powder, Dhania, Amchur, Dry, Mango, Sunflower, Oil]</td>\n",
       "      <td>[quantity, ingredient, ingredient, ingredient, ingredient, ingredient, quantity, ingredient, quantity, unit, ingredient, ingredient, ingredient, quantity, unit, ingredient, ingredient, ingredient, ingredient, ingredient, ingredient, ingredient, ingredient, ingredient, ingredient, ingredient, ingredient, ingredient, ingredient, ingredient, ingredient]</td>\n",
       "    </tr>\n",
       "    <tr>\n",
       "      <th>1</th>\n",
       "      <td>2-1/2 cups rice cooked 3 tomatoes teaspoons BC Belle Bhat powder 1 teaspoon chickpea lentils 1/2 cumin seeds white urad dal mustard green chilli dry red 2 cashew or peanuts 1-1/2 tablespoon oil asafoetida</td>\n",
       "      <td>quantity unit ingredient ingredient quantity ingredient unit ingredient ingredient ingredient ingredient quantity unit ingredient ingredient quantity ingredient ingredient ingredient ingredient ingredient ingredient ingredient ingredient ingredient ingredient quantity ingredient ingredient ingredient quantity unit ingredient ingredient</td>\n",
       "      <td>[2-1/2, cups, rice, cooked, 3, tomatoes, teaspoons, BC, Belle, Bhat, powder, 1, teaspoon, chickpea, lentils, 1/2, cumin, seeds, white, urad, dal, mustard, green, chilli, dry, red, 2, cashew, or, peanuts, 1-1/2, tablespoon, oil, asafoetida]</td>\n",
       "      <td>[quantity, unit, ingredient, ingredient, quantity, ingredient, unit, ingredient, ingredient, ingredient, ingredient, quantity, unit, ingredient, ingredient, quantity, ingredient, ingredient, ingredient, ingredient, ingredient, ingredient, ingredient, ingredient, ingredient, ingredient, quantity, ingredient, ingredient, ingredient, quantity, unit, ingredient, ingredient]</td>\n",
       "    </tr>\n",
       "    <tr>\n",
       "      <th>2</th>\n",
       "      <td>1-1/2 cups Rice Vermicelli Noodles Thin 1 Onion sliced 1/2 cup Carrots Gajjar chopped 1/3 Green peas Matar 2 Chillies 1/4 teaspoon Asafoetida hing Mustard seeds White Urad Dal Split Ghee sprig Curry leaves Salt Lemon juice</td>\n",
       "      <td>quantity unit ingredient ingredient ingredient ingredient quantity ingredient ingredient quantity unit ingredient ingredient ingredient quantity ingredient ingredient ingredient quantity ingredient quantity unit ingredient ingredient ingredient ingredient ingredient ingredient ingredient ingredient ingredient unit ingredient ingredient ingredient ingredient ingredient</td>\n",
       "      <td>[1-1/2, cups, Rice, Vermicelli, Noodles, Thin, 1, Onion, sliced, 1/2, cup, Carrots, Gajjar, chopped, 1/3, Green, peas, Matar, 2, Chillies, 1/4, teaspoon, Asafoetida, hing, Mustard, seeds, White, Urad, Dal, Split, Ghee, sprig, Curry, leaves, Salt, Lemon, juice]</td>\n",
       "      <td>[quantity, unit, ingredient, ingredient, ingredient, ingredient, quantity, ingredient, ingredient, quantity, unit, ingredient, ingredient, ingredient, quantity, ingredient, ingredient, ingredient, quantity, ingredient, quantity, unit, ingredient, ingredient, ingredient, ingredient, ingredient, ingredient, ingredient, ingredient, ingredient, unit, ingredient, ingredient, ingredient, ingredient, ingredient]</td>\n",
       "    </tr>\n",
       "    <tr>\n",
       "      <th>3</th>\n",
       "      <td>500 grams Chicken 2 Onion chopped 1 Tomato 4 Green Chillies slit inch Ginger finely 6 cloves Garlic 1/2 teaspoon Turmeric powder Haldi Garam masala tablespoon Sesame Gingelly Oil 1/4 Methi Seeds Fenugreek Coriander Dhania Dry Red Fennel seeds Saunf cups Sorrel Leaves Gongura picked and</td>\n",
       "      <td>quantity unit ingredient quantity ingredient ingredient quantity ingredient quantity ingredient ingredient ingredient unit ingredient ingredient quantity unit ingredient quantity unit ingredient ingredient ingredient ingredient ingredient unit ingredient ingredient ingredient quantity ingredient ingredient ingredient ingredient ingredient ingredient ingredient ingredient ingredient ingredient unit ingredient ingredient ingredient ingredient ingredient</td>\n",
       "      <td>[500, grams, Chicken, 2, Onion, chopped, 1, Tomato, 4, Green, Chillies, slit, inch, Ginger, finely, 6, cloves, Garlic, 1/2, teaspoon, Turmeric, powder, Haldi, Garam, masala, tablespoon, Sesame, Gingelly, Oil, 1/4, Methi, Seeds, Fenugreek, Coriander, Dhania, Dry, Red, Fennel, seeds, Saunf, cups, Sorrel, Leaves, Gongura, picked, and]</td>\n",
       "      <td>[quantity, unit, ingredient, quantity, ingredient, ingredient, quantity, ingredient, quantity, ingredient, ingredient, ingredient, unit, ingredient, ingredient, quantity, unit, ingredient, quantity, unit, ingredient, ingredient, ingredient, ingredient, ingredient, unit, ingredient, ingredient, ingredient, quantity, ingredient, ingredient, ingredient, ingredient, ingredient, ingredient, ingredient, ingredient, ingredient, ingredient, unit, ingredient, ingredient, ingredient, ingredient, ingredient]</td>\n",
       "    </tr>\n",
       "    <tr>\n",
       "      <th>4</th>\n",
       "      <td>1 tablespoon chana dal white urad 2 red chillies coriander seeds 3 inches ginger onion tomato Teaspoon mustard asafoetida sprig curry</td>\n",
       "      <td>quantity unit ingredient ingredient ingredient ingredient quantity ingredient ingredient ingredient ingredient quantity unit ingredient ingredient ingredient unit ingredient ingredient unit ingredient</td>\n",
       "      <td>[1, tablespoon, chana, dal, white, urad, 2, red, chillies, coriander, seeds, 3, inches, ginger, onion, tomato, Teaspoon, mustard, asafoetida, sprig, curry]</td>\n",
       "      <td>[quantity, unit, ingredient, ingredient, ingredient, ingredient, quantity, ingredient, ingredient, ingredient, ingredient, quantity, unit, ingredient, ingredient, ingredient, unit, ingredient, ingredient, unit, ingredient]</td>\n",
       "    </tr>\n",
       "  </tbody>\n",
       "</table>\n",
       "</div>"
      ],
      "text/plain": [
       "                                                                                                                                                                                                                                                                                            input                                                                                                                                                                                                                                                                                                                                                                                                                                                                      pos                                                                                                                                                                                                                                                                                                                                   input_tokens                                                                                                                                                                                                                                                                                                                                                                                                                                                                                                              pos_tokens\n",
       "0                                                                                                 6 Karela Bitter Gourd Pavakkai Salt 1 Onion 3 tablespoon Gram flour besan 2 teaspoons Turmeric powder Haldi Red Chilli Cumin seeds Jeera Coriander Powder Dhania Amchur Dry Mango Sunflower Oil                                                                                                                                         quantity ingredient ingredient ingredient ingredient ingredient quantity ingredient quantity unit ingredient ingredient ingredient quantity unit ingredient ingredient ingredient ingredient ingredient ingredient ingredient ingredient ingredient ingredient ingredient ingredient ingredient ingredient ingredient ingredient                                                                                                                [6, Karela, Bitter, Gourd, Pavakkai, Salt, 1, Onion, 3, tablespoon, Gram, flour, besan, 2, teaspoons, Turmeric, powder, Haldi, Red, Chilli, Cumin, seeds, Jeera, Coriander, Powder, Dhania, Amchur, Dry, Mango, Sunflower, Oil]                                                                                                                                                        [quantity, ingredient, ingredient, ingredient, ingredient, ingredient, quantity, ingredient, quantity, unit, ingredient, ingredient, ingredient, quantity, unit, ingredient, ingredient, ingredient, ingredient, ingredient, ingredient, ingredient, ingredient, ingredient, ingredient, ingredient, ingredient, ingredient, ingredient, ingredient, ingredient]\n",
       "1                                                                                    2-1/2 cups rice cooked 3 tomatoes teaspoons BC Belle Bhat powder 1 teaspoon chickpea lentils 1/2 cumin seeds white urad dal mustard green chilli dry red 2 cashew or peanuts 1-1/2 tablespoon oil asafoetida                                                                                                                        quantity unit ingredient ingredient quantity ingredient unit ingredient ingredient ingredient ingredient quantity unit ingredient ingredient quantity ingredient ingredient ingredient ingredient ingredient ingredient ingredient ingredient ingredient ingredient quantity ingredient ingredient ingredient quantity unit ingredient ingredient                                                                                                [2-1/2, cups, rice, cooked, 3, tomatoes, teaspoons, BC, Belle, Bhat, powder, 1, teaspoon, chickpea, lentils, 1/2, cumin, seeds, white, urad, dal, mustard, green, chilli, dry, red, 2, cashew, or, peanuts, 1-1/2, tablespoon, oil, asafoetida]                                                                                                                                    [quantity, unit, ingredient, ingredient, quantity, ingredient, unit, ingredient, ingredient, ingredient, ingredient, quantity, unit, ingredient, ingredient, quantity, ingredient, ingredient, ingredient, ingredient, ingredient, ingredient, ingredient, ingredient, ingredient, ingredient, quantity, ingredient, ingredient, ingredient, quantity, unit, ingredient, ingredient]\n",
       "2                                                                  1-1/2 cups Rice Vermicelli Noodles Thin 1 Onion sliced 1/2 cup Carrots Gajjar chopped 1/3 Green peas Matar 2 Chillies 1/4 teaspoon Asafoetida hing Mustard seeds White Urad Dal Split Ghee sprig Curry leaves Salt Lemon juice                                                                                       quantity unit ingredient ingredient ingredient ingredient quantity ingredient ingredient quantity unit ingredient ingredient ingredient quantity ingredient ingredient ingredient quantity ingredient quantity unit ingredient ingredient ingredient ingredient ingredient ingredient ingredient ingredient ingredient unit ingredient ingredient ingredient ingredient ingredient                                                                           [1-1/2, cups, Rice, Vermicelli, Noodles, Thin, 1, Onion, sliced, 1/2, cup, Carrots, Gajjar, chopped, 1/3, Green, peas, Matar, 2, Chillies, 1/4, teaspoon, Asafoetida, hing, Mustard, seeds, White, Urad, Dal, Split, Ghee, sprig, Curry, leaves, Salt, Lemon, juice]                                                                                                [quantity, unit, ingredient, ingredient, ingredient, ingredient, quantity, ingredient, ingredient, quantity, unit, ingredient, ingredient, ingredient, quantity, ingredient, ingredient, ingredient, quantity, ingredient, quantity, unit, ingredient, ingredient, ingredient, ingredient, ingredient, ingredient, ingredient, ingredient, ingredient, unit, ingredient, ingredient, ingredient, ingredient, ingredient]\n",
       "3  500 grams Chicken 2 Onion chopped 1 Tomato 4 Green Chillies slit inch Ginger finely 6 cloves Garlic 1/2 teaspoon Turmeric powder Haldi Garam masala tablespoon Sesame Gingelly Oil 1/4 Methi Seeds Fenugreek Coriander Dhania Dry Red Fennel seeds Saunf cups Sorrel Leaves Gongura picked and  quantity unit ingredient quantity ingredient ingredient quantity ingredient quantity ingredient ingredient ingredient unit ingredient ingredient quantity unit ingredient quantity unit ingredient ingredient ingredient ingredient ingredient unit ingredient ingredient ingredient quantity ingredient ingredient ingredient ingredient ingredient ingredient ingredient ingredient ingredient ingredient unit ingredient ingredient ingredient ingredient ingredient  [500, grams, Chicken, 2, Onion, chopped, 1, Tomato, 4, Green, Chillies, slit, inch, Ginger, finely, 6, cloves, Garlic, 1/2, teaspoon, Turmeric, powder, Haldi, Garam, masala, tablespoon, Sesame, Gingelly, Oil, 1/4, Methi, Seeds, Fenugreek, Coriander, Dhania, Dry, Red, Fennel, seeds, Saunf, cups, Sorrel, Leaves, Gongura, picked, and]  [quantity, unit, ingredient, quantity, ingredient, ingredient, quantity, ingredient, quantity, ingredient, ingredient, ingredient, unit, ingredient, ingredient, quantity, unit, ingredient, quantity, unit, ingredient, ingredient, ingredient, ingredient, ingredient, unit, ingredient, ingredient, ingredient, quantity, ingredient, ingredient, ingredient, ingredient, ingredient, ingredient, ingredient, ingredient, ingredient, ingredient, unit, ingredient, ingredient, ingredient, ingredient, ingredient]\n",
       "4                                                                                                                                                           1 tablespoon chana dal white urad 2 red chillies coriander seeds 3 inches ginger onion tomato Teaspoon mustard asafoetida sprig curry                                                                                                                                                                                                                                                                 quantity unit ingredient ingredient ingredient ingredient quantity ingredient ingredient ingredient ingredient quantity unit ingredient ingredient ingredient unit ingredient ingredient unit ingredient                                                                                                                                                                                    [1, tablespoon, chana, dal, white, urad, 2, red, chillies, coriander, seeds, 3, inches, ginger, onion, tomato, Teaspoon, mustard, asafoetida, sprig, curry]                                                                                                                                                                                                                                                                                          [quantity, unit, ingredient, ingredient, ingredient, ingredient, quantity, ingredient, ingredient, ingredient, ingredient, quantity, unit, ingredient, ingredient, ingredient, unit, ingredient, ingredient, unit, ingredient]"
      ]
     },
     "execution_count": 49,
     "metadata": {},
     "output_type": "execute_result"
    }
   ],
   "source": [
    "# split the input and pos into input_tokens and pos_tokens in the dataframe\n",
    "# Tokenize input\n",
    "# Tokenize POS\n",
    "\n",
    "# Tokenize input and POS\n",
    "df['input_tokens'] = df['input'].str.split()\n",
    "df['pos_tokens'] = df['pos'].str.split()\n",
    "\n",
    "# Display updated DataFrame\n",
    "df.head()"
   ]
  },
  {
   "cell_type": "code",
   "execution_count": 51,
   "metadata": {
    "id": "9g-ajvFBzaaf"
   },
   "outputs": [
    {
     "data": {
      "text/html": [
       "<div>\n",
       "<style scoped>\n",
       "    .dataframe tbody tr th:only-of-type {\n",
       "        vertical-align: middle;\n",
       "    }\n",
       "\n",
       "    .dataframe tbody tr th {\n",
       "        vertical-align: top;\n",
       "    }\n",
       "\n",
       "    .dataframe thead th {\n",
       "        text-align: right;\n",
       "    }\n",
       "</style>\n",
       "<table border=\"1\" class=\"dataframe\">\n",
       "  <thead>\n",
       "    <tr style=\"text-align: right;\">\n",
       "      <th></th>\n",
       "      <th>input</th>\n",
       "      <th>pos</th>\n",
       "      <th>input_tokens</th>\n",
       "      <th>pos_tokens</th>\n",
       "    </tr>\n",
       "  </thead>\n",
       "  <tbody>\n",
       "    <tr>\n",
       "      <th>0</th>\n",
       "      <td>6 Karela Bitter Gourd Pavakkai Salt 1 Onion 3 tablespoon Gram flour besan 2 teaspoons Turmeric powder Haldi Red Chilli Cumin seeds Jeera Coriander Powder Dhania Amchur Dry Mango Sunflower Oil</td>\n",
       "      <td>quantity ingredient ingredient ingredient ingredient ingredient quantity ingredient quantity unit ingredient ingredient ingredient quantity unit ingredient ingredient ingredient ingredient ingredient ingredient ingredient ingredient ingredient ingredient ingredient ingredient ingredient ingredient ingredient ingredient</td>\n",
       "      <td>[6, Karela, Bitter, Gourd, Pavakkai, Salt, 1, Onion, 3, tablespoon, Gram, flour, besan, 2, teaspoons, Turmeric, powder, Haldi, Red, Chilli, Cumin, seeds, Jeera, Coriander, Powder, Dhania, Amchur, Dry, Mango, Sunflower, Oil]</td>\n",
       "      <td>[quantity, ingredient, ingredient, ingredient, ingredient, ingredient, quantity, ingredient, quantity, unit, ingredient, ingredient, ingredient, quantity, unit, ingredient, ingredient, ingredient, ingredient, ingredient, ingredient, ingredient, ingredient, ingredient, ingredient, ingredient, ingredient, ingredient, ingredient, ingredient, ingredient]</td>\n",
       "    </tr>\n",
       "    <tr>\n",
       "      <th>1</th>\n",
       "      <td>2-1/2 cups rice cooked 3 tomatoes teaspoons BC Belle Bhat powder 1 teaspoon chickpea lentils 1/2 cumin seeds white urad dal mustard green chilli dry red 2 cashew or peanuts 1-1/2 tablespoon oil asafoetida</td>\n",
       "      <td>quantity unit ingredient ingredient quantity ingredient unit ingredient ingredient ingredient ingredient quantity unit ingredient ingredient quantity ingredient ingredient ingredient ingredient ingredient ingredient ingredient ingredient ingredient ingredient quantity ingredient ingredient ingredient quantity unit ingredient ingredient</td>\n",
       "      <td>[2-1/2, cups, rice, cooked, 3, tomatoes, teaspoons, BC, Belle, Bhat, powder, 1, teaspoon, chickpea, lentils, 1/2, cumin, seeds, white, urad, dal, mustard, green, chilli, dry, red, 2, cashew, or, peanuts, 1-1/2, tablespoon, oil, asafoetida]</td>\n",
       "      <td>[quantity, unit, ingredient, ingredient, quantity, ingredient, unit, ingredient, ingredient, ingredient, ingredient, quantity, unit, ingredient, ingredient, quantity, ingredient, ingredient, ingredient, ingredient, ingredient, ingredient, ingredient, ingredient, ingredient, ingredient, quantity, ingredient, ingredient, ingredient, quantity, unit, ingredient, ingredient]</td>\n",
       "    </tr>\n",
       "    <tr>\n",
       "      <th>2</th>\n",
       "      <td>1-1/2 cups Rice Vermicelli Noodles Thin 1 Onion sliced 1/2 cup Carrots Gajjar chopped 1/3 Green peas Matar 2 Chillies 1/4 teaspoon Asafoetida hing Mustard seeds White Urad Dal Split Ghee sprig Curry leaves Salt Lemon juice</td>\n",
       "      <td>quantity unit ingredient ingredient ingredient ingredient quantity ingredient ingredient quantity unit ingredient ingredient ingredient quantity ingredient ingredient ingredient quantity ingredient quantity unit ingredient ingredient ingredient ingredient ingredient ingredient ingredient ingredient ingredient unit ingredient ingredient ingredient ingredient ingredient</td>\n",
       "      <td>[1-1/2, cups, Rice, Vermicelli, Noodles, Thin, 1, Onion, sliced, 1/2, cup, Carrots, Gajjar, chopped, 1/3, Green, peas, Matar, 2, Chillies, 1/4, teaspoon, Asafoetida, hing, Mustard, seeds, White, Urad, Dal, Split, Ghee, sprig, Curry, leaves, Salt, Lemon, juice]</td>\n",
       "      <td>[quantity, unit, ingredient, ingredient, ingredient, ingredient, quantity, ingredient, ingredient, quantity, unit, ingredient, ingredient, ingredient, quantity, ingredient, ingredient, ingredient, quantity, ingredient, quantity, unit, ingredient, ingredient, ingredient, ingredient, ingredient, ingredient, ingredient, ingredient, ingredient, unit, ingredient, ingredient, ingredient, ingredient, ingredient]</td>\n",
       "    </tr>\n",
       "    <tr>\n",
       "      <th>3</th>\n",
       "      <td>500 grams Chicken 2 Onion chopped 1 Tomato 4 Green Chillies slit inch Ginger finely 6 cloves Garlic 1/2 teaspoon Turmeric powder Haldi Garam masala tablespoon Sesame Gingelly Oil 1/4 Methi Seeds Fenugreek Coriander Dhania Dry Red Fennel seeds Saunf cups Sorrel Leaves Gongura picked and</td>\n",
       "      <td>quantity unit ingredient quantity ingredient ingredient quantity ingredient quantity ingredient ingredient ingredient unit ingredient ingredient quantity unit ingredient quantity unit ingredient ingredient ingredient ingredient ingredient unit ingredient ingredient ingredient quantity ingredient ingredient ingredient ingredient ingredient ingredient ingredient ingredient ingredient ingredient unit ingredient ingredient ingredient ingredient ingredient</td>\n",
       "      <td>[500, grams, Chicken, 2, Onion, chopped, 1, Tomato, 4, Green, Chillies, slit, inch, Ginger, finely, 6, cloves, Garlic, 1/2, teaspoon, Turmeric, powder, Haldi, Garam, masala, tablespoon, Sesame, Gingelly, Oil, 1/4, Methi, Seeds, Fenugreek, Coriander, Dhania, Dry, Red, Fennel, seeds, Saunf, cups, Sorrel, Leaves, Gongura, picked, and]</td>\n",
       "      <td>[quantity, unit, ingredient, quantity, ingredient, ingredient, quantity, ingredient, quantity, ingredient, ingredient, ingredient, unit, ingredient, ingredient, quantity, unit, ingredient, quantity, unit, ingredient, ingredient, ingredient, ingredient, ingredient, unit, ingredient, ingredient, ingredient, quantity, ingredient, ingredient, ingredient, ingredient, ingredient, ingredient, ingredient, ingredient, ingredient, ingredient, unit, ingredient, ingredient, ingredient, ingredient, ingredient]</td>\n",
       "    </tr>\n",
       "    <tr>\n",
       "      <th>4</th>\n",
       "      <td>1 tablespoon chana dal white urad 2 red chillies coriander seeds 3 inches ginger onion tomato Teaspoon mustard asafoetida sprig curry</td>\n",
       "      <td>quantity unit ingredient ingredient ingredient ingredient quantity ingredient ingredient ingredient ingredient quantity unit ingredient ingredient ingredient unit ingredient ingredient unit ingredient</td>\n",
       "      <td>[1, tablespoon, chana, dal, white, urad, 2, red, chillies, coriander, seeds, 3, inches, ginger, onion, tomato, Teaspoon, mustard, asafoetida, sprig, curry]</td>\n",
       "      <td>[quantity, unit, ingredient, ingredient, ingredient, ingredient, quantity, ingredient, ingredient, ingredient, ingredient, quantity, unit, ingredient, ingredient, ingredient, unit, ingredient, ingredient, unit, ingredient]</td>\n",
       "    </tr>\n",
       "  </tbody>\n",
       "</table>\n",
       "</div>"
      ],
      "text/plain": [
       "                                                                                                                                                                                                                                                                                            input                                                                                                                                                                                                                                                                                                                                                                                                                                                                      pos                                                                                                                                                                                                                                                                                                                                   input_tokens                                                                                                                                                                                                                                                                                                                                                                                                                                                                                                              pos_tokens\n",
       "0                                                                                                 6 Karela Bitter Gourd Pavakkai Salt 1 Onion 3 tablespoon Gram flour besan 2 teaspoons Turmeric powder Haldi Red Chilli Cumin seeds Jeera Coriander Powder Dhania Amchur Dry Mango Sunflower Oil                                                                                                                                         quantity ingredient ingredient ingredient ingredient ingredient quantity ingredient quantity unit ingredient ingredient ingredient quantity unit ingredient ingredient ingredient ingredient ingredient ingredient ingredient ingredient ingredient ingredient ingredient ingredient ingredient ingredient ingredient ingredient                                                                                                                [6, Karela, Bitter, Gourd, Pavakkai, Salt, 1, Onion, 3, tablespoon, Gram, flour, besan, 2, teaspoons, Turmeric, powder, Haldi, Red, Chilli, Cumin, seeds, Jeera, Coriander, Powder, Dhania, Amchur, Dry, Mango, Sunflower, Oil]                                                                                                                                                        [quantity, ingredient, ingredient, ingredient, ingredient, ingredient, quantity, ingredient, quantity, unit, ingredient, ingredient, ingredient, quantity, unit, ingredient, ingredient, ingredient, ingredient, ingredient, ingredient, ingredient, ingredient, ingredient, ingredient, ingredient, ingredient, ingredient, ingredient, ingredient, ingredient]\n",
       "1                                                                                    2-1/2 cups rice cooked 3 tomatoes teaspoons BC Belle Bhat powder 1 teaspoon chickpea lentils 1/2 cumin seeds white urad dal mustard green chilli dry red 2 cashew or peanuts 1-1/2 tablespoon oil asafoetida                                                                                                                        quantity unit ingredient ingredient quantity ingredient unit ingredient ingredient ingredient ingredient quantity unit ingredient ingredient quantity ingredient ingredient ingredient ingredient ingredient ingredient ingredient ingredient ingredient ingredient quantity ingredient ingredient ingredient quantity unit ingredient ingredient                                                                                                [2-1/2, cups, rice, cooked, 3, tomatoes, teaspoons, BC, Belle, Bhat, powder, 1, teaspoon, chickpea, lentils, 1/2, cumin, seeds, white, urad, dal, mustard, green, chilli, dry, red, 2, cashew, or, peanuts, 1-1/2, tablespoon, oil, asafoetida]                                                                                                                                    [quantity, unit, ingredient, ingredient, quantity, ingredient, unit, ingredient, ingredient, ingredient, ingredient, quantity, unit, ingredient, ingredient, quantity, ingredient, ingredient, ingredient, ingredient, ingredient, ingredient, ingredient, ingredient, ingredient, ingredient, quantity, ingredient, ingredient, ingredient, quantity, unit, ingredient, ingredient]\n",
       "2                                                                  1-1/2 cups Rice Vermicelli Noodles Thin 1 Onion sliced 1/2 cup Carrots Gajjar chopped 1/3 Green peas Matar 2 Chillies 1/4 teaspoon Asafoetida hing Mustard seeds White Urad Dal Split Ghee sprig Curry leaves Salt Lemon juice                                                                                       quantity unit ingredient ingredient ingredient ingredient quantity ingredient ingredient quantity unit ingredient ingredient ingredient quantity ingredient ingredient ingredient quantity ingredient quantity unit ingredient ingredient ingredient ingredient ingredient ingredient ingredient ingredient ingredient unit ingredient ingredient ingredient ingredient ingredient                                                                           [1-1/2, cups, Rice, Vermicelli, Noodles, Thin, 1, Onion, sliced, 1/2, cup, Carrots, Gajjar, chopped, 1/3, Green, peas, Matar, 2, Chillies, 1/4, teaspoon, Asafoetida, hing, Mustard, seeds, White, Urad, Dal, Split, Ghee, sprig, Curry, leaves, Salt, Lemon, juice]                                                                                                [quantity, unit, ingredient, ingredient, ingredient, ingredient, quantity, ingredient, ingredient, quantity, unit, ingredient, ingredient, ingredient, quantity, ingredient, ingredient, ingredient, quantity, ingredient, quantity, unit, ingredient, ingredient, ingredient, ingredient, ingredient, ingredient, ingredient, ingredient, ingredient, unit, ingredient, ingredient, ingredient, ingredient, ingredient]\n",
       "3  500 grams Chicken 2 Onion chopped 1 Tomato 4 Green Chillies slit inch Ginger finely 6 cloves Garlic 1/2 teaspoon Turmeric powder Haldi Garam masala tablespoon Sesame Gingelly Oil 1/4 Methi Seeds Fenugreek Coriander Dhania Dry Red Fennel seeds Saunf cups Sorrel Leaves Gongura picked and  quantity unit ingredient quantity ingredient ingredient quantity ingredient quantity ingredient ingredient ingredient unit ingredient ingredient quantity unit ingredient quantity unit ingredient ingredient ingredient ingredient ingredient unit ingredient ingredient ingredient quantity ingredient ingredient ingredient ingredient ingredient ingredient ingredient ingredient ingredient ingredient unit ingredient ingredient ingredient ingredient ingredient  [500, grams, Chicken, 2, Onion, chopped, 1, Tomato, 4, Green, Chillies, slit, inch, Ginger, finely, 6, cloves, Garlic, 1/2, teaspoon, Turmeric, powder, Haldi, Garam, masala, tablespoon, Sesame, Gingelly, Oil, 1/4, Methi, Seeds, Fenugreek, Coriander, Dhania, Dry, Red, Fennel, seeds, Saunf, cups, Sorrel, Leaves, Gongura, picked, and]  [quantity, unit, ingredient, quantity, ingredient, ingredient, quantity, ingredient, quantity, ingredient, ingredient, ingredient, unit, ingredient, ingredient, quantity, unit, ingredient, quantity, unit, ingredient, ingredient, ingredient, ingredient, ingredient, unit, ingredient, ingredient, ingredient, quantity, ingredient, ingredient, ingredient, ingredient, ingredient, ingredient, ingredient, ingredient, ingredient, ingredient, unit, ingredient, ingredient, ingredient, ingredient, ingredient]\n",
       "4                                                                                                                                                           1 tablespoon chana dal white urad 2 red chillies coriander seeds 3 inches ginger onion tomato Teaspoon mustard asafoetida sprig curry                                                                                                                                                                                                                                                                 quantity unit ingredient ingredient ingredient ingredient quantity ingredient ingredient ingredient ingredient quantity unit ingredient ingredient ingredient unit ingredient ingredient unit ingredient                                                                                                                                                                                    [1, tablespoon, chana, dal, white, urad, 2, red, chillies, coriander, seeds, 3, inches, ginger, onion, tomato, Teaspoon, mustard, asafoetida, sprig, curry]                                                                                                                                                                                                                                                                                          [quantity, unit, ingredient, ingredient, ingredient, ingredient, quantity, ingredient, ingredient, ingredient, ingredient, quantity, unit, ingredient, ingredient, ingredient, unit, ingredient, ingredient, unit, ingredient]"
      ]
     },
     "execution_count": 51,
     "metadata": {},
     "output_type": "execute_result"
    }
   ],
   "source": [
    "# display first five rows of the dataframe - df\n",
    "\n",
    "df.head()"
   ]
  },
  {
   "cell_type": "markdown",
   "metadata": {
    "id": "-JtvsBYur-oV"
   },
   "source": [
    "##### **2.2.2** **Provide the length for input_tokens and pos_tokens and validate their length** <font color = red>[2 marks]</font> <br>\n",
    "\n",
    "Create input_length and pos_length columns in the dataframe and validate both the lengths. Check for the rows that are unequal in input and pos length\n"
   ]
  },
  {
   "cell_type": "code",
   "execution_count": 53,
   "metadata": {
    "id": "GeVRD2IK1Jrg"
   },
   "outputs": [
    {
     "name": "stdout",
     "output_type": "stream",
     "text": [
      "Rows with mismatched input and pos lengths:\n",
      "                                                                                                                                                                                                                                                                                                                                   input                                                                                                                                                                                                                                                                                                                                                                                                                                                                                                                                               pos                                                                                                                                                                                                                                                                                                                                                                                input_tokens                                                                                                                                                                                                                                                                                                                                                                                                                                                                                                                                                                                              pos_tokens  input_length  pos_length\n",
      "17                                                                                                                                                                                                                                                   2 cups curd 1 cup gourd cucumber green cor coriander 1/2 teaspoon cumin powder salt                                                                                                                                                                                                                                                                                                                                                                                                                 quantity unit ingredient quantity unit ingredient ingredient ingredient ingredient quantity unit ingredient ingredient ingredient                                                                                                                                                                                                                                                                                         [2, cups, curd, 1, cup, gourd, cucumber, green, cor, coriander, 1/2, teaspoon, cumin, powder, salt]                                                                                                                                                                                                                                                                                                                                                                                                                                                        [quantity, unit, ingredient, quantity, unit, ingredient, ingredient, ingredient, ingredient, quantity, unit, ingredient, ingredient, ingredient]            15          14\n",
      "27                                                                                   1 Baguette sliced 1 1/2 tablespoon Butter 1/2 Garlic minced cup Spinach Leaves Palak Red Bell pepper Capsicum Tomato finely chopped Onion Black powder Italian seasoning teaspoon Fresh cream Cheddar cheese grated Salt Roasted tomato pasta sauce                                                                                                                                                               quantity ingredient ingredient quantity unit ingredient quantity ingredient ingredient unit ingredient ingredient ingredient ingredient ingredient ingredient ingredient ingredient ingredient ingredient ingredient ingredient ingredient ingredient ingredient unit ingredient ingredient ingredient ingredient ingredient ingredient ingredient ingredient ingredient ingredient                                                                                                   [1, Baguette, sliced, 1, 1/2, tablespoon, Butter, 1/2, Garlic, minced, cup, Spinach, Leaves, Palak, Red, Bell, pepper, Capsicum, Tomato, finely, chopped, Onion, Black, powder, Italian, seasoning, teaspoon, Fresh, cream, Cheddar, cheese, grated, Salt, Roasted, tomato, pasta, sauce]                                                                                                                                                                                [quantity, ingredient, ingredient, quantity, unit, ingredient, quantity, ingredient, ingredient, unit, ingredient, ingredient, ingredient, ingredient, ingredient, ingredient, ingredient, ingredient, ingredient, ingredient, ingredient, ingredient, ingredient, ingredient, ingredient, unit, ingredient, ingredient, ingredient, ingredient, ingredient, ingredient, ingredient, ingredient, ingredient, ingredient]            37          36\n",
      "79                                                                                              1/2 cup Poha Flattened rice 2 tablespoons Rice flour 2 1/2 liter Milk 1 Nolen Gur or brown sugar Cardamom Elaichi Pods/Seeds 8-10 Mixed nuts almonds/cashews tablespoon Raisins pinch Saffron strands and a little more for garnish Salt                                                                                                                                                                    quantity unit ingredient ingredient ingredient quantity unit ingredient ingredient quantity unit ingredient quantity ingredient ingredient ingredient ingredient ingredient ingredient ingredient ingredient quantity ingredient ingredient ingredient unit ingredient unit ingredient ingredient ingredient ingredient ingredient ingredient ingredient ingredient ingredient                                                                                                             [1/2, cup, Poha, Flattened, rice, 2, tablespoons, Rice, flour, 2, 1/2, liter, Milk, 1, Nolen, Gur, or, brown, sugar, Cardamom, Elaichi, Pods/Seeds, 8-10, Mixed, nuts, almonds/cashews, tablespoon, Raisins, pinch, Saffron, strands, and, a, little, more, for, garnish, Salt]                                                                                                                                                                                    [quantity, unit, ingredient, ingredient, ingredient, quantity, unit, ingredient, ingredient, quantity, unit, ingredient, quantity, ingredient, ingredient, ingredient, ingredient, ingredient, ingredient, ingredient, ingredient, quantity, ingredient, ingredient, ingredient, unit, ingredient, unit, ingredient, ingredient, ingredient, ingredient, ingredient, ingredient, ingredient, ingredient, ingredient]            38          37\n",
      "164  1/2 cup All Purpose Flour Maida Whole Wheat 1/4 Hung Curd Greek Yogurt 250 grams Chicken minced 1 Spinach Leaves Palak finely chopped Onion 4 cloves Garlic Tomatoes tablespoon Cumin powder Jeera Coriander Powder Dhania 1 1/2 teaspoon Paprika Black pepper 3 sprig Mint Pudina 10 Spring Bulb & Greens 100 Feta Cheese crumbled  quantity unit ingredient ingredient ingredient ingredient ingredient ingredient quantity ingredient ingredient ingredient ingredient quantity unit ingredient ingredient quantity ingredient ingredient ingredient ingredient ingredient ingredient quantity unit ingredient ingredient unit ingredient ingredient ingredient ingredient ingredient ingredient quantity unit ingredient ingredient ingredient quantity unit ingredient ingredient quantity ingredient ingredient ingredient ingredient quantity ingredient ingredient ingredient  [1/2, cup, All, Purpose, Flour, Maida, Whole, Wheat, 1/4, Hung, Curd, Greek, Yogurt, 250, grams, Chicken, minced, 1, Spinach, Leaves, Palak, finely, chopped, Onion, 4, cloves, Garlic, Tomatoes, tablespoon, Cumin, powder, Jeera, Coriander, Powder, Dhania, 1, 1/2, teaspoon, Paprika, Black, pepper, 3, sprig, Mint, Pudina, 10, Spring, Bulb, &, Greens, 100, Feta, Cheese, crumbled]  [quantity, unit, ingredient, ingredient, ingredient, ingredient, ingredient, ingredient, quantity, ingredient, ingredient, ingredient, ingredient, quantity, unit, ingredient, ingredient, quantity, ingredient, ingredient, ingredient, ingredient, ingredient, ingredient, quantity, unit, ingredient, ingredient, unit, ingredient, ingredient, ingredient, ingredient, ingredient, ingredient, quantity, unit, ingredient, ingredient, ingredient, quantity, unit, ingredient, ingredient, quantity, ingredient, ingredient, ingredient, ingredient, quantity, ingredient, ingredient, ingredient]            54          53\n",
      "207                                                                                                                                                                                                                                 1 cup Cashew nuts Badam Almond 1 1/4 cups Sugar 1/2 Water teaspoon Cardamom Powder Ghee for greasing                                                                                                                                                                                                                                                                                                                                                                                      quantity unit ingredient ingredient ingredient ingredient quantity unit ingredient quantity ingredient unit ingredient ingredient ingredient unit ingredient                                                                                                                                                                                                                                                                     [1, cup, Cashew, nuts, Badam, Almond, 1, 1/4, cups, Sugar, 1/2, Water, teaspoon, Cardamom, Powder, Ghee, for, greasing]                                                                                                                                                                                                                                                                                                                                                                                                                          [quantity, unit, ingredient, ingredient, ingredient, ingredient, quantity, unit, ingredient, quantity, ingredient, unit, ingredient, ingredient, ingredient, unit, ingredient]            18          17\n",
      "\n",
      "Number of mismatched rows: 5\n"
     ]
    }
   ],
   "source": [
    "# create input_length and pos_length columns for the input_tokens and pos-tokens\n",
    "\n",
    "df['input_length'] = df['input_tokens'].apply(len)\n",
    "df['pos_length'] = df['pos_tokens'].apply(len)\n",
    "\n",
    "# Check for mismatched lengths\n",
    "mismatched_rows = df[df['input_length'] != df['pos_length']]\n",
    "\n",
    "# Display mismatched rows\n",
    "print(\"Rows with mismatched input and pos lengths:\")\n",
    "print(mismatched_rows)\n",
    "\n",
    "# Optional: display how many mismatches\n",
    "print(f\"\\nNumber of mismatched rows: {len(mismatched_rows)}\")"
   ]
  },
  {
   "cell_type": "code",
   "execution_count": 55,
   "metadata": {
    "id": "BPMOlLnz1P1H"
   },
   "outputs": [
    {
     "name": "stdout",
     "output_type": "stream",
     "text": [
      "Number of rows where lengths are equal: 280\n",
      "Number of rows where lengths are NOT equal: 5\n"
     ]
    }
   ],
   "source": [
    "# check for the equality of input_length and pos_length in the dataframe\n",
    "\n",
    "equal_lengths = (df['input_length'] == df['pos_length'])\n",
    "\n",
    "# Display result summary\n",
    "print(\"Number of rows where lengths are equal:\", equal_lengths.sum())\n",
    "print(\"Number of rows where lengths are NOT equal:\", len(df) - equal_lengths.sum())\n"
   ]
  },
  {
   "cell_type": "markdown",
   "metadata": {
    "id": "dpJQu3JE_P7Z"
   },
   "source": [
    "##### **2.2.3** **Define a unique_labels function and validate the labels in pos_tokens** <font color = red>[2 marks]</font> <br>\n",
    "\n",
    "Define a unique_labels function which checks for all the unique pos labels in the recipe & execute it.\n"
   ]
  },
  {
   "cell_type": "code",
   "execution_count": 57,
   "metadata": {
    "id": "-4aMFCxXO_GJ"
   },
   "outputs": [
    {
     "name": "stdout",
     "output_type": "stream",
     "text": [
      "Unique POS labels in the dataset:\n",
      "['ingredient', 'quantity', 'unit']\n"
     ]
    }
   ],
   "source": [
    "# Define a unique_labels function to checks for all the unique pos labels in the recipe & print it\n",
    "\n",
    "def unique_labels(df):\n",
    "    all_labels = df['pos_tokens'].explode()\n",
    "    unique = sorted(all_labels.unique())\n",
    "    return unique\n",
    "\n",
    "# Execute the function and print unique POS labels\n",
    "unique_pos_labels = unique_labels(df)\n",
    "print(\"Unique POS labels in the dataset:\")\n",
    "print(unique_pos_labels)"
   ]
  },
  {
   "cell_type": "markdown",
   "metadata": {
    "id": "JbriClEV9CW5"
   },
   "source": [
    "##### **2.2.3** **Provide the insights seen in the recipe data after validation** <font color = red>[1 marks]</font> <br>\n",
    "\n",
    "Provide the indexes that requires cleaning and formatting in the dataframe"
   ]
  },
  {
   "cell_type": "markdown",
   "metadata": {
    "id": "rrNQ4AtD9RPk"
   },
   "source": [
    "<font color = red>[write your answer]</font> <br>\n",
    "\n",
    "\n"
   ]
  },
  {
   "cell_type": "markdown",
   "metadata": {},
   "source": [
    "After validating the recipe data:\r\n",
    "\r\n",
    "Most rows have matching lengths for input_tokens and pos_tokens, indicating proper alignment of ingredients and their tags.\r\n",
    "\r\n",
    "A few rows have mismatched lengths, which means either some words in the recipe were not tagged or extra tags were added.\r\n",
    "\r\n",
    "Insights:\r\n",
    "\r\n",
    "The POS tagging appears mostly consistent.\r\n",
    "\r\n",
    "Common labels include quantity, unit, and ingredient.\r\n",
    "\r\n",
    "Some rows require cleaning or re-tokenization to ensure alignment.\r\n",
    "\r\n",
    "Indexes requiring cleaning:\r\n",
    "\r\n",
    "The rows where input_length ≠ pos_length are the ones needing attention.\r\n",
    "\r\n",
    "These indexes can be found using:\r\n",
    "df[df['input_length'] != df['pos_length']].index"
   ]
  },
  {
   "cell_type": "markdown",
   "metadata": {
    "id": "Qtqtij2-CD2m"
   },
   "source": [
    "##### **2.2.4** **Drop the rows that have invalid data provided in previous cell** <font color = red> [2 marks]</font> <br>"
   ]
  },
  {
   "cell_type": "code",
   "execution_count": 59,
   "metadata": {
    "id": "jaiy1pYWCFPA"
   },
   "outputs": [
    {
     "name": "stdout",
     "output_type": "stream",
     "text": [
      "Updated dataframe shape: (280, 6)\n"
     ]
    }
   ],
   "source": [
    "# drop the irrelevant recipe data\n",
    "\n",
    "# Drop rows where input_length and pos_length do not match\n",
    "df = df[df['input_length'] == df['pos_length']].reset_index(drop=True)\n",
    "\n",
    "# Display updated shape\n",
    "print(\"Updated dataframe shape:\", df.shape)"
   ]
  },
  {
   "cell_type": "markdown",
   "metadata": {
    "id": "_RJEStPSC9PB"
   },
   "source": [
    "##### **2.2.5** **Update the input_length & pos_length in dataframe**<font color = red> [2 marks]</font> <br>"
   ]
  },
  {
   "cell_type": "code",
   "execution_count": 61,
   "metadata": {
    "id": "XjJd7gPI5_ca"
   },
   "outputs": [
    {
     "data": {
      "text/html": [
       "<div>\n",
       "<style scoped>\n",
       "    .dataframe tbody tr th:only-of-type {\n",
       "        vertical-align: middle;\n",
       "    }\n",
       "\n",
       "    .dataframe tbody tr th {\n",
       "        vertical-align: top;\n",
       "    }\n",
       "\n",
       "    .dataframe thead th {\n",
       "        text-align: right;\n",
       "    }\n",
       "</style>\n",
       "<table border=\"1\" class=\"dataframe\">\n",
       "  <thead>\n",
       "    <tr style=\"text-align: right;\">\n",
       "      <th></th>\n",
       "      <th>input</th>\n",
       "      <th>pos</th>\n",
       "      <th>input_tokens</th>\n",
       "      <th>pos_tokens</th>\n",
       "      <th>input_length</th>\n",
       "      <th>pos_length</th>\n",
       "    </tr>\n",
       "  </thead>\n",
       "  <tbody>\n",
       "    <tr>\n",
       "      <th>0</th>\n",
       "      <td>6 Karela Bitter Gourd Pavakkai Salt 1 Onion 3 tablespoon Gram flour besan 2 teaspoons Turmeric powder Haldi Red Chilli Cumin seeds Jeera Coriander Powder Dhania Amchur Dry Mango Sunflower Oil</td>\n",
       "      <td>quantity ingredient ingredient ingredient ingredient ingredient quantity ingredient quantity unit ingredient ingredient ingredient quantity unit ingredient ingredient ingredient ingredient ingredient ingredient ingredient ingredient ingredient ingredient ingredient ingredient ingredient ingredient ingredient ingredient</td>\n",
       "      <td>[6, Karela, Bitter, Gourd, Pavakkai, Salt, 1, Onion, 3, tablespoon, Gram, flour, besan, 2, teaspoons, Turmeric, powder, Haldi, Red, Chilli, Cumin, seeds, Jeera, Coriander, Powder, Dhania, Amchur, Dry, Mango, Sunflower, Oil]</td>\n",
       "      <td>[quantity, ingredient, ingredient, ingredient, ingredient, ingredient, quantity, ingredient, quantity, unit, ingredient, ingredient, ingredient, quantity, unit, ingredient, ingredient, ingredient, ingredient, ingredient, ingredient, ingredient, ingredient, ingredient, ingredient, ingredient, ingredient, ingredient, ingredient, ingredient, ingredient]</td>\n",
       "      <td>31</td>\n",
       "      <td>31</td>\n",
       "    </tr>\n",
       "    <tr>\n",
       "      <th>1</th>\n",
       "      <td>2-1/2 cups rice cooked 3 tomatoes teaspoons BC Belle Bhat powder 1 teaspoon chickpea lentils 1/2 cumin seeds white urad dal mustard green chilli dry red 2 cashew or peanuts 1-1/2 tablespoon oil asafoetida</td>\n",
       "      <td>quantity unit ingredient ingredient quantity ingredient unit ingredient ingredient ingredient ingredient quantity unit ingredient ingredient quantity ingredient ingredient ingredient ingredient ingredient ingredient ingredient ingredient ingredient ingredient quantity ingredient ingredient ingredient quantity unit ingredient ingredient</td>\n",
       "      <td>[2-1/2, cups, rice, cooked, 3, tomatoes, teaspoons, BC, Belle, Bhat, powder, 1, teaspoon, chickpea, lentils, 1/2, cumin, seeds, white, urad, dal, mustard, green, chilli, dry, red, 2, cashew, or, peanuts, 1-1/2, tablespoon, oil, asafoetida]</td>\n",
       "      <td>[quantity, unit, ingredient, ingredient, quantity, ingredient, unit, ingredient, ingredient, ingredient, ingredient, quantity, unit, ingredient, ingredient, quantity, ingredient, ingredient, ingredient, ingredient, ingredient, ingredient, ingredient, ingredient, ingredient, ingredient, quantity, ingredient, ingredient, ingredient, quantity, unit, ingredient, ingredient]</td>\n",
       "      <td>34</td>\n",
       "      <td>34</td>\n",
       "    </tr>\n",
       "    <tr>\n",
       "      <th>2</th>\n",
       "      <td>1-1/2 cups Rice Vermicelli Noodles Thin 1 Onion sliced 1/2 cup Carrots Gajjar chopped 1/3 Green peas Matar 2 Chillies 1/4 teaspoon Asafoetida hing Mustard seeds White Urad Dal Split Ghee sprig Curry leaves Salt Lemon juice</td>\n",
       "      <td>quantity unit ingredient ingredient ingredient ingredient quantity ingredient ingredient quantity unit ingredient ingredient ingredient quantity ingredient ingredient ingredient quantity ingredient quantity unit ingredient ingredient ingredient ingredient ingredient ingredient ingredient ingredient ingredient unit ingredient ingredient ingredient ingredient ingredient</td>\n",
       "      <td>[1-1/2, cups, Rice, Vermicelli, Noodles, Thin, 1, Onion, sliced, 1/2, cup, Carrots, Gajjar, chopped, 1/3, Green, peas, Matar, 2, Chillies, 1/4, teaspoon, Asafoetida, hing, Mustard, seeds, White, Urad, Dal, Split, Ghee, sprig, Curry, leaves, Salt, Lemon, juice]</td>\n",
       "      <td>[quantity, unit, ingredient, ingredient, ingredient, ingredient, quantity, ingredient, ingredient, quantity, unit, ingredient, ingredient, ingredient, quantity, ingredient, ingredient, ingredient, quantity, ingredient, quantity, unit, ingredient, ingredient, ingredient, ingredient, ingredient, ingredient, ingredient, ingredient, ingredient, unit, ingredient, ingredient, ingredient, ingredient, ingredient]</td>\n",
       "      <td>37</td>\n",
       "      <td>37</td>\n",
       "    </tr>\n",
       "    <tr>\n",
       "      <th>3</th>\n",
       "      <td>500 grams Chicken 2 Onion chopped 1 Tomato 4 Green Chillies slit inch Ginger finely 6 cloves Garlic 1/2 teaspoon Turmeric powder Haldi Garam masala tablespoon Sesame Gingelly Oil 1/4 Methi Seeds Fenugreek Coriander Dhania Dry Red Fennel seeds Saunf cups Sorrel Leaves Gongura picked and</td>\n",
       "      <td>quantity unit ingredient quantity ingredient ingredient quantity ingredient quantity ingredient ingredient ingredient unit ingredient ingredient quantity unit ingredient quantity unit ingredient ingredient ingredient ingredient ingredient unit ingredient ingredient ingredient quantity ingredient ingredient ingredient ingredient ingredient ingredient ingredient ingredient ingredient ingredient unit ingredient ingredient ingredient ingredient ingredient</td>\n",
       "      <td>[500, grams, Chicken, 2, Onion, chopped, 1, Tomato, 4, Green, Chillies, slit, inch, Ginger, finely, 6, cloves, Garlic, 1/2, teaspoon, Turmeric, powder, Haldi, Garam, masala, tablespoon, Sesame, Gingelly, Oil, 1/4, Methi, Seeds, Fenugreek, Coriander, Dhania, Dry, Red, Fennel, seeds, Saunf, cups, Sorrel, Leaves, Gongura, picked, and]</td>\n",
       "      <td>[quantity, unit, ingredient, quantity, ingredient, ingredient, quantity, ingredient, quantity, ingredient, ingredient, ingredient, unit, ingredient, ingredient, quantity, unit, ingredient, quantity, unit, ingredient, ingredient, ingredient, ingredient, ingredient, unit, ingredient, ingredient, ingredient, quantity, ingredient, ingredient, ingredient, ingredient, ingredient, ingredient, ingredient, ingredient, ingredient, ingredient, unit, ingredient, ingredient, ingredient, ingredient, ingredient]</td>\n",
       "      <td>46</td>\n",
       "      <td>46</td>\n",
       "    </tr>\n",
       "    <tr>\n",
       "      <th>4</th>\n",
       "      <td>1 tablespoon chana dal white urad 2 red chillies coriander seeds 3 inches ginger onion tomato Teaspoon mustard asafoetida sprig curry</td>\n",
       "      <td>quantity unit ingredient ingredient ingredient ingredient quantity ingredient ingredient ingredient ingredient quantity unit ingredient ingredient ingredient unit ingredient ingredient unit ingredient</td>\n",
       "      <td>[1, tablespoon, chana, dal, white, urad, 2, red, chillies, coriander, seeds, 3, inches, ginger, onion, tomato, Teaspoon, mustard, asafoetida, sprig, curry]</td>\n",
       "      <td>[quantity, unit, ingredient, ingredient, ingredient, ingredient, quantity, ingredient, ingredient, ingredient, ingredient, quantity, unit, ingredient, ingredient, ingredient, unit, ingredient, ingredient, unit, ingredient]</td>\n",
       "      <td>21</td>\n",
       "      <td>21</td>\n",
       "    </tr>\n",
       "  </tbody>\n",
       "</table>\n",
       "</div>"
      ],
      "text/plain": [
       "                                                                                                                                                                                                                                                                                            input                                                                                                                                                                                                                                                                                                                                                                                                                                                                      pos                                                                                                                                                                                                                                                                                                                                   input_tokens                                                                                                                                                                                                                                                                                                                                                                                                                                                                                                              pos_tokens  input_length  pos_length\n",
       "0                                                                                                 6 Karela Bitter Gourd Pavakkai Salt 1 Onion 3 tablespoon Gram flour besan 2 teaspoons Turmeric powder Haldi Red Chilli Cumin seeds Jeera Coriander Powder Dhania Amchur Dry Mango Sunflower Oil                                                                                                                                         quantity ingredient ingredient ingredient ingredient ingredient quantity ingredient quantity unit ingredient ingredient ingredient quantity unit ingredient ingredient ingredient ingredient ingredient ingredient ingredient ingredient ingredient ingredient ingredient ingredient ingredient ingredient ingredient ingredient                                                                                                                [6, Karela, Bitter, Gourd, Pavakkai, Salt, 1, Onion, 3, tablespoon, Gram, flour, besan, 2, teaspoons, Turmeric, powder, Haldi, Red, Chilli, Cumin, seeds, Jeera, Coriander, Powder, Dhania, Amchur, Dry, Mango, Sunflower, Oil]                                                                                                                                                        [quantity, ingredient, ingredient, ingredient, ingredient, ingredient, quantity, ingredient, quantity, unit, ingredient, ingredient, ingredient, quantity, unit, ingredient, ingredient, ingredient, ingredient, ingredient, ingredient, ingredient, ingredient, ingredient, ingredient, ingredient, ingredient, ingredient, ingredient, ingredient, ingredient]            31          31\n",
       "1                                                                                    2-1/2 cups rice cooked 3 tomatoes teaspoons BC Belle Bhat powder 1 teaspoon chickpea lentils 1/2 cumin seeds white urad dal mustard green chilli dry red 2 cashew or peanuts 1-1/2 tablespoon oil asafoetida                                                                                                                        quantity unit ingredient ingredient quantity ingredient unit ingredient ingredient ingredient ingredient quantity unit ingredient ingredient quantity ingredient ingredient ingredient ingredient ingredient ingredient ingredient ingredient ingredient ingredient quantity ingredient ingredient ingredient quantity unit ingredient ingredient                                                                                                [2-1/2, cups, rice, cooked, 3, tomatoes, teaspoons, BC, Belle, Bhat, powder, 1, teaspoon, chickpea, lentils, 1/2, cumin, seeds, white, urad, dal, mustard, green, chilli, dry, red, 2, cashew, or, peanuts, 1-1/2, tablespoon, oil, asafoetida]                                                                                                                                    [quantity, unit, ingredient, ingredient, quantity, ingredient, unit, ingredient, ingredient, ingredient, ingredient, quantity, unit, ingredient, ingredient, quantity, ingredient, ingredient, ingredient, ingredient, ingredient, ingredient, ingredient, ingredient, ingredient, ingredient, quantity, ingredient, ingredient, ingredient, quantity, unit, ingredient, ingredient]            34          34\n",
       "2                                                                  1-1/2 cups Rice Vermicelli Noodles Thin 1 Onion sliced 1/2 cup Carrots Gajjar chopped 1/3 Green peas Matar 2 Chillies 1/4 teaspoon Asafoetida hing Mustard seeds White Urad Dal Split Ghee sprig Curry leaves Salt Lemon juice                                                                                       quantity unit ingredient ingredient ingredient ingredient quantity ingredient ingredient quantity unit ingredient ingredient ingredient quantity ingredient ingredient ingredient quantity ingredient quantity unit ingredient ingredient ingredient ingredient ingredient ingredient ingredient ingredient ingredient unit ingredient ingredient ingredient ingredient ingredient                                                                           [1-1/2, cups, Rice, Vermicelli, Noodles, Thin, 1, Onion, sliced, 1/2, cup, Carrots, Gajjar, chopped, 1/3, Green, peas, Matar, 2, Chillies, 1/4, teaspoon, Asafoetida, hing, Mustard, seeds, White, Urad, Dal, Split, Ghee, sprig, Curry, leaves, Salt, Lemon, juice]                                                                                                [quantity, unit, ingredient, ingredient, ingredient, ingredient, quantity, ingredient, ingredient, quantity, unit, ingredient, ingredient, ingredient, quantity, ingredient, ingredient, ingredient, quantity, ingredient, quantity, unit, ingredient, ingredient, ingredient, ingredient, ingredient, ingredient, ingredient, ingredient, ingredient, unit, ingredient, ingredient, ingredient, ingredient, ingredient]            37          37\n",
       "3  500 grams Chicken 2 Onion chopped 1 Tomato 4 Green Chillies slit inch Ginger finely 6 cloves Garlic 1/2 teaspoon Turmeric powder Haldi Garam masala tablespoon Sesame Gingelly Oil 1/4 Methi Seeds Fenugreek Coriander Dhania Dry Red Fennel seeds Saunf cups Sorrel Leaves Gongura picked and  quantity unit ingredient quantity ingredient ingredient quantity ingredient quantity ingredient ingredient ingredient unit ingredient ingredient quantity unit ingredient quantity unit ingredient ingredient ingredient ingredient ingredient unit ingredient ingredient ingredient quantity ingredient ingredient ingredient ingredient ingredient ingredient ingredient ingredient ingredient ingredient unit ingredient ingredient ingredient ingredient ingredient  [500, grams, Chicken, 2, Onion, chopped, 1, Tomato, 4, Green, Chillies, slit, inch, Ginger, finely, 6, cloves, Garlic, 1/2, teaspoon, Turmeric, powder, Haldi, Garam, masala, tablespoon, Sesame, Gingelly, Oil, 1/4, Methi, Seeds, Fenugreek, Coriander, Dhania, Dry, Red, Fennel, seeds, Saunf, cups, Sorrel, Leaves, Gongura, picked, and]  [quantity, unit, ingredient, quantity, ingredient, ingredient, quantity, ingredient, quantity, ingredient, ingredient, ingredient, unit, ingredient, ingredient, quantity, unit, ingredient, quantity, unit, ingredient, ingredient, ingredient, ingredient, ingredient, unit, ingredient, ingredient, ingredient, quantity, ingredient, ingredient, ingredient, ingredient, ingredient, ingredient, ingredient, ingredient, ingredient, ingredient, unit, ingredient, ingredient, ingredient, ingredient, ingredient]            46          46\n",
       "4                                                                                                                                                           1 tablespoon chana dal white urad 2 red chillies coriander seeds 3 inches ginger onion tomato Teaspoon mustard asafoetida sprig curry                                                                                                                                                                                                                                                                 quantity unit ingredient ingredient ingredient ingredient quantity ingredient ingredient ingredient ingredient quantity unit ingredient ingredient ingredient unit ingredient ingredient unit ingredient                                                                                                                                                                                    [1, tablespoon, chana, dal, white, urad, 2, red, chillies, coriander, seeds, 3, inches, ginger, onion, tomato, Teaspoon, mustard, asafoetida, sprig, curry]                                                                                                                                                                                                                                                                                          [quantity, unit, ingredient, ingredient, ingredient, ingredient, quantity, ingredient, ingredient, ingredient, ingredient, quantity, unit, ingredient, ingredient, ingredient, unit, ingredient, ingredient, unit, ingredient]            21          21"
      ]
     },
     "execution_count": 61,
     "metadata": {},
     "output_type": "execute_result"
    }
   ],
   "source": [
    "# update the input and pos length in input_length and pos_length\n",
    "\n",
    "# Update input_length and pos_length columns\n",
    "df['input_length'] = df['input_tokens'].apply(len)\n",
    "df['pos_length'] = df['pos_tokens'].apply(len)\n",
    "\n",
    "# Optional: Display the first few rows to confirm\n",
    "df.head()"
   ]
  },
  {
   "cell_type": "markdown",
   "metadata": {
    "id": "qJdYJ2TEDBzd"
   },
   "source": [
    "##### **2.2.6** **Validate the input_length and pos_length by checking unequal rows** <font color = red> [1 marks]</font> <br>"
   ]
  },
  {
   "cell_type": "code",
   "execution_count": 91,
   "metadata": {
    "id": "fdSsdOPM8aXo"
   },
   "outputs": [
    {
     "name": "stdout",
     "output_type": "stream",
     "text": [
      "Number of mismatched rows: 0\n"
     ]
    }
   ],
   "source": [
    "# validate the input length and pos length as input_length and pos_length\n",
    "\n",
    "# Check for any remaining mismatched rows\n",
    "mismatched_rows = df[df['input_length'] != df['pos_length']]\n",
    "\n",
    "# Display results\n",
    "print(\"Number of mismatched rows:\", len(mismatched_rows))"
   ]
  },
  {
   "cell_type": "markdown",
   "metadata": {
    "id": "TwKLW4em-qMu"
   },
   "source": [
    "## **3** Train Validation Split (70 train - 30 val) <font color = red>[6 marks]</font> <br>"
   ]
  },
  {
   "cell_type": "markdown",
   "metadata": {
    "id": "z_pJDTVO-71z"
   },
   "source": [
    "#### **3.1** *Perform train and validation split ratio* <font color = red>[6 marks]</font> <br>\n",
    "Split the dataset with the help of input_tokens and pos_tokens and make a ratio of 70:30 split for training and validation datasets."
   ]
  },
  {
   "cell_type": "markdown",
   "metadata": {
    "id": "l-64gdDiIy9u"
   },
   "source": [
    "###### **3.1.1** **Split the dataset into train_df and val_df into 70:30 ratio** <font color = red> [1 marks]</font> <br>"
   ]
  },
  {
   "cell_type": "code",
   "execution_count": 93,
   "metadata": {
    "id": "W20A_-9E_WOv"
   },
   "outputs": [
    {
     "name": "stdout",
     "output_type": "stream",
     "text": [
      "Training set size: (196, 2)\n",
      "Validation set size: (84, 2)\n"
     ]
    }
   ],
   "source": [
    "# split the dataset into training and validation sets\n",
    "\n",
    "train_df, val_df = train_test_split(df[['input_tokens', 'pos_tokens']], test_size=0.3, random_state=42)\n",
    "\n",
    "# Display shapes of the splits\n",
    "print(\"Training set size:\", train_df.shape)\n",
    "print(\"Validation set size:\", val_df.shape)\n"
   ]
  },
  {
   "cell_type": "markdown",
   "metadata": {
    "id": "PUA05_77JRAv"
   },
   "source": [
    "###### **3.1.2** **Print the first five rows of train_df and val_df** <font color = red> [1 marks]</font> <br>"
   ]
  },
  {
   "cell_type": "code",
   "execution_count": 95,
   "metadata": {
    "id": "pgMZfsbV_XhK"
   },
   "outputs": [
    {
     "data": {
      "text/html": [
       "<div>\n",
       "<style scoped>\n",
       "    .dataframe tbody tr th:only-of-type {\n",
       "        vertical-align: middle;\n",
       "    }\n",
       "\n",
       "    .dataframe tbody tr th {\n",
       "        vertical-align: top;\n",
       "    }\n",
       "\n",
       "    .dataframe thead th {\n",
       "        text-align: right;\n",
       "    }\n",
       "</style>\n",
       "<table border=\"1\" class=\"dataframe\">\n",
       "  <thead>\n",
       "    <tr style=\"text-align: right;\">\n",
       "      <th></th>\n",
       "      <th>input_tokens</th>\n",
       "      <th>pos_tokens</th>\n",
       "    </tr>\n",
       "  </thead>\n",
       "  <tbody>\n",
       "    <tr>\n",
       "      <th>175</th>\n",
       "      <td>[250, grams, Okra, Oil, 1, Onion, finely, chopped, Tomato, Grated, teaspoon, Ginger, 2, Garlic, Finely, 1/2, Cumin, seeds, 1/4, Teaspoon, asafoetida, cup, cottage, cheese, pinched, coriander, powder, mango, red, chilli, turmeric]</td>\n",
       "      <td>[quantity, unit, ingredient, ingredient, quantity, ingredient, ingredient, ingredient, ingredient, ingredient, unit, ingredient, quantity, ingredient, ingredient, quantity, ingredient, ingredient, quantity, unit, ingredient, unit, ingredient, ingredient, ingredient, ingredient, ingredient, ingredient, ingredient, ingredient, ingredient]</td>\n",
       "    </tr>\n",
       "    <tr>\n",
       "      <th>55</th>\n",
       "      <td>[200, grams, Paneer, Homemade, Cottage, Cheese, 2, Potato, Aloo, Bay, leaf, tej, patta, Dry, Red, Chilli, 1, tablespoon, Panch, Phoran, Masala, roasted, and, powdered, Tomato, big, sized, teaspoon, Turmeric, powder, Haldi, Cumin, seeds, Jeera, Ginger, grated, Salt, 1/2, Sugar, Sunflower, Oil]</td>\n",
       "      <td>[quantity, unit, ingredient, ingredient, ingredient, ingredient, quantity, ingredient, ingredient, ingredient, ingredient, ingredient, ingredient, ingredient, ingredient, ingredient, quantity, unit, ingredient, ingredient, ingredient, ingredient, ingredient, ingredient, ingredient, ingredient, ingredient, unit, ingredient, ingredient, ingredient, ingredient, ingredient, ingredient, ingredient, ingredient, ingredient, quantity, ingredient, ingredient, ingredient]</td>\n",
       "    </tr>\n",
       "    <tr>\n",
       "      <th>109</th>\n",
       "      <td>[500, grams, Cabbage, Patta, Gobi, Muttaikose, 1, teaspoon, Mustard, seeds, 1-1/2, White, Urad, Dal, Split, sprig, Curry, leaves, Green, Chilli, 1/4, cup, Fresh, coconut, Salt]</td>\n",
       "      <td>[quantity, unit, ingredient, ingredient, ingredient, ingredient, quantity, unit, ingredient, ingredient, quantity, ingredient, ingredient, ingredient, ingredient, unit, ingredient, ingredient, ingredient, ingredient, quantity, unit, ingredient, ingredient, ingredient]</td>\n",
       "    </tr>\n",
       "    <tr>\n",
       "      <th>213</th>\n",
       "      <td>[500, grams, Fresh, Figs, 1/4, cup, Lemon, juice, 1, teaspoon, zest, 2, Red, Chilli, flakes, 1/2, Honey, Brown, Sugar, (Demerara, Sugar)]</td>\n",
       "      <td>[quantity, unit, ingredient, ingredient, quantity, unit, ingredient, ingredient, quantity, unit, ingredient, quantity, ingredient, ingredient, ingredient, quantity, ingredient, ingredient, ingredient, ingredient, ingredient]</td>\n",
       "    </tr>\n",
       "    <tr>\n",
       "      <th>38</th>\n",
       "      <td>[2, cups, Water, 1, teaspoon, Tea, leaves, 1/4, Milk, 10, Saffron, strands]</td>\n",
       "      <td>[quantity, unit, ingredient, quantity, unit, ingredient, ingredient, quantity, ingredient, quantity, ingredient, ingredient]</td>\n",
       "    </tr>\n",
       "  </tbody>\n",
       "</table>\n",
       "</div>"
      ],
      "text/plain": [
       "                                                                                                                                                                                                                                                                                              input_tokens                                                                                                                                                                                                                                                                                                                                                                                                                                                                          pos_tokens\n",
       "175                                                                  [250, grams, Okra, Oil, 1, Onion, finely, chopped, Tomato, Grated, teaspoon, Ginger, 2, Garlic, Finely, 1/2, Cumin, seeds, 1/4, Teaspoon, asafoetida, cup, cottage, cheese, pinched, coriander, powder, mango, red, chilli, turmeric]                                                                                                                                  [quantity, unit, ingredient, ingredient, quantity, ingredient, ingredient, ingredient, ingredient, ingredient, unit, ingredient, quantity, ingredient, ingredient, quantity, ingredient, ingredient, quantity, unit, ingredient, unit, ingredient, ingredient, ingredient, ingredient, ingredient, ingredient, ingredient, ingredient, ingredient]\n",
       "55   [200, grams, Paneer, Homemade, Cottage, Cheese, 2, Potato, Aloo, Bay, leaf, tej, patta, Dry, Red, Chilli, 1, tablespoon, Panch, Phoran, Masala, roasted, and, powdered, Tomato, big, sized, teaspoon, Turmeric, powder, Haldi, Cumin, seeds, Jeera, Ginger, grated, Salt, 1/2, Sugar, Sunflower, Oil]  [quantity, unit, ingredient, ingredient, ingredient, ingredient, quantity, ingredient, ingredient, ingredient, ingredient, ingredient, ingredient, ingredient, ingredient, ingredient, quantity, unit, ingredient, ingredient, ingredient, ingredient, ingredient, ingredient, ingredient, ingredient, ingredient, unit, ingredient, ingredient, ingredient, ingredient, ingredient, ingredient, ingredient, ingredient, ingredient, quantity, ingredient, ingredient, ingredient]\n",
       "109                                                                                                                       [500, grams, Cabbage, Patta, Gobi, Muttaikose, 1, teaspoon, Mustard, seeds, 1-1/2, White, Urad, Dal, Split, sprig, Curry, leaves, Green, Chilli, 1/4, cup, Fresh, coconut, Salt]                                                                                                                                                                                                        [quantity, unit, ingredient, ingredient, ingredient, ingredient, quantity, unit, ingredient, ingredient, quantity, ingredient, ingredient, ingredient, ingredient, unit, ingredient, ingredient, ingredient, ingredient, quantity, unit, ingredient, ingredient, ingredient]\n",
       "213                                                                                                                                                              [500, grams, Fresh, Figs, 1/4, cup, Lemon, juice, 1, teaspoon, zest, 2, Red, Chilli, flakes, 1/2, Honey, Brown, Sugar, (Demerara, Sugar)]                                                                                                                                                                                                                                                    [quantity, unit, ingredient, ingredient, quantity, unit, ingredient, ingredient, quantity, unit, ingredient, quantity, ingredient, ingredient, ingredient, quantity, ingredient, ingredient, ingredient, ingredient, ingredient]\n",
       "38                                                                                                                                                                                                                             [2, cups, Water, 1, teaspoon, Tea, leaves, 1/4, Milk, 10, Saffron, strands]                                                                                                                                                                                                                                                                                                                                                        [quantity, unit, ingredient, quantity, unit, ingredient, ingredient, quantity, ingredient, quantity, ingredient, ingredient]"
      ]
     },
     "execution_count": 95,
     "metadata": {},
     "output_type": "execute_result"
    }
   ],
   "source": [
    "# print the first five rows of train_df\n",
    "\n",
    "train_df.head()\n"
   ]
  },
  {
   "cell_type": "code",
   "execution_count": 97,
   "metadata": {
    "id": "Kgtg5WE4_d7h"
   },
   "outputs": [
    {
     "data": {
      "text/html": [
       "<div>\n",
       "<style scoped>\n",
       "    .dataframe tbody tr th:only-of-type {\n",
       "        vertical-align: middle;\n",
       "    }\n",
       "\n",
       "    .dataframe tbody tr th {\n",
       "        vertical-align: top;\n",
       "    }\n",
       "\n",
       "    .dataframe thead th {\n",
       "        text-align: right;\n",
       "    }\n",
       "</style>\n",
       "<table border=\"1\" class=\"dataframe\">\n",
       "  <thead>\n",
       "    <tr style=\"text-align: right;\">\n",
       "      <th></th>\n",
       "      <th>input_tokens</th>\n",
       "      <th>pos_tokens</th>\n",
       "    </tr>\n",
       "  </thead>\n",
       "  <tbody>\n",
       "    <tr>\n",
       "      <th>33</th>\n",
       "      <td>[1, cup, Ada, 2, liter, Milk, 3/4, Sugar, tablespoon, Ghee, 1/2, teaspoon, Cardamom, Powder, Elaichi]</td>\n",
       "      <td>[quantity, unit, ingredient, quantity, unit, ingredient, quantity, ingredient, unit, ingredient, quantity, unit, ingredient, ingredient, ingredient]</td>\n",
       "    </tr>\n",
       "    <tr>\n",
       "      <th>108</th>\n",
       "      <td>[1, Carrot, Gajjar, chopped, 7, Potatoes, Aloo, 2, cups, Cauliflower, gobi, cut, to, small, florets, Onion, tablespoon, Ginger, Garlic, Paste, Salt, teaspoons, Sunflower, Oil, 1/2, cup, Fresh, coconut, grated, teaspoon, Whole, Black, Peppercorns, Green, Chillies, Fennel, seeds, Saunf, Poppy, 6, Cashew, nuts, inch, Cinnamon, Stick, Dalchini, Star, anise, 3, Cloves, Laung, Cardamom, Elaichi, Pods/Seeds, Cumin, Jeera]</td>\n",
       "      <td>[quantity, ingredient, ingredient, ingredient, quantity, ingredient, ingredient, quantity, unit, ingredient, ingredient, ingredient, ingredient, ingredient, ingredient, ingredient, unit, ingredient, ingredient, ingredient, ingredient, unit, ingredient, ingredient, quantity, unit, ingredient, ingredient, ingredient, unit, ingredient, ingredient, ingredient, ingredient, ingredient, ingredient, ingredient, ingredient, ingredient, quantity, ingredient, ingredient, unit, ingredient, ingredient, ingredient, ingredient, ingredient, quantity, ingredient, ingredient, ingredient, ingredient, ingredient, ingredient, ingredient]</td>\n",
       "    </tr>\n",
       "    <tr>\n",
       "      <th>240</th>\n",
       "      <td>[1, tablespoon, Sunflower, Oil, 3, Potato, Aloo, Ginger, paste, Green, Chilli, chopped, 1-1/12, tablespoons, Sesame, seeds, Til, teaspoon, Red, powder, Cumin, Jeera, Coriander, Powder, Dhania, 1/2, Garam, masala, 2, Sweet, Chutney, Date, Tamarind, Leaves, few]</td>\n",
       "      <td>[quantity, unit, ingredient, ingredient, quantity, ingredient, ingredient, ingredient, ingredient, ingredient, ingredient, ingredient, quantity, unit, ingredient, ingredient, ingredient, unit, ingredient, ingredient, ingredient, ingredient, ingredient, ingredient, ingredient, quantity, ingredient, ingredient, quantity, ingredient, ingredient, ingredient, ingredient, ingredient, ingredient]</td>\n",
       "    </tr>\n",
       "    <tr>\n",
       "      <th>259</th>\n",
       "      <td>[1, cup, green, peas, gram, flour, 1/2, cheese, tsp, ginger, 2, chillies, turmeric, powder, cumin, teaspoon, salt, oil]</td>\n",
       "      <td>[quantity, unit, ingredient, ingredient, ingredient, ingredient, quantity, ingredient, unit, ingredient, quantity, ingredient, ingredient, ingredient, ingredient, unit, ingredient, ingredient]</td>\n",
       "    </tr>\n",
       "    <tr>\n",
       "      <th>154</th>\n",
       "      <td>[2, cups, Brown, Rice, cooked, tablespoons, Garlic, chopped, 1, Green, Chilli, 1/2, cup, Carrots, (Gajjar), beans, (French, Beans), Bell, Pepper, (Capsicum), Onion, Cabbage, (Patta, Gobi/, Muttaikose), tablespoon, Roasted, tomato, pasta, sauce, -, or, store, bought, Red, teaspoon, Soy, Ginger, freshly, grated, Spring, Greens, Salt, Vinegar, Extra, Virgin, Olive, Oil, as, required]</td>\n",
       "      <td>[quantity, unit, ingredient, ingredient, ingredient, unit, ingredient, ingredient, quantity, ingredient, ingredient, quantity, unit, ingredient, ingredient, ingredient, ingredient, ingredient, ingredient, ingredient, ingredient, ingredient, ingredient, ingredient, ingredient, ingredient, unit, ingredient, ingredient, ingredient, ingredient, ingredient, ingredient, ingredient, ingredient, ingredient, unit, ingredient, ingredient, ingredient, ingredient, ingredient, ingredient, ingredient, ingredient, ingredient, ingredient, ingredient, ingredient, ingredient, ingredient]</td>\n",
       "    </tr>\n",
       "  </tbody>\n",
       "</table>\n",
       "</div>"
      ],
      "text/plain": [
       "                                                                                                                                                                                                                                                                                                                                                                                                                           input_tokens                                                                                                                                                                                                                                                                                                                                                                                                                                                                                                                                                                                                                                        pos_tokens\n",
       "33                                                                                                                                                                                                                                                                                                                                [1, cup, Ada, 2, liter, Milk, 3/4, Sugar, tablespoon, Ghee, 1/2, teaspoon, Cardamom, Powder, Elaichi]                                                                                                                                                                                                                                                                                                                                                                                                                                                                                              [quantity, unit, ingredient, quantity, unit, ingredient, quantity, ingredient, unit, ingredient, quantity, unit, ingredient, ingredient, ingredient]\n",
       "108  [1, Carrot, Gajjar, chopped, 7, Potatoes, Aloo, 2, cups, Cauliflower, gobi, cut, to, small, florets, Onion, tablespoon, Ginger, Garlic, Paste, Salt, teaspoons, Sunflower, Oil, 1/2, cup, Fresh, coconut, grated, teaspoon, Whole, Black, Peppercorns, Green, Chillies, Fennel, seeds, Saunf, Poppy, 6, Cashew, nuts, inch, Cinnamon, Stick, Dalchini, Star, anise, 3, Cloves, Laung, Cardamom, Elaichi, Pods/Seeds, Cumin, Jeera]  [quantity, ingredient, ingredient, ingredient, quantity, ingredient, ingredient, quantity, unit, ingredient, ingredient, ingredient, ingredient, ingredient, ingredient, ingredient, unit, ingredient, ingredient, ingredient, ingredient, unit, ingredient, ingredient, quantity, unit, ingredient, ingredient, ingredient, unit, ingredient, ingredient, ingredient, ingredient, ingredient, ingredient, ingredient, ingredient, ingredient, quantity, ingredient, ingredient, unit, ingredient, ingredient, ingredient, ingredient, ingredient, quantity, ingredient, ingredient, ingredient, ingredient, ingredient, ingredient, ingredient]\n",
       "240                                                                                                                                                                [1, tablespoon, Sunflower, Oil, 3, Potato, Aloo, Ginger, paste, Green, Chilli, chopped, 1-1/12, tablespoons, Sesame, seeds, Til, teaspoon, Red, powder, Cumin, Jeera, Coriander, Powder, Dhania, 1/2, Garam, masala, 2, Sweet, Chutney, Date, Tamarind, Leaves, few]                                                                                                                                                                                                                                          [quantity, unit, ingredient, ingredient, quantity, ingredient, ingredient, ingredient, ingredient, ingredient, ingredient, ingredient, quantity, unit, ingredient, ingredient, ingredient, unit, ingredient, ingredient, ingredient, ingredient, ingredient, ingredient, ingredient, quantity, ingredient, ingredient, quantity, ingredient, ingredient, ingredient, ingredient, ingredient, ingredient]\n",
       "259                                                                                                                                                                                                                                                                                                             [1, cup, green, peas, gram, flour, 1/2, cheese, tsp, ginger, 2, chillies, turmeric, powder, cumin, teaspoon, salt, oil]                                                                                                                                                                                                                                                                                                                                                                                                                                                  [quantity, unit, ingredient, ingredient, ingredient, ingredient, quantity, ingredient, unit, ingredient, quantity, ingredient, ingredient, ingredient, ingredient, unit, ingredient, ingredient]\n",
       "154                                     [2, cups, Brown, Rice, cooked, tablespoons, Garlic, chopped, 1, Green, Chilli, 1/2, cup, Carrots, (Gajjar), beans, (French, Beans), Bell, Pepper, (Capsicum), Onion, Cabbage, (Patta, Gobi/, Muttaikose), tablespoon, Roasted, tomato, pasta, sauce, -, or, store, bought, Red, teaspoon, Soy, Ginger, freshly, grated, Spring, Greens, Salt, Vinegar, Extra, Virgin, Olive, Oil, as, required]                                                  [quantity, unit, ingredient, ingredient, ingredient, unit, ingredient, ingredient, quantity, ingredient, ingredient, quantity, unit, ingredient, ingredient, ingredient, ingredient, ingredient, ingredient, ingredient, ingredient, ingredient, ingredient, ingredient, ingredient, ingredient, unit, ingredient, ingredient, ingredient, ingredient, ingredient, ingredient, ingredient, ingredient, ingredient, unit, ingredient, ingredient, ingredient, ingredient, ingredient, ingredient, ingredient, ingredient, ingredient, ingredient, ingredient, ingredient, ingredient, ingredient]"
      ]
     },
     "execution_count": 97,
     "metadata": {},
     "output_type": "execute_result"
    }
   ],
   "source": [
    "# print the first five rows of the val_df\n",
    "val_df.head()"
   ]
  },
  {
   "cell_type": "markdown",
   "metadata": {
    "id": "7prEiaiqI_VZ"
   },
   "source": [
    "###### **3.1.3** **Extract the dataset into train_df and val_df into X_train, X_val, y_train and y_val and display their length** <font color = red> [2 marks]</font> <br>\n",
    "\n",
    "Extract X_train, X_val, y_train and y_val by extracting the list of input_tokens and pos_tokens from train_df and val_df and also display their length"
   ]
  },
  {
   "cell_type": "code",
   "execution_count": 99,
   "metadata": {
    "id": "BFVnCD71IHXF"
   },
   "outputs": [
    {
     "name": "stdout",
     "output_type": "stream",
     "text": [
      "Length of X_train: 196\n",
      "Length of y_train: 196\n",
      "Length of X_val: 84\n",
      "Length of y_val: 84\n"
     ]
    }
   ],
   "source": [
    "# extract the training and validation sets by taking input_tokens and pos_tokens\n",
    "\n",
    "X_train = train_df['input_tokens'].tolist()\n",
    "y_train = train_df['pos_tokens'].tolist()\n",
    "\n",
    "X_val = val_df['input_tokens'].tolist()\n",
    "y_val = val_df['pos_tokens'].tolist()\n",
    "\n",
    "# Display lengths of each set\n",
    "print(\"Length of X_train:\", len(X_train))\n",
    "print(\"Length of y_train:\", len(y_train))\n",
    "print(\"Length of X_val:\", len(X_val))\n",
    "print(\"Length of y_val:\", len(y_val))"
   ]
  },
  {
   "cell_type": "code",
   "execution_count": 101,
   "metadata": {
    "id": "yQPOVz3J_fiq"
   },
   "outputs": [
    {
     "name": "stdout",
     "output_type": "stream",
     "text": [
      "Training samples: X = 196 , y = 196\n",
      "Validation samples: X = 84 , y = 84\n"
     ]
    }
   ],
   "source": [
    "# validate the shape of training and validation samples\n",
    "\n",
    "print(\"Training samples: X =\", len(X_train), \", y =\", len(y_train))\n",
    "print(\"Validation samples: X =\", len(X_val), \", y =\", len(y_val))"
   ]
  },
  {
   "cell_type": "markdown",
   "metadata": {
    "id": "8uicUYglLeiA"
   },
   "source": [
    "###### **3.1.4** **Display the number of unique labels present in y_train** <font color = red> [2 marks]</font> <br>"
   ]
  },
  {
   "cell_type": "code",
   "execution_count": 103,
   "metadata": {
    "id": "hzWtzpdINt6X"
   },
   "outputs": [
    {
     "name": "stdout",
     "output_type": "stream",
     "text": [
      "Number of unique POS labels in y_train: 3\n",
      "Unique labels: ['ingredient', 'quantity', 'unit']\n"
     ]
    }
   ],
   "source": [
    "# Display the number of unique labels present in y_train\n",
    "\n",
    "# Flatten y_train and get unique POS labels\n",
    "unique_labels = set(label for seq in y_train for label in seq)\n",
    "\n",
    "# Display count and labels\n",
    "print(\"Number of unique POS labels in y_train:\", len(unique_labels))\n",
    "print(\"Unique labels:\", sorted(unique_labels))"
   ]
  },
  {
   "cell_type": "markdown",
   "metadata": {
    "id": "QFm46QrB4gmj"
   },
   "source": [
    "## **4** Exploratory Recipe Data Analysis on Training Dataset <font color = red>[16 marks]</font> <br>"
   ]
  },
  {
   "cell_type": "markdown",
   "metadata": {
    "id": "KUWIp0n_NeH6"
   },
   "source": [
    "#### **4.1** *Flatten the lists for input_tokens & pos_tokens* <font color = red>[2 marks]</font> <br>\n",
    "\n",
    "Define a function **flatten_list** for flattening the structure for input_tokens and pos_tokens. The input parameter passed to this function is a nested list.\n",
    "\n",
    "Initialise the dataset_name with a value ***'Training'***\n",
    "\n",
    "\n"
   ]
  },
  {
   "cell_type": "code",
   "execution_count": 109,
   "metadata": {
    "id": "WzcY0gPiOe8o"
   },
   "outputs": [
    {
     "name": "stdout",
     "output_type": "stream",
     "text": [
      "Training dataset flattened:\n",
      "Sample input tokens: ['250', 'grams', 'Okra', 'Oil', '1', 'Onion', 'finely', 'chopped', 'Tomato', 'Grated']\n",
      "Sample POS tokens: ['quantity', 'unit', 'ingredient', 'ingredient', 'quantity', 'ingredient', 'ingredient', 'ingredient', 'ingredient', 'ingredient']\n"
     ]
    }
   ],
   "source": [
    "# flatten the list for nested_list (input_tokens, pos_tokens)\n",
    "\n",
    "# Define function to flatten a nested list\n",
    "def flatten_list(nested_list):\n",
    "    return [item for sublist in nested_list for item in sublist]\n",
    "\n",
    "# Set dataset name\n",
    "dataset_name = 'Training'\n",
    "\n",
    "# Flatten input_tokens and pos_tokens\n",
    "flat_input_tokens = flatten_list(X_train)\n",
    "flat_pos_tokens = flatten_list(y_train)\n",
    "\n",
    "# Display sample output\n",
    "print(f\"{dataset_name} dataset flattened:\")\n",
    "print(\"Sample input tokens:\", flat_input_tokens[:10])\n",
    "print(\"Sample POS tokens:\", flat_pos_tokens[:10])"
   ]
  },
  {
   "cell_type": "code",
   "execution_count": 111,
   "metadata": {
    "id": "DXRda29gNBH8"
   },
   "outputs": [],
   "source": [
    "# initialise the dataset_name\n",
    "dataset_name = 'Training'"
   ]
  },
  {
   "cell_type": "markdown",
   "metadata": {
    "id": "eGOqhd8OOr1E"
   },
   "source": [
    "#### **4.2** *Extract and validate the tokens after using the flattening technique* <font color = red>[2 marks]</font> <br>\n",
    "\n",
    "Define a function named ***extract_and_validate_tokens*** with parameters dataframe and dataset_name (Training/Validation), validate the length of input_tokens and pos_tokens from dataframe and display first 10 records for both the input_tokens and pos_tokens. Execute this function\n",
    "\n",
    "\n"
   ]
  },
  {
   "cell_type": "code",
   "execution_count": 113,
   "metadata": {
    "id": "H3GMX83xP7ja"
   },
   "outputs": [
    {
     "name": "stdout",
     "output_type": "stream",
     "text": [
      "Training Dataset Token Validation:\n",
      "Total input tokens: 7114\n",
      "Total POS tokens: 7114\n",
      "Lengths match: True\n",
      "\n",
      "First 10 input tokens: ['250', 'grams', 'Okra', 'Oil', '1', 'Onion', 'finely', 'chopped', 'Tomato', 'Grated']\n",
      "First 10 POS tokens: ['quantity', 'unit', 'ingredient', 'ingredient', 'quantity', 'ingredient', 'ingredient', 'ingredient', 'ingredient', 'ingredient']\n"
     ]
    }
   ],
   "source": [
    "# define a extract_and_validate_tokens with parameters (df, dataset_name)\n",
    "def extract_and_validate_tokens(dataframe, dataset_name):\n",
    "    \n",
    "# call the flatten_list and apply it on input_tokens and pos_tokens\n",
    "    def flatten_list(nested_list):\n",
    "        return [item for sublist in nested_list for item in sublist]\n",
    "    \n",
    "    flat_input_tokens = flatten_list(dataframe['input_tokens'])\n",
    "    flat_pos_tokens = flatten_list(dataframe['pos_tokens'])\n",
    "    \n",
    "# validate their length and display first 10 records having input and pos tokens\n",
    "    print(f\"{dataset_name} Dataset Token Validation:\")\n",
    "    print(\"Total input tokens:\", len(flat_input_tokens))\n",
    "    print(\"Total POS tokens:\", len(flat_pos_tokens))\n",
    "    print(\"Lengths match:\", len(flat_input_tokens) == len(flat_pos_tokens))\n",
    "    \n",
    "    print(\"\\nFirst 10 input tokens:\", flat_input_tokens[:10])\n",
    "    print(\"First 10 POS tokens:\", flat_pos_tokens[:10])\n",
    "\n",
    "# Execute the function on training data\n",
    "extract_and_validate_tokens(train_df, 'Training')\n"
   ]
  },
  {
   "cell_type": "code",
   "execution_count": 115,
   "metadata": {
    "id": "ajdbYMgeLpf9"
   },
   "outputs": [
    {
     "name": "stdout",
     "output_type": "stream",
     "text": [
      "250 -> quantity\n",
      "grams -> unit\n",
      "Okra -> ingredient\n",
      "Oil -> ingredient\n",
      "1 -> quantity\n",
      "Onion -> ingredient\n",
      "finely -> ingredient\n",
      "chopped -> ingredient\n",
      "Tomato -> ingredient\n",
      "Grated -> ingredient\n"
     ]
    }
   ],
   "source": [
    "# extract the tokens and its pos tags\n",
    "\n",
    "tokens = [token for sublist in train_df['input_tokens'] for token in sublist]\n",
    "pos_tags = [tag for sublist in train_df['pos_tokens'] for tag in sublist]\n",
    "\n",
    "# Display first 10 token-tag pairs\n",
    "for token, tag in zip(tokens[:10], pos_tags[:10]):\n",
    "    print(f\"{token} -> {tag}\")"
   ]
  },
  {
   "cell_type": "markdown",
   "metadata": {
    "id": "htZVn5wcQSok"
   },
   "source": [
    "#### **4.3** *Categorise tokens into labels (unit, ingredient, quantity)* <font color = red>[2 marks]</font> <br>\n",
    "\n",
    "Define a function ***categorize_tokens*** to categorise tokens into ingredients, units and quantities by using extracted tokens in the previous code and return a list of ingredients, units and quantities. Execute this function to get the list.\n",
    "\n"
   ]
  },
  {
   "cell_type": "code",
   "execution_count": 117,
   "metadata": {
    "id": "7xq0a4L7Quct"
   },
   "outputs": [
    {
     "name": "stdout",
     "output_type": "stream",
     "text": [
      "Sample ingredients: ['Okra', 'Oil', 'Onion', 'finely', 'chopped', 'Tomato', 'Grated', 'Ginger', 'Garlic', 'Finely']\n",
      "Sample units: ['grams', 'teaspoon', 'Teaspoon', 'cup', 'grams', 'tablespoon', 'teaspoon', 'grams', 'teaspoon', 'sprig']\n",
      "Sample quantities: ['250', '1', '2', '1/2', '1/4', '200', '2', '1', '1/2', '500']\n"
     ]
    }
   ],
   "source": [
    "# define a categorize_tokens function and provide the tokens and pos_tags as parameters and create ingredient, unit and quantity list and return it\n",
    "\n",
    "def categorize_tokens(tokens, pos_tags):\n",
    "\n",
    "# validate the list that it comprised of these labels, if not return empty arrays\n",
    "    valid_tags = {'ingredient', 'unit', 'quantity'}\n",
    "    \n",
    "    if not set(pos_tags).issubset(valid_tags):\n",
    "        print(\"Invalid tags detected. Returning empty lists.\")\n",
    "        return [], [], []\n",
    "\n",
    "    ingredients = []\n",
    "    units = []\n",
    "    quantities = []\n",
    "\n",
    "    for token, tag in zip(tokens, pos_tags):\n",
    "        if tag == 'ingredient':\n",
    "            ingredients.append(token)\n",
    "        elif tag == 'unit':\n",
    "            units.append(token)\n",
    "        elif tag == 'quantity':\n",
    "            quantities.append(token)\n",
    "    \n",
    "    return ingredients, units, quantities\n",
    "\n",
    "# Execute the function\n",
    "ingredients, units, quantities = categorize_tokens(tokens, pos_tags)\n",
    "\n",
    "# Display sample results\n",
    "print(\"Sample ingredients:\", ingredients[:10])\n",
    "print(\"Sample units:\", units[:10])\n",
    "print(\"Sample quantities:\", quantities[:10])"
   ]
  },
  {
   "cell_type": "code",
   "execution_count": 119,
   "metadata": {
    "id": "evcsigvUL7bM"
   },
   "outputs": [
    {
     "name": "stdout",
     "output_type": "stream",
     "text": [
      "Sample ingredients: ['Okra', 'Oil', 'Onion', 'finely', 'chopped', 'Tomato', 'Grated', 'Ginger', 'Garlic', 'Finely']\n",
      "Sample units: ['grams', 'teaspoon', 'Teaspoon', 'cup', 'grams', 'tablespoon', 'teaspoon', 'grams', 'teaspoon', 'sprig']\n",
      "Sample quantities: ['250', '1', '2', '1/2', '1/4', '200', '2', '1', '1/2', '500']\n"
     ]
    }
   ],
   "source": [
    "# call the function to categorise the labels into respective list\n",
    "ingredients, units, quantities = categorize_tokens(tokens, pos_tags)\n",
    "\n",
    "# Display sample results\n",
    "print(\"Sample ingredients:\", ingredients[:10])\n",
    "print(\"Sample units:\", units[:10])\n",
    "print(\"Sample quantities:\", quantities[:10])"
   ]
  },
  {
   "cell_type": "markdown",
   "metadata": {
    "id": "QSGau4EgZCix"
   },
   "source": [
    "#### **4.4** *Top 10 Most Frequent Items* <font color = red>[3 marks]</font> <br>\n",
    "\n",
    "Define a function ***get_top_frequent_items*** to display top 10 most frequent items\n",
    "\n",
    "Here, item_list is used as a general parameter where you will call this function for ingredient and unit list\n",
    "\n",
    "Execute this function separately for top 10 most units and ingredients\n",
    "\n"
   ]
  },
  {
   "cell_type": "code",
   "execution_count": 121,
   "metadata": {
    "id": "kXc8h3H4ZOZ4"
   },
   "outputs": [
    {
     "name": "stdout",
     "output_type": "stream",
     "text": [
      "\n",
      "Top 10 most frequent ingredients in Training dataset:\n",
      "powder: 129\n",
      "Salt: 102\n",
      "seeds: 89\n",
      "Green: 85\n",
      "chopped: 84\n",
      "Oil: 83\n",
      "Red: 81\n",
      "Chilli: 77\n",
      "Coriander: 71\n",
      "Sunflower: 65\n",
      "\n",
      "Top 10 most frequent units in Training dataset:\n",
      "teaspoon: 162\n",
      "cup: 136\n",
      "tablespoon: 99\n",
      "grams: 63\n",
      "tablespoons: 61\n",
      "inch: 52\n",
      "cups: 50\n",
      "sprig: 41\n",
      "cloves: 39\n",
      "teaspoons: 39\n"
     ]
    }
   ],
   "source": [
    "# define a function get_top_frequent_items to get the top frequent items by using item_list, pos label and dataset_name(Training/Validation) and return top items\n",
    "from collections import Counter\n",
    "\n",
    "def get_top_frequent_items(item_list, pos_label, dataset_name):\n",
    "    counter = Counter(item_list)\n",
    "    top_items = counter.most_common(10)\n",
    "    \n",
    "    print(f\"\\nTop 10 most frequent {pos_label}s in {dataset_name} dataset:\")\n",
    "    for item, count in top_items:\n",
    "        print(f\"{item}: {count}\")\n",
    "        \n",
    "    return top_items\n",
    "\n",
    "# Execute the function for ingredients\n",
    "top_ingredients = get_top_frequent_items(ingredients, \"ingredient\", \"Training\")\n",
    "\n",
    "# Execute the function for units\n",
    "top_units = get_top_frequent_items(units, \"unit\", \"Training\")\n"
   ]
  },
  {
   "cell_type": "code",
   "execution_count": 123,
   "metadata": {
    "id": "W2jZCCf2MEke"
   },
   "outputs": [
    {
     "name": "stdout",
     "output_type": "stream",
     "text": [
      "\n",
      "Top 10 most frequent ingredients in Training dataset:\n",
      "powder: 129\n",
      "Salt: 102\n",
      "seeds: 89\n",
      "Green: 85\n",
      "chopped: 84\n",
      "Oil: 83\n",
      "Red: 81\n",
      "Chilli: 77\n",
      "Coriander: 71\n",
      "Sunflower: 65\n"
     ]
    }
   ],
   "source": [
    "# get the top ingredients which are frequently seen in the recipe\n",
    "top_ingredients = get_top_frequent_items(ingredients, \"ingredient\", \"Training\")"
   ]
  },
  {
   "cell_type": "code",
   "execution_count": 125,
   "metadata": {
    "id": "wipghGXAMYQR"
   },
   "outputs": [
    {
     "name": "stdout",
     "output_type": "stream",
     "text": [
      "\n",
      "Top 10 most frequent units in Training dataset:\n",
      "teaspoon: 162\n",
      "cup: 136\n",
      "tablespoon: 99\n",
      "grams: 63\n",
      "tablespoons: 61\n",
      "inch: 52\n",
      "cups: 50\n",
      "sprig: 41\n",
      "cloves: 39\n",
      "teaspoons: 39\n"
     ]
    }
   ],
   "source": [
    "# get the top units which are frequently seen in the recipe\n",
    "top_units = get_top_frequent_items(units, \"unit\", \"Training\")"
   ]
  },
  {
   "cell_type": "markdown",
   "metadata": {
    "id": "9hldpjOHaPVZ"
   },
   "source": [
    "#### **4.5** *Plot Top 10 most frequent items* <font color = red>[2 marks]</font> <br>\n",
    "\n",
    "\n"
   ]
  },
  {
   "cell_type": "markdown",
   "metadata": {
    "id": "9ImpWstybDP_"
   },
   "source": [
    "Define a function ***plot_top_items*** to plot a bar graph on top 10 most frequent items for units and ingredients\n",
    "\n",
    "Here, item_list is used as a general parameter where you will call this function for ingredient and unit list"
   ]
  },
  {
   "cell_type": "code",
   "execution_count": 127,
   "metadata": {
    "id": "Gmsq0L1vaxfc"
   },
   "outputs": [
    {
     "data": {
      "image/png": "[encoded data removed]",
      "text/plain": [
       "<Figure size 800x400 with 1 Axes>"
      ]
     },
     "metadata": {},
     "output_type": "display_data"
    },
    {
     "data": {
      "image/png": "[encoded data removed]",
      "text/plain": [
       "<Figure size 800x400 with 1 Axes>"
      ]
     },
     "metadata": {},
     "output_type": "display_data"
    }
   ],
   "source": [
    "# define plot top items with parameters - top_item list, label to suggest whether its ingredient or unit, dataset_name\n",
    "\n",
    "def plot_top_items(top_items, label, dataset_name):\n",
    "    items, counts = zip(*top_items)\n",
    "\n",
    "    plt.figure(figsize=(8, 4))\n",
    "    plt.bar(items, counts, color='skyblue')\n",
    "    plt.xlabel(label.capitalize())\n",
    "    plt.ylabel(\"Frequency\")\n",
    "    plt.title(f\"Top 10 Most Frequent {label}s in {dataset_name} Dataset\")\n",
    "    plt.xticks(rotation=45, ha='right')\n",
    "    plt.tight_layout()\n",
    "    plt.show()\n",
    "\n",
    "# Plot for top ingredients\n",
    "plot_top_items(top_ingredients, \"ingredient\", \"Training\")\n",
    "\n",
    "# Plot for top units\n",
    "plot_top_items(top_units, \"unit\", \"Training\")"
   ]
  },
  {
   "cell_type": "markdown",
   "metadata": {
    "id": "rHusCfkJ4suh"
   },
   "source": [
    "#### **4.6** *Perform EDA analysis* <font color = red>[5 marks]</font> <br>\n",
    "\n",
    "Plot the bar plots for ingredients and units and provide the insights for training dataset\n",
    "\n",
    "---\n",
    "\n"
   ]
  },
  {
   "cell_type": "code",
   "execution_count": 129,
   "metadata": {
    "id": "8seIqFKyYFmn"
   },
   "outputs": [
    {
     "data": {
      "image/png": "[encoded data removed]",
      "text/plain": [
       "<Figure size 800x400 with 1 Axes>"
      ]
     },
     "metadata": {},
     "output_type": "display_data"
    }
   ],
   "source": [
    "# plot the top frequent ingredients in training data\n",
    "plot_top_items(top_ingredients, \"ingredient\", \"Training\")"
   ]
  },
  {
   "cell_type": "code",
   "execution_count": 131,
   "metadata": {
    "id": "fbXAwiUkMtqT"
   },
   "outputs": [
    {
     "data": {
      "image/png": "[encoded data removed]",
      "text/plain": [
       "<Figure size 800x400 with 1 Axes>"
      ]
     },
     "metadata": {},
     "output_type": "display_data"
    }
   ],
   "source": [
    "# plot the top frequent units in training data\n",
    "plot_top_items(top_units, \"unit\", \"Training\")"
   ]
  },
  {
   "cell_type": "markdown",
   "metadata": {
    "id": "vYh7zbJpCajJ"
   },
   "source": [
    "## **5** Exploratory Recipe Data Analysis on Validation Dataset (Optional)<font color = red> [0 marks]</font> <br>"
   ]
  },
  {
   "cell_type": "markdown",
   "metadata": {
    "id": "K2wPIaOGCmk2"
   },
   "source": [
    "#### **5.1** *Execute EDA on Validation Dataset with insights (Optional)* <font color = red> [0 marks]</font> <br>\n",
    "Initialise the dataset_name as ***Validation*** and call the ***plot_top_items*** for top 10 ingredients and units in the recipe data\n",
    "Provide the insights for the same.\n",
    "\n"
   ]
  },
  {
   "cell_type": "code",
   "execution_count": 133,
   "metadata": {
    "id": "atSk0ChLPXHd"
   },
   "outputs": [],
   "source": [
    "# initialise the dataset_name\n",
    "dataset_name = \"Validation\""
   ]
  },
  {
   "cell_type": "code",
   "execution_count": 212,
   "metadata": {
    "id": "AFPxheIuj1o8"
   },
   "outputs": [
    {
     "name": "stdout",
     "output_type": "stream",
     "text": [
      "Validation Dataset Token Validation:\n",
      "Total input tokens: 2876\n",
      "Total POS tokens: 2876\n",
      "Lengths match: True\n",
      "\n",
      "First 10 input tokens: ['1', 'cup', 'Ada', '2', 'liter', 'Milk', '3/4', 'Sugar', 'tablespoon', 'Ghee']\n",
      "First 10 POS tokens: ['quantity', 'unit', 'ingredient', 'quantity', 'unit', 'ingredient', 'quantity', 'ingredient', 'unit', 'ingredient']\n",
      "\n",
      "Top 10 most frequent ingredients in Validation dataset:\n",
      "powder: 54\n",
      "Salt: 47\n",
      "Oil: 39\n",
      "Red: 39\n",
      "seeds: 36\n",
      "Chilli: 36\n",
      "chopped: 31\n",
      "Green: 30\n",
      "Leaves: 29\n",
      "Coriander: 27\n",
      "\n",
      "Top 10 most frequent units in Validation dataset:\n",
      "teaspoon: 59\n",
      "cup: 57\n",
      "tablespoon: 32\n",
      "tablespoons: 32\n",
      "cups: 24\n",
      "sprig: 21\n",
      "inch: 20\n",
      "grams: 19\n",
      "teaspoons: 18\n",
      "cloves: 16\n"
     ]
    }
   ],
   "source": [
    "# use extract and validate tokens, categorise tokens, get top frequent items for ingredient list and unit list on validation dataframe\n",
    "\n",
    "# Step 1: Extract and validate tokens\n",
    "extract_and_validate_tokens(val_df, dataset_name)\n",
    "\n",
    "# Step 2: Flatten tokens and POS tags from val_df\n",
    "val_tokens = [token for sublist in val_df['input_tokens'] for token in sublist]\n",
    "val_pos_tags = [tag for sublist in val_df['pos_tokens'] for tag in sublist]\n",
    "\n",
    "# Step 3: Categorize tokens\n",
    "val_ingredients, val_units, val_quantities = categorize_tokens(val_tokens, val_pos_tags)\n",
    "\n",
    "# Step 4: Get top 10 frequent ingredients and units\n",
    "top_val_ingredients = get_top_frequent_items(val_ingredients, \"ingredient\", dataset_name)\n",
    "top_val_units = get_top_frequent_items(val_units, \"unit\", dataset_name)"
   ]
  },
  {
   "cell_type": "code",
   "execution_count": 137,
   "metadata": {
    "id": "ikwox7ccMaU8"
   },
   "outputs": [
    {
     "data": {
      "image/png": "[encoded data removed]",
      "text/plain": [
       "<Figure size 800x400 with 1 Axes>"
      ]
     },
     "metadata": {},
     "output_type": "display_data"
    }
   ],
   "source": [
    "# plot the top frequent ingredients in validation data\n",
    "plot_top_items(top_val_ingredients, \"ingredient\", dataset_name)"
   ]
  },
  {
   "cell_type": "code",
   "execution_count": 139,
   "metadata": {
    "id": "9QjVeMWpPwKO"
   },
   "outputs": [
    {
     "data": {
      "image/png": "[encoded data removed]",
      "text/plain": [
       "<Figure size 800x400 with 1 Axes>"
      ]
     },
     "metadata": {},
     "output_type": "display_data"
    }
   ],
   "source": [
    "# plot the top frequent units in training data\n",
    "plot_top_items(top_val_units, \"unit\", dataset_name)"
   ]
  },
  {
   "cell_type": "markdown",
   "metadata": {
    "id": "IvE92ait9GIS"
   },
   "source": [
    "## **6** Feature Extraction For CRF Model <font color = red>[30 marks]</font> <br>"
   ]
  },
  {
   "cell_type": "markdown",
   "metadata": {
    "id": "Gc5Q_Lj09GIT"
   },
   "source": [
    "### **6.1** *Define a feature functions to take each token from recipe* <font color = red>[10 marks]</font>\n",
    "\n",
    "Define a function as ***word2features*** which takes a particular recipe and its index to work with all recipe input tokens and include custom key-value pairs.\n",
    "\n",
    "Also, use feature key-value pairs to mark the beginning and end of the sequence and to also check whether the word belongs to unit, quantity etc. Use keyword sets for unit and quantity for differentiating feature functions well. Also make use of relevant regex patterns on fractions, whole numbers etc."
   ]
  },
  {
   "cell_type": "markdown",
   "metadata": {
    "id": "pyxmQ0PrhBra"
   },
   "source": [
    "##### **6.1.1** **Define keywords for unit and quantity and create a quantity pattern to work on fractions, numbers and decimals** <font color = red>[3 marks]</font> <br>\n",
    "\n",
    "Create sets for **unit_keywords** and ***quantity_keywords*** and include all the words relevant for measuring the ingredients such as cup, tbsp, tsp etc. and in quantity keywords, include words such as half, quarter etc.\n",
    "\n",
    "Also suggested to use regex pattern as ***quantity_pattern*** to work with quantity in any format such as fractions, numbers and decimals.\n",
    "\n",
    "Then, load the spacy model and process the entire sentence"
   ]
  },
  {
   "cell_type": "code",
   "execution_count": 214,
   "metadata": {
    "id": "GhFUPxeth0KI"
   },
   "outputs": [],
   "source": [
    "# define unit and quantity keywords along with quantity pattern\n",
    "unit_keywords = {\n",
    "    \"cup\", \"cups\", \"tbsp\", \"tablespoon\", \"tablespoons\", \"tsp\", \"teaspoon\", \"teaspoons\",\n",
    "    \"g\", \"gram\", \"grams\", \"kg\", \"kilogram\", \"kilograms\", \"ml\", \"milliliter\", \"milliliters\",\n",
    "    \"l\", \"liter\", \"liters\", \"oz\", \"ounce\", \"ounces\", \"lb\", \"pound\", \"pounds\", \"pinch\", \"dash\"\n",
    "}\n",
    "\n",
    "quantity_keywords = {\n",
    "    \"half\", \"quarter\", \"third\", \"fourth\", \"one\", \"two\", \"three\", \"four\", \"five\", \"six\",\n",
    "    \"seven\", \"eight\", \"nine\", \"ten\", \"dozen\", \"couple\", \"several\"\n",
    "}\n",
    "\n",
    "import re\n",
    "quantity_pattern = re.compile(r\"^\\d+([\\/.]\\d+)?$|^\\d+\\s?\\/\\s?\\d+$\")"
   ]
  },
  {
   "cell_type": "code",
   "execution_count": 143,
   "metadata": {
    "id": "9qmM8rw4VtJh"
   },
   "outputs": [],
   "source": [
    "# load spaCy model\n",
    "nlp = spacy.load(\"en_core_web_sm\")"
   ]
  },
  {
   "cell_type": "markdown",
   "metadata": {
    "id": "vrYD5tMNiFc-"
   },
   "source": [
    "##### **6.1.2** **Define feature functions for CRF** <font color = red>[7 marks]</font> <br>\n",
    "\n",
    "Define ***word2features*** function and use the parameters such as sentence and its indexing as ***sent*** and ***i*** for extracting token level features for CRF Training.\n",
    "Build ***features*** dictionary, also mark the beginning and end of the sequence and use the ***unit_keywords***, ***quantity_keywords*** and ***quantity_pattern*** for knowing the presence of quantity or unit in the tokens"
   ]
  },
  {
   "cell_type": "markdown",
   "metadata": {
    "id": "yAjf6j-dQtpr"
   },
   "source": [
    "While building ***features*** dictionary, include\n",
    "- ***Core Features*** - The core features of a token should capture its lexical\n",
    "and grammatical properties. Include attributes like the raw token, its lemma, part-of-speech tag, dependency relation, and shape, as well as indicators for whether it's a stop word, digit, or punctuation. The details of the features are given below:\n",
    "\n",
    "    - `bias` - Constant feature with a fixed value of 1.0 to aid model learning.\n",
    "    - `token` - The lowercase form of the current token.\n",
    "    - `lemma` - The lowercase lemma (base form) of the token.\n",
    "    - `pos_tag` - Part-of-speech (POS) tag of the token.\n",
    "    - `tag` - Detailed POS tag of the token.\n",
    "    - `dep` - Dependency relation of the token in the sentence.\n",
    "    - `shape` - Shape of the token (e.g., \"Xxx\" for \"Milk\").\n",
    "    - `is_stop` - Boolean indicating if the token is a stopword.\n",
    "    - `is_digit` - Boolean indicating if the token consists of only digits.\n",
    "    - `has_digit` - Boolean indicating if the token contains at least one digit.\n",
    "    - `has_alpha` - Boolean indicating if the token contains at least one alphabetic character.\n",
    "    - `hyphenated` - Boolean indicating if the token contains a hyphen (-).\n",
    "    - `slash_present` - Boolean indicating if the token contains a slash (/).\n",
    "    - `is_title` - Boolean indicating if the token starts with an uppercase letter.\n",
    "    - `is_upper` - Boolean indicating if the token is fully uppercase.\n",
    "    - `is_punct` - Boolean indicating if the token is a punctuation mark.\n",
    "\n",
    "- ***Improved Quantity and Unit Detection*** - Use key-value pairs to mark the presence of quantities and units in the features dictionary. Utilise the unit_keywords, quantity_keywords, and quantity_pattern to identify and flag these elements. The details of the features are given below:\n",
    "\n",
    "    - `is_quantity` - Boolean indicating if the token matches a quantity pattern or keyword.\n",
    "    - `is_unit` - Boolean indicating if the token is a known measurement unit.\n",
    "    - `is_numeric` - Boolean indicating if the token matches a numeric pattern.\n",
    "    - `is_fraction` - Boolean indicating if the token represents a fraction (e.g., 1/2).\n",
    "    - `is_decimal` - Boolean indicating if the token represents a decimal number (e.g., 3.14).\n",
    "    - `preceding_word` - The previous token in the sentence, if available.\n",
    "    - `following_word` - The next token in the sentence, if available.\n",
    "\n",
    "- ***Contextual Features*** - Incorporate contextual information by adding features for the preceding and following tokens. Include indicators like BOS and EOS to mark the beginning and end of the sequence, and utilise unit_keywords, quantity_keywords, and quantity_pattern to identify the types of neighboring tokens. The features are given below:\n",
    "\n",
    "    - `prev_token` - The lowercase form of the previous token.\n",
    "    - `prev_is_quantity` - Boolean indicating if the previous token is a quantity.\n",
    "    - `prev_is_digit` - Boolean indicating if the previous token is a digit.\n",
    "    - `BOS` - Boolean indicating if the token is at the beginning of the sentence.\n",
    "    - `next_token` - The lowercase form of the next token.\n",
    "    - `next_is_unit` - Boolean indicating if the next token is a unit.\n",
    "    - `next_is_ingredient` - Boolean indicating if the next token is not a unit or quantity.\n",
    "    - `EOS` - Boolean indicating if the token is at the end of the sentence.\n",
    "\n"
   ]
  },
  {
   "cell_type": "code",
   "execution_count": 145,
   "metadata": {
    "id": "pRU7efTF9GIW"
   },
   "outputs": [],
   "source": [
    "# define word2features for processing each token in the sentence sent by using index i.\n",
    "def word2features(sent, i):\n",
    "    \n",
    "    # use your own feature functions\n",
    "\n",
    "    # Process the entire sentence with spaCy\n",
    "    doc = nlp(\" \".join(sent))\n",
    "    token = doc[i]\n",
    "    features = {}\n",
    "\n",
    "    # --- Core Features ---\n",
    "    features['bias'] = 1.0\n",
    "    features['token'] = token.text.lower()\n",
    "    features['lemma'] = token.lemma_.lower()\n",
    "    features['pos_tag'] = token.pos_\n",
    "    features['tag'] = token.tag_\n",
    "    features['dep'] = token.dep_\n",
    "    features['shape'] = token.shape_\n",
    "    features['is_stop'] = token.is_stop\n",
    "    features['is_digit'] = token.is_digit\n",
    "    features['has_digit'] = any(char.isdigit() for char in token.text)\n",
    "    features['has_alpha'] = any(char.isalpha() for char in token.text)\n",
    "    features['hyphenated'] = '-' in token.text\n",
    "    features['slash_present'] = '/' in token.text\n",
    "    features['is_title'] = token.text.istitle()\n",
    "    features['is_upper'] = token.text.isupper()\n",
    "    features['is_punct'] = token.is_punct\n",
    "\n",
    "    # --- Improved Quantity & Unit Detection ---\n",
    "    text_lower = token.text.lower()\n",
    "    features['is_quantity'] = bool(quantity_pattern.match(text_lower)) or text_lower in quantity_keywords\n",
    "    features['is_unit'] = text_lower in unit_keywords\n",
    "    features['is_numeric'] = token.like_num\n",
    "    features['is_fraction'] = '/' in text_lower and all(part.strip().isdigit() for part in text_lower.split('/') if part)\n",
    "    features['is_decimal'] = '.' in text_lower and text_lower.replace('.', '', 1).isdigit()\n",
    "\n",
    "    features['preceding_word'] = doc[i-1].text.lower() if i > 0 else ''\n",
    "    features['following_word'] = doc[i+1].text.lower() if i < len(doc) - 1 else ''\n",
    "\n",
    "    # --- Contextual Features ---\n",
    "    if i > 0:\n",
    "        prev_token = doc[i - 1]\n",
    "        prev_lower = prev_token.text.lower()\n",
    "        features['prev_token'] = prev_lower\n",
    "        features['prev_is_quantity'] = bool(quantity_pattern.match(prev_lower)) or prev_lower in quantity_keywords\n",
    "        features['prev_is_digit'] = prev_token.is_digit\n",
    "    else:\n",
    "        features['BOS'] = True  # Beginning of Sentence\n",
    "\n",
    "    if i < len(doc) - 1:\n",
    "        next_token = doc[i + 1]\n",
    "        next_lower = next_token.text.lower()\n",
    "        features['next_token'] = next_lower\n",
    "        features['next_is_unit'] = next_lower in unit_keywords\n",
    "        features['next_is_ingredient'] = not (next_lower in unit_keywords or next_lower in quantity_keywords)\n",
    "    else:\n",
    "        features['EOS'] = True  # End of Sentence\n",
    "\n",
    "    return features"
   ]
  },
  {
   "cell_type": "markdown",
   "metadata": {
    "id": "hJm2nUw0998s"
   },
   "source": [
    "### **6.2** *Preparation of Recipe level features* <font color = red>[2 marks]</font>\n"
   ]
  },
  {
   "cell_type": "markdown",
   "metadata": {
    "id": "KL19ooQejA5z"
   },
   "source": [
    "##### **6.2.1** **Define function to work on all the recipes and call word2features for each recipe** <font color = red>[2 marks]</font> <br>\n",
    "\n",
    "Define ***sent2features*** function and inputs ***sent*** as a parameter and correctly generate feature functions for each token present in the sentence"
   ]
  },
  {
   "cell_type": "code",
   "execution_count": 147,
   "metadata": {
    "id": "NlQEifz-9GIW"
   },
   "outputs": [],
   "source": [
    "# define sent2features by working on each token in the sentence and correctly generate dictionaries for features\n",
    "def sent2features(sent):\n",
    "    return [word2features(sent, i) for i in range(len(sent))]"
   ]
  },
  {
   "cell_type": "markdown",
   "metadata": {
    "id": "FOK0t3c6-RiV"
   },
   "source": [
    "### **6.3** *Convert X_train, X_val, y_train and y_val into train and validation feature sets and labels* <font color = red>[6 marks]</font>\n",
    "\n"
   ]
  },
  {
   "cell_type": "markdown",
   "metadata": {
    "id": "7tsd50b_nX0J"
   },
   "source": [
    "##### **6.3.1** **Convert recipe into feature functions by using X_train and X_val** <font color = red>[2 marks]</font> <br>\n",
    "\n",
    "Create ***X_train_features*** and ***X_val_features*** as list to include the feature functions for each recipe present in training and validation sets"
   ]
  },
  {
   "cell_type": "code",
   "execution_count": 149,
   "metadata": {
    "id": "-bVPGPa39GIW"
   },
   "outputs": [],
   "source": [
    "# Convert input sentences into feature sets by taking training and validation dataset as X_train_features and X_val_features\n",
    "X_train_features = [sent2features(sent) for sent in X_train]\n",
    "X_val_features = [sent2features(sent) for sent in X_val]"
   ]
  },
  {
   "cell_type": "markdown",
   "metadata": {
    "id": "jcwmwXn-n6cs"
   },
   "source": [
    "##### **6.3.2** **Convert lables of y_train and y_val into list** <font color = red>[2 marks]</font> <br>\n",
    "\n",
    "Create ***y_train_labels*** and ***y_val_labels*** by using the list of y_train and y_val"
   ]
  },
  {
   "cell_type": "code",
   "execution_count": 150,
   "metadata": {
    "id": "TiGgP3O6nfPg"
   },
   "outputs": [],
   "source": [
    "# Convert labels into list as y_train_labels and y_val_labels\n",
    "y_train_labels = [labels for labels in y_train]\n",
    "y_val_labels = [labels for labels in y_val]"
   ]
  },
  {
   "cell_type": "markdown",
   "metadata": {
    "id": "4c-kjqtaoZvb"
   },
   "source": [
    "##### **6.3.3** **Print the length of val and train features and labels** <font color = red>[2 marks]</font> <br>\n",
    "\n"
   ]
  },
  {
   "cell_type": "code",
   "execution_count": 151,
   "metadata": {
    "id": "mWId2Nn0okMV"
   },
   "outputs": [
    {
     "name": "stdout",
     "output_type": "stream",
     "text": [
      "Length of X_train_features: 196\n",
      "Length of y_train_labels: 196\n"
     ]
    }
   ],
   "source": [
    "# print the length of train features and labels\n",
    "print(\"Length of X_train_features:\", len(X_train_features))\n",
    "print(\"Length of y_train_labels:\", len(y_train_labels))"
   ]
  },
  {
   "cell_type": "code",
   "execution_count": 155,
   "metadata": {
    "id": "LAt_m_LubRvn"
   },
   "outputs": [
    {
     "name": "stdout",
     "output_type": "stream",
     "text": [
      "Length of X_val_features: 84\n",
      "Length of y_val_labels: 84\n"
     ]
    }
   ],
   "source": [
    "# print the length of validation features and labels\n",
    "print(\"Length of X_val_features:\", len(X_val_features))\n",
    "print(\"Length of y_val_labels:\", len(y_val_labels))"
   ]
  },
  {
   "cell_type": "markdown",
   "metadata": {
    "id": "dZffFBH-pVhx"
   },
   "source": [
    "### **6.4** *Applying weights to feature sets* <font color = red>[12 marks]</font> <br>\n",
    "\n",
    "\n"
   ]
  },
  {
   "cell_type": "markdown",
   "metadata": {
    "id": "Goh_fX-6pqhN"
   },
   "source": [
    "##### **6.4.1** **Flatten the labels of y_train** <font color = red>[2 marks]</font> <br>\n",
    "\n",
    "Create ***y_train_flat*** to flatten the structure of nested y_train"
   ]
  },
  {
   "cell_type": "code",
   "execution_count": 157,
   "metadata": {
    "id": "adLWfYn_p3gM"
   },
   "outputs": [
    {
     "name": "stdout",
     "output_type": "stream",
     "text": [
      "Sample flattened labels: ['quantity', 'unit', 'ingredient', 'ingredient', 'quantity', 'ingredient', 'ingredient', 'ingredient', 'ingredient', 'ingredient']\n",
      "Total flattened labels: 7114\n"
     ]
    }
   ],
   "source": [
    "# Flatten labels in y_train\n",
    "flat_y_train_labels = [label for seq in y_train_labels for label in seq]\n",
    "\n",
    "# Display sample output and length\n",
    "print(\"Sample flattened labels:\", flat_y_train_labels[:10])\n",
    "print(\"Total flattened labels:\", len(flat_y_train_labels))"
   ]
  },
  {
   "cell_type": "markdown",
   "metadata": {
    "id": "qk9UMBrbp9dp"
   },
   "source": [
    "##### **6.4.2** **Count the labels present in training target dataset** <font color = red>[2 marks]</font> <br>\n",
    "\n",
    "Create ***label_counts*** to count the frequencies of labels present in y_train_flat and retrieve the total samples by using the values of label_counts as ***total_samples***"
   ]
  },
  {
   "cell_type": "code",
   "execution_count": 159,
   "metadata": {
    "id": "6Kiu8jckqZSH"
   },
   "outputs": [
    {
     "name": "stdout",
     "output_type": "stream",
     "text": [
      "Label Counts: Counter({'ingredient': 5323, 'quantity': 980, 'unit': 811})\n",
      "Total Samples: 7114\n"
     ]
    }
   ],
   "source": [
    "# Count label frequencies as label_counts and total_samples as getting the summation of values of label_counts\n",
    "\n",
    "# Count label frequencies\n",
    "label_counts = Counter(flat_y_train_labels)\n",
    "\n",
    "# Get total number of label samples\n",
    "total_samples = sum(label_counts.values())\n",
    "\n",
    "# Display results\n",
    "print(\"Label Counts:\", label_counts)\n",
    "print(\"Total Samples:\", total_samples)"
   ]
  },
  {
   "cell_type": "markdown",
   "metadata": {
    "id": "4aCmDsZYqYA-"
   },
   "source": [
    "##### **6.4.3** **Compute weight_dict by using inverse frequency method for label weights** <font color = red>[2 marks]</font> <br>\n",
    "\n",
    "- Create ***weight_dict*** as dictionary with label and its inverse frequency count in ***label_counts***\n",
    "\n",
    "- Penalise ingredient label in the dictionary"
   ]
  },
  {
   "cell_type": "code",
   "execution_count": 161,
   "metadata": {
    "id": "FpbEAZ3zqxEo"
   },
   "outputs": [],
   "source": [
    "# Compute class weights (inverse frequency method) by considering total_samples and label_counts\n",
    "weight_dict = {label: total_samples / count for label, count in label_counts.items()}"
   ]
  },
  {
   "cell_type": "code",
   "execution_count": 165,
   "metadata": {
    "id": "hns3HbujXESs"
   },
   "outputs": [],
   "source": [
    "# penalise ingredient label\n",
    "weight_dict['ingredient'] *= 1.5  # Increase penalty by 50%"
   ]
  },
  {
   "cell_type": "markdown",
   "metadata": {
    "id": "V8TdHMlPrhh8"
   },
   "source": [
    "##### **6.4.4** **Extract features along with class weights** <font color = red>[4 marks]</font> <br>\n",
    "\n",
    "Define a function ***extract_features_with_class_weights*** to work with training and validation datasets and extract features by applying class weights\n",
    "\n",
    "\n",
    "\n"
   ]
  },
  {
   "cell_type": "code",
   "execution_count": 167,
   "metadata": {
    "id": "1km6GR4TjXPX"
   },
   "outputs": [],
   "source": [
    "# Apply weights to feature extraction in extract_features_with_class_weights by using parameters such as X (input tokens), y(labels) and weight_dict (Class weights)\n",
    "\n",
    "def extract_features_with_class_weights(X, y, weight_dict):\n",
    "    weighted_features = []\n",
    "\n",
    "    for sentence_tokens, sentence_labels in zip(X, y):\n",
    "        sentence_feature_set = []\n",
    "\n",
    "        for i in range(len(sentence_tokens)):\n",
    "            # Extract features for each token\n",
    "            features = word2features(sentence_tokens, i)\n",
    "\n",
    "            # Apply class weight to the current label\n",
    "            label = sentence_labels[i]\n",
    "            features['class_weight'] = weight_dict.get(label, 1.0)\n",
    "\n",
    "            sentence_feature_set.append(features)\n",
    "\n",
    "        weighted_features.append(sentence_feature_set)\n",
    "\n",
    "    return weighted_features\n"
   ]
  },
  {
   "cell_type": "markdown",
   "metadata": {
    "id": "51ABmKwKsaiz"
   },
   "source": [
    "##### **6.4.5** **Execute extract_features_with_class_weights on training and validation datasets** <font color = red>[2 marks]</font> <br>\n",
    "\n",
    "Create ***X_train_weighted_features*** and ***X_val_weighted_features*** for extracting training and validation features along with their weights by calling ***extract_features_with_class_weights*** on the datasets"
   ]
  },
  {
   "cell_type": "code",
   "execution_count": 169,
   "metadata": {
    "id": "-XUFFnm5sYE6"
   },
   "outputs": [],
   "source": [
    "# Apply manually computed class weights\n",
    "\n",
    "X_train_weighted_features = extract_features_with_class_weights(X_train, y_train_labels, weight_dict)\n",
    "X_val_weighted_features = extract_features_with_class_weights(X_val, y_val_labels, weight_dict)"
   ]
  },
  {
   "cell_type": "markdown",
   "metadata": {
    "id": "Aah9bFDlAuzI"
   },
   "source": [
    "## **7** Model Building and Training <font color = red>[10 marks]</font> <br>"
   ]
  },
  {
   "cell_type": "markdown",
   "metadata": {
    "id": "axrvWR9TAuzJ"
   },
   "source": [
    "### **7.1** *Initialise the CRF model and train it* <font color = red>[5 marks]</font>\n",
    "Train the CRF model with the specified hyperparameters such as\n",
    "\n",
    "### CRF Model Hyperparameters Explanation\n",
    "\n",
    "| Parameter                  | Description |\n",
    "|----------------------------|-------------|\n",
    "| **algorithm='lbfgs'**      | Optimisation algorithm used for training. `lbfgs` (Limited-memory Broyden–Fletcher–Goldfarb–Shanno) is a quasi-Newton optimisation method. |\n",
    "| **c1=0.5**                | L1 regularisation term to control sparsity in feature weights. Helps in feature selection. |\n",
    "| **c2=1.0**                | L2 regularisation term to prevent overfitting by penalising large weights. |\n",
    "| **max_iterations=100**     | Maximum number of iterations for model training. Higher values allow more convergence but increase computation time. |\n",
    "| **all_possible_transitions=True** | Ensures that all possible state transitions are considered in training, making the model more robust. |\n",
    "\n",
    "Use weight_dict for training CRF\n",
    "\n"
   ]
  },
  {
   "cell_type": "code",
   "execution_count": 177,
   "metadata": {
    "id": "jig2J_n1AuzM"
   },
   "outputs": [
    {
     "data": {
      "text/html": [
       "<style>#sk-container-id-3 {\n",
       "  /* Definition of color scheme common for light and dark mode */\n",
       "  --sklearn-color-text: #000;\n",
       "  --sklearn-color-text-muted: #666;\n",
       "  --sklearn-color-line: gray;\n",
       "  /* Definition of color scheme for unfitted estimators */\n",
       "  --sklearn-color-unfitted-level-0: #fff5e6;\n",
       "  --sklearn-color-unfitted-level-1: #f6e4d2;\n",
       "  --sklearn-color-unfitted-level-2: #ffe0b3;\n",
       "  --sklearn-color-unfitted-level-3: chocolate;\n",
       "  /* Definition of color scheme for fitted estimators */\n",
       "  --sklearn-color-fitted-level-0: #f0f8ff;\n",
       "  --sklearn-color-fitted-level-1: #d4ebff;\n",
       "  --sklearn-color-fitted-level-2: #b3dbfd;\n",
       "  --sklearn-color-fitted-level-3: cornflowerblue;\n",
       "\n",
       "  /* Specific color for light theme */\n",
       "  --sklearn-color-text-on-default-background: var(--sg-text-color, var(--theme-code-foreground, var(--jp-content-font-color1, black)));\n",
       "  --sklearn-color-background: var(--sg-background-color, var(--theme-background, var(--jp-layout-color0, white)));\n",
       "  --sklearn-color-border-box: var(--sg-text-color, var(--theme-code-foreground, var(--jp-content-font-color1, black)));\n",
       "  --sklearn-color-icon: #696969;\n",
       "\n",
       "  @media (prefers-color-scheme: dark) {\n",
       "    /* Redefinition of color scheme for dark theme */\n",
       "    --sklearn-color-text-on-default-background: var(--sg-text-color, var(--theme-code-foreground, var(--jp-content-font-color1, white)));\n",
       "    --sklearn-color-background: var(--sg-background-color, var(--theme-background, var(--jp-layout-color0, #111)));\n",
       "    --sklearn-color-border-box: var(--sg-text-color, var(--theme-code-foreground, var(--jp-content-font-color1, white)));\n",
       "    --sklearn-color-icon: #878787;\n",
       "  }\n",
       "}\n",
       "\n",
       "#sk-container-id-3 {\n",
       "  color: var(--sklearn-color-text);\n",
       "}\n",
       "\n",
       "#sk-container-id-3 pre {\n",
       "  padding: 0;\n",
       "}\n",
       "\n",
       "#sk-container-id-3 input.sk-hidden--visually {\n",
       "  border: 0;\n",
       "  clip: rect(1px 1px 1px 1px);\n",
       "  clip: rect(1px, 1px, 1px, 1px);\n",
       "  height: 1px;\n",
       "  margin: -1px;\n",
       "  overflow: hidden;\n",
       "  padding: 0;\n",
       "  position: absolute;\n",
       "  width: 1px;\n",
       "}\n",
       "\n",
       "#sk-container-id-3 div.sk-dashed-wrapped {\n",
       "  border: 1px dashed var(--sklearn-color-line);\n",
       "  margin: 0 0.4em 0.5em 0.4em;\n",
       "  box-sizing: border-box;\n",
       "  padding-bottom: 0.4em;\n",
       "  background-color: var(--sklearn-color-background);\n",
       "}\n",
       "\n",
       "#sk-container-id-3 div.sk-container {\n",
       "  /* jupyter's `normalize.less` sets `[hidden] { display: none; }`\n",
       "     but bootstrap.min.css set `[hidden] { display: none !important; }`\n",
       "     so we also need the `!important` here to be able to override the\n",
       "     default hidden behavior on the sphinx rendered scikit-learn.org.\n",
       "     See: https://github.com/scikit-learn/scikit-learn/issues/21755 */\n",
       "  display: inline-block !important;\n",
       "  position: relative;\n",
       "}\n",
       "\n",
       "#sk-container-id-3 div.sk-text-repr-fallback {\n",
       "  display: none;\n",
       "}\n",
       "\n",
       "div.sk-parallel-item,\n",
       "div.sk-serial,\n",
       "div.sk-item {\n",
       "  /* draw centered vertical line to link estimators */\n",
       "  background-image: linear-gradient(var(--sklearn-color-text-on-default-background), var(--sklearn-color-text-on-default-background));\n",
       "  background-size: 2px 100%;\n",
       "  background-repeat: no-repeat;\n",
       "  background-position: center center;\n",
       "}\n",
       "\n",
       "/* Parallel-specific style estimator block */\n",
       "\n",
       "#sk-container-id-3 div.sk-parallel-item::after {\n",
       "  content: \"\";\n",
       "  width: 100%;\n",
       "  border-bottom: 2px solid var(--sklearn-color-text-on-default-background);\n",
       "  flex-grow: 1;\n",
       "}\n",
       "\n",
       "#sk-container-id-3 div.sk-parallel {\n",
       "  display: flex;\n",
       "  align-items: stretch;\n",
       "  justify-content: center;\n",
       "  background-color: var(--sklearn-color-background);\n",
       "  position: relative;\n",
       "}\n",
       "\n",
       "#sk-container-id-3 div.sk-parallel-item {\n",
       "  display: flex;\n",
       "  flex-direction: column;\n",
       "}\n",
       "\n",
       "#sk-container-id-3 div.sk-parallel-item:first-child::after {\n",
       "  align-self: flex-end;\n",
       "  width: 50%;\n",
       "}\n",
       "\n",
       "#sk-container-id-3 div.sk-parallel-item:last-child::after {\n",
       "  align-self: flex-start;\n",
       "  width: 50%;\n",
       "}\n",
       "\n",
       "#sk-container-id-3 div.sk-parallel-item:only-child::after {\n",
       "  width: 0;\n",
       "}\n",
       "\n",
       "/* Serial-specific style estimator block */\n",
       "\n",
       "#sk-container-id-3 div.sk-serial {\n",
       "  display: flex;\n",
       "  flex-direction: column;\n",
       "  align-items: center;\n",
       "  background-color: var(--sklearn-color-background);\n",
       "  padding-right: 1em;\n",
       "  padding-left: 1em;\n",
       "}\n",
       "\n",
       "\n",
       "/* Toggleable style: style used for estimator/Pipeline/ColumnTransformer box that is\n",
       "clickable and can be expanded/collapsed.\n",
       "- Pipeline and ColumnTransformer use this feature and define the default style\n",
       "- Estimators will overwrite some part of the style using the `sk-estimator` class\n",
       "*/\n",
       "\n",
       "/* Pipeline and ColumnTransformer style (default) */\n",
       "\n",
       "#sk-container-id-3 div.sk-toggleable {\n",
       "  /* Default theme specific background. It is overwritten whether we have a\n",
       "  specific estimator or a Pipeline/ColumnTransformer */\n",
       "  background-color: var(--sklearn-color-background);\n",
       "}\n",
       "\n",
       "/* Toggleable label */\n",
       "#sk-container-id-3 label.sk-toggleable__label {\n",
       "  cursor: pointer;\n",
       "  display: flex;\n",
       "  width: 100%;\n",
       "  margin-bottom: 0;\n",
       "  padding: 0.5em;\n",
       "  box-sizing: border-box;\n",
       "  text-align: center;\n",
       "  align-items: start;\n",
       "  justify-content: space-between;\n",
       "  gap: 0.5em;\n",
       "}\n",
       "\n",
       "#sk-container-id-3 label.sk-toggleable__label .caption {\n",
       "  font-size: 0.6rem;\n",
       "  font-weight: lighter;\n",
       "  color: var(--sklearn-color-text-muted);\n",
       "}\n",
       "\n",
       "#sk-container-id-3 label.sk-toggleable__label-arrow:before {\n",
       "  /* Arrow on the left of the label */\n",
       "  content: \"▸\";\n",
       "  float: left;\n",
       "  margin-right: 0.25em;\n",
       "  color: var(--sklearn-color-icon);\n",
       "}\n",
       "\n",
       "#sk-container-id-3 label.sk-toggleable__label-arrow:hover:before {\n",
       "  color: var(--sklearn-color-text);\n",
       "}\n",
       "\n",
       "/* Toggleable content - dropdown */\n",
       "\n",
       "#sk-container-id-3 div.sk-toggleable__content {\n",
       "  display: none;\n",
       "  text-align: left;\n",
       "  /* unfitted */\n",
       "  background-color: var(--sklearn-color-unfitted-level-0);\n",
       "}\n",
       "\n",
       "#sk-container-id-3 div.sk-toggleable__content.fitted {\n",
       "  /* fitted */\n",
       "  background-color: var(--sklearn-color-fitted-level-0);\n",
       "}\n",
       "\n",
       "#sk-container-id-3 div.sk-toggleable__content pre {\n",
       "  margin: 0.2em;\n",
       "  border-radius: 0.25em;\n",
       "  color: var(--sklearn-color-text);\n",
       "  /* unfitted */\n",
       "  background-color: var(--sklearn-color-unfitted-level-0);\n",
       "}\n",
       "\n",
       "#sk-container-id-3 div.sk-toggleable__content.fitted pre {\n",
       "  /* unfitted */\n",
       "  background-color: var(--sklearn-color-fitted-level-0);\n",
       "}\n",
       "\n",
       "#sk-container-id-3 input.sk-toggleable__control:checked~div.sk-toggleable__content {\n",
       "  /* Expand drop-down */\n",
       "  display: block;\n",
       "  width: 100%;\n",
       "  overflow: visible;\n",
       "}\n",
       "\n",
       "#sk-container-id-3 input.sk-toggleable__control:checked~label.sk-toggleable__label-arrow:before {\n",
       "  content: \"▾\";\n",
       "}\n",
       "\n",
       "/* Pipeline/ColumnTransformer-specific style */\n",
       "\n",
       "#sk-container-id-3 div.sk-label input.sk-toggleable__control:checked~label.sk-toggleable__label {\n",
       "  color: var(--sklearn-color-text);\n",
       "  background-color: var(--sklearn-color-unfitted-level-2);\n",
       "}\n",
       "\n",
       "#sk-container-id-3 div.sk-label.fitted input.sk-toggleable__control:checked~label.sk-toggleable__label {\n",
       "  background-color: var(--sklearn-color-fitted-level-2);\n",
       "}\n",
       "\n",
       "/* Estimator-specific style */\n",
       "\n",
       "/* Colorize estimator box */\n",
       "#sk-container-id-3 div.sk-estimator input.sk-toggleable__control:checked~label.sk-toggleable__label {\n",
       "  /* unfitted */\n",
       "  background-color: var(--sklearn-color-unfitted-level-2);\n",
       "}\n",
       "\n",
       "#sk-container-id-3 div.sk-estimator.fitted input.sk-toggleable__control:checked~label.sk-toggleable__label {\n",
       "  /* fitted */\n",
       "  background-color: var(--sklearn-color-fitted-level-2);\n",
       "}\n",
       "\n",
       "#sk-container-id-3 div.sk-label label.sk-toggleable__label,\n",
       "#sk-container-id-3 div.sk-label label {\n",
       "  /* The background is the default theme color */\n",
       "  color: var(--sklearn-color-text-on-default-background);\n",
       "}\n",
       "\n",
       "/* On hover, darken the color of the background */\n",
       "#sk-container-id-3 div.sk-label:hover label.sk-toggleable__label {\n",
       "  color: var(--sklearn-color-text);\n",
       "  background-color: var(--sklearn-color-unfitted-level-2);\n",
       "}\n",
       "\n",
       "/* Label box, darken color on hover, fitted */\n",
       "#sk-container-id-3 div.sk-label.fitted:hover label.sk-toggleable__label.fitted {\n",
       "  color: var(--sklearn-color-text);\n",
       "  background-color: var(--sklearn-color-fitted-level-2);\n",
       "}\n",
       "\n",
       "/* Estimator label */\n",
       "\n",
       "#sk-container-id-3 div.sk-label label {\n",
       "  font-family: monospace;\n",
       "  font-weight: bold;\n",
       "  display: inline-block;\n",
       "  line-height: 1.2em;\n",
       "}\n",
       "\n",
       "#sk-container-id-3 div.sk-label-container {\n",
       "  text-align: center;\n",
       "}\n",
       "\n",
       "/* Estimator-specific */\n",
       "#sk-container-id-3 div.sk-estimator {\n",
       "  font-family: monospace;\n",
       "  border: 1px dotted var(--sklearn-color-border-box);\n",
       "  border-radius: 0.25em;\n",
       "  box-sizing: border-box;\n",
       "  margin-bottom: 0.5em;\n",
       "  /* unfitted */\n",
       "  background-color: var(--sklearn-color-unfitted-level-0);\n",
       "}\n",
       "\n",
       "#sk-container-id-3 div.sk-estimator.fitted {\n",
       "  /* fitted */\n",
       "  background-color: var(--sklearn-color-fitted-level-0);\n",
       "}\n",
       "\n",
       "/* on hover */\n",
       "#sk-container-id-3 div.sk-estimator:hover {\n",
       "  /* unfitted */\n",
       "  background-color: var(--sklearn-color-unfitted-level-2);\n",
       "}\n",
       "\n",
       "#sk-container-id-3 div.sk-estimator.fitted:hover {\n",
       "  /* fitted */\n",
       "  background-color: var(--sklearn-color-fitted-level-2);\n",
       "}\n",
       "\n",
       "/* Specification for estimator info (e.g. \"i\" and \"?\") */\n",
       "\n",
       "/* Common style for \"i\" and \"?\" */\n",
       "\n",
       ".sk-estimator-doc-link,\n",
       "a:link.sk-estimator-doc-link,\n",
       "a:visited.sk-estimator-doc-link {\n",
       "  float: right;\n",
       "  font-size: smaller;\n",
       "  line-height: 1em;\n",
       "  font-family: monospace;\n",
       "  background-color: var(--sklearn-color-background);\n",
       "  border-radius: 1em;\n",
       "  height: 1em;\n",
       "  width: 1em;\n",
       "  text-decoration: none !important;\n",
       "  margin-left: 0.5em;\n",
       "  text-align: center;\n",
       "  /* unfitted */\n",
       "  border: var(--sklearn-color-unfitted-level-1) 1pt solid;\n",
       "  color: var(--sklearn-color-unfitted-level-1);\n",
       "}\n",
       "\n",
       ".sk-estimator-doc-link.fitted,\n",
       "a:link.sk-estimator-doc-link.fitted,\n",
       "a:visited.sk-estimator-doc-link.fitted {\n",
       "  /* fitted */\n",
       "  border: var(--sklearn-color-fitted-level-1) 1pt solid;\n",
       "  color: var(--sklearn-color-fitted-level-1);\n",
       "}\n",
       "\n",
       "/* On hover */\n",
       "div.sk-estimator:hover .sk-estimator-doc-link:hover,\n",
       ".sk-estimator-doc-link:hover,\n",
       "div.sk-label-container:hover .sk-estimator-doc-link:hover,\n",
       ".sk-estimator-doc-link:hover {\n",
       "  /* unfitted */\n",
       "  background-color: var(--sklearn-color-unfitted-level-3);\n",
       "  color: var(--sklearn-color-background);\n",
       "  text-decoration: none;\n",
       "}\n",
       "\n",
       "div.sk-estimator.fitted:hover .sk-estimator-doc-link.fitted:hover,\n",
       ".sk-estimator-doc-link.fitted:hover,\n",
       "div.sk-label-container:hover .sk-estimator-doc-link.fitted:hover,\n",
       ".sk-estimator-doc-link.fitted:hover {\n",
       "  /* fitted */\n",
       "  background-color: var(--sklearn-color-fitted-level-3);\n",
       "  color: var(--sklearn-color-background);\n",
       "  text-decoration: none;\n",
       "}\n",
       "\n",
       "/* Span, style for the box shown on hovering the info icon */\n",
       ".sk-estimator-doc-link span {\n",
       "  display: none;\n",
       "  z-index: 9999;\n",
       "  position: relative;\n",
       "  font-weight: normal;\n",
       "  right: .2ex;\n",
       "  padding: .5ex;\n",
       "  margin: .5ex;\n",
       "  width: min-content;\n",
       "  min-width: 20ex;\n",
       "  max-width: 50ex;\n",
       "  color: var(--sklearn-color-text);\n",
       "  box-shadow: 2pt 2pt 4pt #999;\n",
       "  /* unfitted */\n",
       "  background: var(--sklearn-color-unfitted-level-0);\n",
       "  border: .5pt solid var(--sklearn-color-unfitted-level-3);\n",
       "}\n",
       "\n",
       ".sk-estimator-doc-link.fitted span {\n",
       "  /* fitted */\n",
       "  background: var(--sklearn-color-fitted-level-0);\n",
       "  border: var(--sklearn-color-fitted-level-3);\n",
       "}\n",
       "\n",
       ".sk-estimator-doc-link:hover span {\n",
       "  display: block;\n",
       "}\n",
       "\n",
       "/* \"?\"-specific style due to the `<a>` HTML tag */\n",
       "\n",
       "#sk-container-id-3 a.estimator_doc_link {\n",
       "  float: right;\n",
       "  font-size: 1rem;\n",
       "  line-height: 1em;\n",
       "  font-family: monospace;\n",
       "  background-color: var(--sklearn-color-background);\n",
       "  border-radius: 1rem;\n",
       "  height: 1rem;\n",
       "  width: 1rem;\n",
       "  text-decoration: none;\n",
       "  /* unfitted */\n",
       "  color: var(--sklearn-color-unfitted-level-1);\n",
       "  border: var(--sklearn-color-unfitted-level-1) 1pt solid;\n",
       "}\n",
       "\n",
       "#sk-container-id-3 a.estimator_doc_link.fitted {\n",
       "  /* fitted */\n",
       "  border: var(--sklearn-color-fitted-level-1) 1pt solid;\n",
       "  color: var(--sklearn-color-fitted-level-1);\n",
       "}\n",
       "\n",
       "/* On hover */\n",
       "#sk-container-id-3 a.estimator_doc_link:hover {\n",
       "  /* unfitted */\n",
       "  background-color: var(--sklearn-color-unfitted-level-3);\n",
       "  color: var(--sklearn-color-background);\n",
       "  text-decoration: none;\n",
       "}\n",
       "\n",
       "#sk-container-id-3 a.estimator_doc_link.fitted:hover {\n",
       "  /* fitted */\n",
       "  background-color: var(--sklearn-color-fitted-level-3);\n",
       "}\n",
       "\n",
       ".estimator-table summary {\n",
       "    padding: .5rem;\n",
       "    font-family: monospace;\n",
       "    cursor: pointer;\n",
       "}\n",
       "\n",
       ".estimator-table details[open] {\n",
       "    padding-left: 0.1rem;\n",
       "    padding-right: 0.1rem;\n",
       "    padding-bottom: 0.3rem;\n",
       "}\n",
       "\n",
       ".estimator-table .parameters-table {\n",
       "    margin-left: auto !important;\n",
       "    margin-right: auto !important;\n",
       "}\n",
       "\n",
       ".estimator-table .parameters-table tr:nth-child(odd) {\n",
       "    background-color: #fff;\n",
       "}\n",
       "\n",
       ".estimator-table .parameters-table tr:nth-child(even) {\n",
       "    background-color: #f6f6f6;\n",
       "}\n",
       "\n",
       ".estimator-table .parameters-table tr:hover {\n",
       "    background-color: #e0e0e0;\n",
       "}\n",
       "\n",
       ".estimator-table table td {\n",
       "    border: 1px solid rgba(106, 105, 104, 0.232);\n",
       "}\n",
       "\n",
       ".user-set td {\n",
       "    color:rgb(255, 94, 0);\n",
       "    text-align: left;\n",
       "}\n",
       "\n",
       ".user-set td.value pre {\n",
       "    color:rgb(255, 94, 0) !important;\n",
       "    background-color: transparent !important;\n",
       "}\n",
       "\n",
       ".default td {\n",
       "    color: black;\n",
       "    text-align: left;\n",
       "}\n",
       "\n",
       ".user-set td i,\n",
       ".default td i {\n",
       "    color: black;\n",
       "}\n",
       "\n",
       ".copy-paste-icon {\n",
       "    background-image: url(data:image/svg+xml;base64,PHN2ZyB4bWxucz0iaHR0cDovL3d3dy53My5vcmcvMjAwMC9zdmciIHZpZXdCb3g9IjAgMCA0NDggNTEyIj48IS0tIUZvbnQgQXdlc29tZSBGcmVlIDYuNy4yIGJ5IEBmb250YXdlc29tZSAtIGh0dHBzOi8vZm9udGF3ZXNvbWUuY29tIExpY2Vuc2UgLSBodHRwczovL2ZvbnRhd2Vzb21lLmNvbS9saWNlbnNlL2ZyZWUgQ29weXJpZ2h0IDIwMjUgRm9udGljb25zLCBJbmMuLS0+PHBhdGggZD0iTTIwOCAwTDMzMi4xIDBjMTIuNyAwIDI0LjkgNS4xIDMzLjkgMTQuMWw2Ny45IDY3LjljOSA5IDE0LjEgMjEuMiAxNC4xIDMzLjlMNDQ4IDMzNmMwIDI2LjUtMjEuNSA0OC00OCA0OGwtMTkyIDBjLTI2LjUgMC00OC0yMS41LTQ4LTQ4bDAtMjg4YzAtMjYuNSAyMS41LTQ4IDQ4LTQ4ek00OCAxMjhsODAgMCAwIDY0LTY0IDAgMCAyNTYgMTkyIDAgMC0zMiA2NCAwIDAgNDhjMCAyNi41LTIxLjUgNDgtNDggNDhMNDggNTEyYy0yNi41IDAtNDgtMjEuNS00OC00OEwwIDE3NmMwLTI2LjUgMjEuNS00OCA0OC00OHoiLz48L3N2Zz4=);\n",
       "    background-repeat: no-repeat;\n",
       "    background-size: 14px 14px;\n",
       "    background-position: 0;\n",
       "    display: inline-block;\n",
       "    width: 14px;\n",
       "    height: 14px;\n",
       "    cursor: pointer;\n",
       "}\n",
       "</style><body><div id=\"sk-container-id-3\" class=\"sk-top-container\"><div class=\"sk-text-repr-fallback\"><pre>CRF(algorithm=&#x27;lbfgs&#x27;, all_possible_transitions=True, c1=0.5, c2=1.0,\n",
       "    max_iterations=100)</pre><b>In a Jupyter environment, please rerun this cell to show the HTML representation or trust the notebook. <br />On GitHub, the HTML representation is unable to render, please try loading this page with nbviewer.org.</b></div><div class=\"sk-container\" hidden><div class=\"sk-item\"><div class=\"sk-estimator fitted sk-toggleable\"><input class=\"sk-toggleable__control sk-hidden--visually\" id=\"sk-estimator-id-3\" type=\"checkbox\" checked><label for=\"sk-estimator-id-3\" class=\"sk-toggleable__label fitted sk-toggleable__label-arrow\"><div><div>CRF</div></div><div><span class=\"sk-estimator-doc-link fitted\">i<span>Fitted</span></span></div></label><div class=\"sk-toggleable__content fitted\" data-param-prefix=\"\">\n",
       "        <div class=\"estimator-table\">\n",
       "            <details>\n",
       "                <summary>Parameters</summary>\n",
       "                <table class=\"parameters-table\">\n",
       "                  <tbody>\n",
       "                    \n",
       "        <tr class=\"user-set\">\n",
       "            <td><i class=\"copy-paste-icon\"\n",
       "                 onclick=\"copyToClipboard('algorithm',\n",
       "                          this.parentElement.nextElementSibling)\"\n",
       "            ></i></td>\n",
       "            <td class=\"param\">algorithm&nbsp;</td>\n",
       "            <td class=\"value\">&#x27;lbfgs&#x27;</td>\n",
       "        </tr>\n",
       "    \n",
       "\n",
       "        <tr class=\"default\">\n",
       "            <td><i class=\"copy-paste-icon\"\n",
       "                 onclick=\"copyToClipboard('min_freq',\n",
       "                          this.parentElement.nextElementSibling)\"\n",
       "            ></i></td>\n",
       "            <td class=\"param\">min_freq&nbsp;</td>\n",
       "            <td class=\"value\">None</td>\n",
       "        </tr>\n",
       "    \n",
       "\n",
       "        <tr class=\"default\">\n",
       "            <td><i class=\"copy-paste-icon\"\n",
       "                 onclick=\"copyToClipboard('all_possible_states',\n",
       "                          this.parentElement.nextElementSibling)\"\n",
       "            ></i></td>\n",
       "            <td class=\"param\">all_possible_states&nbsp;</td>\n",
       "            <td class=\"value\">None</td>\n",
       "        </tr>\n",
       "    \n",
       "\n",
       "        <tr class=\"user-set\">\n",
       "            <td><i class=\"copy-paste-icon\"\n",
       "                 onclick=\"copyToClipboard('all_possible_transitions',\n",
       "                          this.parentElement.nextElementSibling)\"\n",
       "            ></i></td>\n",
       "            <td class=\"param\">all_possible_transitions&nbsp;</td>\n",
       "            <td class=\"value\">True</td>\n",
       "        </tr>\n",
       "    \n",
       "\n",
       "        <tr class=\"user-set\">\n",
       "            <td><i class=\"copy-paste-icon\"\n",
       "                 onclick=\"copyToClipboard('c1',\n",
       "                          this.parentElement.nextElementSibling)\"\n",
       "            ></i></td>\n",
       "            <td class=\"param\">c1&nbsp;</td>\n",
       "            <td class=\"value\">0.5</td>\n",
       "        </tr>\n",
       "    \n",
       "\n",
       "        <tr class=\"user-set\">\n",
       "            <td><i class=\"copy-paste-icon\"\n",
       "                 onclick=\"copyToClipboard('c2',\n",
       "                          this.parentElement.nextElementSibling)\"\n",
       "            ></i></td>\n",
       "            <td class=\"param\">c2&nbsp;</td>\n",
       "            <td class=\"value\">1.0</td>\n",
       "        </tr>\n",
       "    \n",
       "\n",
       "        <tr class=\"user-set\">\n",
       "            <td><i class=\"copy-paste-icon\"\n",
       "                 onclick=\"copyToClipboard('max_iterations',\n",
       "                          this.parentElement.nextElementSibling)\"\n",
       "            ></i></td>\n",
       "            <td class=\"param\">max_iterations&nbsp;</td>\n",
       "            <td class=\"value\">100</td>\n",
       "        </tr>\n",
       "    \n",
       "\n",
       "        <tr class=\"default\">\n",
       "            <td><i class=\"copy-paste-icon\"\n",
       "                 onclick=\"copyToClipboard('num_memories',\n",
       "                          this.parentElement.nextElementSibling)\"\n",
       "            ></i></td>\n",
       "            <td class=\"param\">num_memories&nbsp;</td>\n",
       "            <td class=\"value\">None</td>\n",
       "        </tr>\n",
       "    \n",
       "\n",
       "        <tr class=\"default\">\n",
       "            <td><i class=\"copy-paste-icon\"\n",
       "                 onclick=\"copyToClipboard('epsilon',\n",
       "                          this.parentElement.nextElementSibling)\"\n",
       "            ></i></td>\n",
       "            <td class=\"param\">epsilon&nbsp;</td>\n",
       "            <td class=\"value\">None</td>\n",
       "        </tr>\n",
       "    \n",
       "\n",
       "        <tr class=\"default\">\n",
       "            <td><i class=\"copy-paste-icon\"\n",
       "                 onclick=\"copyToClipboard('period',\n",
       "                          this.parentElement.nextElementSibling)\"\n",
       "            ></i></td>\n",
       "            <td class=\"param\">period&nbsp;</td>\n",
       "            <td class=\"value\">None</td>\n",
       "        </tr>\n",
       "    \n",
       "\n",
       "        <tr class=\"default\">\n",
       "            <td><i class=\"copy-paste-icon\"\n",
       "                 onclick=\"copyToClipboard('delta',\n",
       "                          this.parentElement.nextElementSibling)\"\n",
       "            ></i></td>\n",
       "            <td class=\"param\">delta&nbsp;</td>\n",
       "            <td class=\"value\">None</td>\n",
       "        </tr>\n",
       "    \n",
       "\n",
       "        <tr class=\"default\">\n",
       "            <td><i class=\"copy-paste-icon\"\n",
       "                 onclick=\"copyToClipboard('linesearch',\n",
       "                          this.parentElement.nextElementSibling)\"\n",
       "            ></i></td>\n",
       "            <td class=\"param\">linesearch&nbsp;</td>\n",
       "            <td class=\"value\">None</td>\n",
       "        </tr>\n",
       "    \n",
       "\n",
       "        <tr class=\"default\">\n",
       "            <td><i class=\"copy-paste-icon\"\n",
       "                 onclick=\"copyToClipboard('max_linesearch',\n",
       "                          this.parentElement.nextElementSibling)\"\n",
       "            ></i></td>\n",
       "            <td class=\"param\">max_linesearch&nbsp;</td>\n",
       "            <td class=\"value\">None</td>\n",
       "        </tr>\n",
       "    \n",
       "\n",
       "        <tr class=\"default\">\n",
       "            <td><i class=\"copy-paste-icon\"\n",
       "                 onclick=\"copyToClipboard('calibration_eta',\n",
       "                          this.parentElement.nextElementSibling)\"\n",
       "            ></i></td>\n",
       "            <td class=\"param\">calibration_eta&nbsp;</td>\n",
       "            <td class=\"value\">None</td>\n",
       "        </tr>\n",
       "    \n",
       "\n",
       "        <tr class=\"default\">\n",
       "            <td><i class=\"copy-paste-icon\"\n",
       "                 onclick=\"copyToClipboard('calibration_rate',\n",
       "                          this.parentElement.nextElementSibling)\"\n",
       "            ></i></td>\n",
       "            <td class=\"param\">calibration_rate&nbsp;</td>\n",
       "            <td class=\"value\">None</td>\n",
       "        </tr>\n",
       "    \n",
       "\n",
       "        <tr class=\"default\">\n",
       "            <td><i class=\"copy-paste-icon\"\n",
       "                 onclick=\"copyToClipboard('calibration_samples',\n",
       "                          this.parentElement.nextElementSibling)\"\n",
       "            ></i></td>\n",
       "            <td class=\"param\">calibration_samples&nbsp;</td>\n",
       "            <td class=\"value\">None</td>\n",
       "        </tr>\n",
       "    \n",
       "\n",
       "        <tr class=\"default\">\n",
       "            <td><i class=\"copy-paste-icon\"\n",
       "                 onclick=\"copyToClipboard('calibration_candidates',\n",
       "                          this.parentElement.nextElementSibling)\"\n",
       "            ></i></td>\n",
       "            <td class=\"param\">calibration_candidates&nbsp;</td>\n",
       "            <td class=\"value\">None</td>\n",
       "        </tr>\n",
       "    \n",
       "\n",
       "        <tr class=\"default\">\n",
       "            <td><i class=\"copy-paste-icon\"\n",
       "                 onclick=\"copyToClipboard('calibration_max_trials',\n",
       "                          this.parentElement.nextElementSibling)\"\n",
       "            ></i></td>\n",
       "            <td class=\"param\">calibration_max_trials&nbsp;</td>\n",
       "            <td class=\"value\">None</td>\n",
       "        </tr>\n",
       "    \n",
       "\n",
       "        <tr class=\"default\">\n",
       "            <td><i class=\"copy-paste-icon\"\n",
       "                 onclick=\"copyToClipboard('pa_type',\n",
       "                          this.parentElement.nextElementSibling)\"\n",
       "            ></i></td>\n",
       "            <td class=\"param\">pa_type&nbsp;</td>\n",
       "            <td class=\"value\">None</td>\n",
       "        </tr>\n",
       "    \n",
       "\n",
       "        <tr class=\"default\">\n",
       "            <td><i class=\"copy-paste-icon\"\n",
       "                 onclick=\"copyToClipboard('c',\n",
       "                          this.parentElement.nextElementSibling)\"\n",
       "            ></i></td>\n",
       "            <td class=\"param\">c&nbsp;</td>\n",
       "            <td class=\"value\">None</td>\n",
       "        </tr>\n",
       "    \n",
       "\n",
       "        <tr class=\"default\">\n",
       "            <td><i class=\"copy-paste-icon\"\n",
       "                 onclick=\"copyToClipboard('error_sensitive',\n",
       "                          this.parentElement.nextElementSibling)\"\n",
       "            ></i></td>\n",
       "            <td class=\"param\">error_sensitive&nbsp;</td>\n",
       "            <td class=\"value\">None</td>\n",
       "        </tr>\n",
       "    \n",
       "\n",
       "        <tr class=\"default\">\n",
       "            <td><i class=\"copy-paste-icon\"\n",
       "                 onclick=\"copyToClipboard('averaging',\n",
       "                          this.parentElement.nextElementSibling)\"\n",
       "            ></i></td>\n",
       "            <td class=\"param\">averaging&nbsp;</td>\n",
       "            <td class=\"value\">None</td>\n",
       "        </tr>\n",
       "    \n",
       "\n",
       "        <tr class=\"default\">\n",
       "            <td><i class=\"copy-paste-icon\"\n",
       "                 onclick=\"copyToClipboard('variance',\n",
       "                          this.parentElement.nextElementSibling)\"\n",
       "            ></i></td>\n",
       "            <td class=\"param\">variance&nbsp;</td>\n",
       "            <td class=\"value\">None</td>\n",
       "        </tr>\n",
       "    \n",
       "\n",
       "        <tr class=\"default\">\n",
       "            <td><i class=\"copy-paste-icon\"\n",
       "                 onclick=\"copyToClipboard('gamma',\n",
       "                          this.parentElement.nextElementSibling)\"\n",
       "            ></i></td>\n",
       "            <td class=\"param\">gamma&nbsp;</td>\n",
       "            <td class=\"value\">None</td>\n",
       "        </tr>\n",
       "    \n",
       "\n",
       "        <tr class=\"default\">\n",
       "            <td><i class=\"copy-paste-icon\"\n",
       "                 onclick=\"copyToClipboard('verbose',\n",
       "                          this.parentElement.nextElementSibling)\"\n",
       "            ></i></td>\n",
       "            <td class=\"param\">verbose&nbsp;</td>\n",
       "            <td class=\"value\">False</td>\n",
       "        </tr>\n",
       "    \n",
       "\n",
       "        <tr class=\"default\">\n",
       "            <td><i class=\"copy-paste-icon\"\n",
       "                 onclick=\"copyToClipboard('model_filename',\n",
       "                          this.parentElement.nextElementSibling)\"\n",
       "            ></i></td>\n",
       "            <td class=\"param\">model_filename&nbsp;</td>\n",
       "            <td class=\"value\">None</td>\n",
       "        </tr>\n",
       "    \n",
       "\n",
       "        <tr class=\"default\">\n",
       "            <td><i class=\"copy-paste-icon\"\n",
       "                 onclick=\"copyToClipboard('keep_tempfiles',\n",
       "                          this.parentElement.nextElementSibling)\"\n",
       "            ></i></td>\n",
       "            <td class=\"param\">keep_tempfiles&nbsp;</td>\n",
       "            <td class=\"value\">False</td>\n",
       "        </tr>\n",
       "    \n",
       "\n",
       "        <tr class=\"default\">\n",
       "            <td><i class=\"copy-paste-icon\"\n",
       "                 onclick=\"copyToClipboard('trainer_cls',\n",
       "                          this.parentElement.nextElementSibling)\"\n",
       "            ></i></td>\n",
       "            <td class=\"param\">trainer_cls&nbsp;</td>\n",
       "            <td class=\"value\">None</td>\n",
       "        </tr>\n",
       "    \n",
       "                  </tbody>\n",
       "                </table>\n",
       "            </details>\n",
       "        </div>\n",
       "    </div></div></div></div></div><script>function copyToClipboard(text, element) {\n",
       "    // Get the parameter prefix from the closest toggleable content\n",
       "    const toggleableContent = element.closest('.sk-toggleable__content');\n",
       "    const paramPrefix = toggleableContent ? toggleableContent.dataset.paramPrefix : '';\n",
       "    const fullParamName = paramPrefix ? `${paramPrefix}${text}` : text;\n",
       "\n",
       "    const originalStyle = element.style;\n",
       "    const computedStyle = window.getComputedStyle(element);\n",
       "    const originalWidth = computedStyle.width;\n",
       "    const originalHTML = element.innerHTML.replace('Copied!', '');\n",
       "\n",
       "    navigator.clipboard.writeText(fullParamName)\n",
       "        .then(() => {\n",
       "            element.style.width = originalWidth;\n",
       "            element.style.color = 'green';\n",
       "            element.innerHTML = \"Copied!\";\n",
       "\n",
       "            setTimeout(() => {\n",
       "                element.innerHTML = originalHTML;\n",
       "                element.style = originalStyle;\n",
       "            }, 2000);\n",
       "        })\n",
       "        .catch(err => {\n",
       "            console.error('Failed to copy:', err);\n",
       "            element.style.color = 'red';\n",
       "            element.innerHTML = \"Failed!\";\n",
       "            setTimeout(() => {\n",
       "                element.innerHTML = originalHTML;\n",
       "                element.style = originalStyle;\n",
       "            }, 2000);\n",
       "        });\n",
       "    return false;\n",
       "}\n",
       "\n",
       "document.querySelectorAll('.fa-regular.fa-copy').forEach(function(element) {\n",
       "    const toggleableContent = element.closest('.sk-toggleable__content');\n",
       "    const paramPrefix = toggleableContent ? toggleableContent.dataset.paramPrefix : '';\n",
       "    const paramName = element.parentElement.nextElementSibling.textContent.trim();\n",
       "    const fullParamName = paramPrefix ? `${paramPrefix}${paramName}` : paramName;\n",
       "\n",
       "    element.setAttribute('title', fullParamName);\n",
       "});\n",
       "</script></body>"
      ],
      "text/plain": [
       "CRF(algorithm='lbfgs', all_possible_transitions=True, c1=0.5, c2=1.0,\n",
       "    max_iterations=100)"
      ]
     },
     "execution_count": 177,
     "metadata": {},
     "output_type": "execute_result"
    }
   ],
   "source": [
    "# initialise CRF model with the specified hyperparameters and use weight_dict\n",
    "\n",
    "crf = CRF(\n",
    "    algorithm='lbfgs',\n",
    "    c1=0.5,\n",
    "    c2=1.0,\n",
    "    max_iterations=100,\n",
    "    all_possible_transitions=True\n",
    ")\n",
    "\n",
    "# train the CRF model with the weighted training data\n",
    "crf.fit(X_train_weighted_features, y_train_labels)"
   ]
  },
  {
   "cell_type": "markdown",
   "metadata": {
    "id": "sDLwvYqOF6m_"
   },
   "source": [
    "### **7.2** *Evaluation of Training Dataset using CRF model* <font color = red>[4 marks]</font>\n",
    "Evaluate on training dataset using CRF by using flat classification report and confusion matrix"
   ]
  },
  {
   "cell_type": "code",
   "execution_count": 181,
   "metadata": {
    "id": "Us57jWSQ6laL"
   },
   "outputs": [
    {
     "name": "stdout",
     "output_type": "stream",
     "text": [
      "              precision    recall  f1-score   support\n",
      "\n",
      "  ingredient       1.00      1.00      1.00      5323\n",
      "    quantity       0.99      0.98      0.99       980\n",
      "        unit       0.98      0.99      0.98       811\n",
      "\n",
      "    accuracy                           1.00      7114\n",
      "   macro avg       0.99      0.99      0.99      7114\n",
      "weighted avg       1.00      1.00      1.00      7114\n",
      "\n"
     ]
    },
    {
     "data": {
      "text/plain": [
       "<Figure size 1000x700 with 0 Axes>"
      ]
     },
     "metadata": {},
     "output_type": "display_data"
    },
    {
     "data": {
      "image/png": "[encoded data removed]",
      "text/plain": [
       "<Figure size 640x480 with 2 Axes>"
      ]
     },
     "metadata": {},
     "output_type": "display_data"
    }
   ],
   "source": [
    "# evaluate on the training dataset\n",
    "y_train_pred = crf.predict(X_train_weighted_features)\n",
    "\n",
    "# Print flat classification report\n",
    "print(flat_classification_report(y_train_labels, y_train_pred))\n",
    "\n",
    "# Generate and plot confusion matrix\n",
    "labels = list(crf.classes_)\n",
    "cm = confusion_matrix([label for seq in y_train_labels for label in seq],\n",
    "                      [label for seq in y_train_pred for label in seq],\n",
    "                      labels=labels)\n",
    "\n",
    "disp = ConfusionMatrixDisplay(confusion_matrix=cm, display_labels=labels)\n",
    "plt.figure(figsize=(10, 7))\n",
    "disp.plot(xticks_rotation=45)\n",
    "plt.title(\"Confusion Matrix - Training Data\")\n",
    "plt.show()"
   ]
  },
  {
   "cell_type": "code",
   "execution_count": 183,
   "metadata": {
    "id": "gNGZnd-D6oq3"
   },
   "outputs": [
    {
     "name": "stdout",
     "output_type": "stream",
     "text": [
      "              precision    recall  f1-score   support\n",
      "\n",
      "  ingredient       1.00      1.00      1.00      5323\n",
      "    quantity       0.99      0.98      0.99       980\n",
      "        unit       0.98      0.99      0.98       811\n",
      "\n",
      "    accuracy                           1.00      7114\n",
      "   macro avg       0.99      0.99      0.99      7114\n",
      "weighted avg       1.00      1.00      1.00      7114\n",
      "\n"
     ]
    }
   ],
   "source": [
    "# specify the flat classification report by using training data for evaluation\n",
    "y_train_pred = crf.predict(X_train_weighted_features)\n",
    "print(flat_classification_report(y_train_labels, y_train_pred))"
   ]
  },
  {
   "cell_type": "code",
   "execution_count": 185,
   "metadata": {
    "id": "GqP9WBvJ63qm"
   },
   "outputs": [
    {
     "data": {
      "text/plain": [
       "<Figure size 1000x600 with 0 Axes>"
      ]
     },
     "metadata": {},
     "output_type": "display_data"
    },
    {
     "data": {
      "image/png": "[encoded data removed]",
      "text/plain": [
       "<Figure size 640x480 with 2 Axes>"
      ]
     },
     "metadata": {},
     "output_type": "display_data"
    }
   ],
   "source": [
    "# create a confusion matrix on training datset\n",
    "\n",
    "# Flatten the true and predicted labels\n",
    "y_true_flat = [label for seq in y_train_labels for label in seq]\n",
    "y_pred_flat = [label for seq in y_train_pred for label in seq]\n",
    "\n",
    "# Compute confusion matrix\n",
    "labels = sorted(crf.classes_)\n",
    "cm = confusion_matrix(y_true_flat, y_pred_flat, labels=labels)\n",
    "\n",
    "# Display confusion matrix\n",
    "plt.figure(figsize=(10, 6))\n",
    "disp = ConfusionMatrixDisplay(confusion_matrix=cm, display_labels=labels)\n",
    "disp.plot(xticks_rotation=45, cmap='Blues')\n",
    "plt.title(\"Confusion Matrix - Training Dataset\")\n",
    "plt.tight_layout()\n",
    "plt.show()"
   ]
  },
  {
   "cell_type": "markdown",
   "metadata": {
    "id": "Yps2-XscGuHc"
   },
   "source": [
    "### **7.3** *Save the CRF model* <font color = red>[1 marks]</font>\n",
    "Save the CRF model"
   ]
  },
  {
   "cell_type": "code",
   "execution_count": 187,
   "metadata": {
    "id": "iAYDLatcGzEN"
   },
   "outputs": [
    {
     "data": {
      "text/plain": [
       "['crf_model.pkl']"
      ]
     },
     "execution_count": 187,
     "metadata": {},
     "output_type": "execute_result"
    }
   ],
   "source": [
    "# dump the model using joblib as crf_model.pkl\n",
    "joblib.dump(crf, \"crf_model.pkl\")"
   ]
  },
  {
   "cell_type": "markdown",
   "metadata": {
    "id": "agM32oUlBo1K"
   },
   "source": [
    "## **8** Prediction and Model Evaluation <font color = red>[3 marks]</font> <br>"
   ]
  },
  {
   "cell_type": "markdown",
   "metadata": {
    "id": "b5BYmkTrBo1L"
   },
   "source": [
    "### **8.1** *Predict and Evaluate the CRF model on validation set* <font color = red>[3 marks]</font>\n",
    "Evaluate the metrics for CRF model by using flat classification report and confusion matrix\n",
    "\n",
    "\n"
   ]
  },
  {
   "cell_type": "code",
   "execution_count": 189,
   "metadata": {
    "id": "qhH6Sp8tBo1M"
   },
   "outputs": [],
   "source": [
    "# predict the crf model on validation dataset\n",
    "y_val_pred = crf.predict(X_val_weighted_features)"
   ]
  },
  {
   "cell_type": "code",
   "execution_count": 191,
   "metadata": {
    "id": "SMktt_w1kovB"
   },
   "outputs": [
    {
     "name": "stdout",
     "output_type": "stream",
     "text": [
      "              precision    recall  f1-score   support\n",
      "\n",
      "  ingredient       1.00      1.00      1.00      2107\n",
      "    quantity       0.98      0.98      0.98       411\n",
      "        unit       0.97      0.98      0.98       358\n",
      "\n",
      "    accuracy                           0.99      2876\n",
      "   macro avg       0.99      0.99      0.99      2876\n",
      "weighted avg       0.99      0.99      0.99      2876\n",
      "\n"
     ]
    }
   ],
   "source": [
    "# specify flat classification report\n",
    "print(flat_classification_report(y_val_labels, y_val_pred))"
   ]
  },
  {
   "cell_type": "code",
   "execution_count": 193,
   "metadata": {
    "id": "eI2tUBRRk4jK"
   },
   "outputs": [
    {
     "data": {
      "text/plain": [
       "<Figure size 1000x600 with 0 Axes>"
      ]
     },
     "metadata": {},
     "output_type": "display_data"
    },
    {
     "data": {
      "image/png": "[encoded data removed]",
      "text/plain": [
       "<Figure size 640x480 with 2 Axes>"
      ]
     },
     "metadata": {},
     "output_type": "display_data"
    }
   ],
   "source": [
    "# create a confusion matrix on validation dataset\n",
    "# Flatten the true and predicted labels\n",
    "y_val_true_flat = [label for seq in y_val_labels for label in seq]\n",
    "y_val_pred_flat = [label for seq in y_val_pred for label in seq]\n",
    "\n",
    "# Compute confusion matrix\n",
    "labels = sorted(crf.classes_)\n",
    "cm_val = confusion_matrix(y_val_true_flat, y_val_pred_flat, labels=labels)\n",
    "\n",
    "# Display confusion matrix\n",
    "plt.figure(figsize=(10, 6))\n",
    "disp = ConfusionMatrixDisplay(confusion_matrix=cm_val, display_labels=labels)\n",
    "disp.plot(xticks_rotation=45, cmap='Blues')\n",
    "plt.title(\"Confusion Matrix - Validation Dataset\")\n",
    "plt.tight_layout()\n",
    "plt.show()"
   ]
  },
  {
   "cell_type": "markdown",
   "metadata": {
    "id": "8pD6hD3NEV3q"
   },
   "source": [
    "## **9** Error Analysis on Validation Data <font color = red>[10 marks]</font> <br>\n",
    "Investigate misclassified samples in validation dataset and provide the insights\n"
   ]
  },
  {
   "cell_type": "markdown",
   "metadata": {
    "id": "R9tUvjrzFjib"
   },
   "source": [
    "### **9.1** *Investigate misclassified samples in validation dataset* <font color = red>[8 marks]</font>\n",
    "\n"
   ]
  },
  {
   "cell_type": "markdown",
   "metadata": {
    "id": "Lb15uObqxKe4"
   },
   "source": [
    "##### **9.1.1** Flatten the labels of validation data and initialise error data <font color = red>[2 marks]</font> <br>\n",
    "\n",
    "\n",
    "\n",
    "Flatten the true and predicted labels and initialise the error data as ***error_data***"
   ]
  },
  {
   "cell_type": "code",
   "execution_count": 195,
   "metadata": {
    "id": "gbgYAjd-UzkI"
   },
   "outputs": [],
   "source": [
    "# flatten Labels and Initialise Error Data\n",
    "error_data = []\n",
    "\n",
    "for true_seq, pred_seq, tokens in zip(y_val_labels, y_val_pred, X_val):\n",
    "    for true_label, pred_label, token in zip(true_seq, pred_seq, tokens):\n",
    "        if true_label != pred_label:\n",
    "            error_data.append((token, true_label, pred_label))"
   ]
  },
  {
   "cell_type": "markdown",
   "metadata": {
    "id": "LS9foWfdXHOg"
   },
   "source": [
    "##### **9.1.2** Iterate the validation data and collect Error Information<font color = red> [2 marks]</font> <br>\n",
    "\n",
    "\n",
    "\n",
    "Iterate through validation data (X_val, y_val_labels, y_pred_val) and compare true vs. predicted labels. Collect error details, including surrounding context, previous/next tokens, and class weights, then store them in error_data"
   ]
  },
  {
   "cell_type": "code",
   "execution_count": 199,
   "metadata": {
    "id": "_VKLc1s0U0yY"
   },
   "outputs": [],
   "source": [
    "# iterate and collect Error Information\n",
    "error_data = []\n",
    "\n",
    "for sentence_tokens, true_seq, pred_seq in zip(X_val, y_val_labels, y_val_pred):\n",
    "    for i in range(len(sentence_tokens)):\n",
    "        true_label = true_seq[i]\n",
    "        pred_label = pred_seq[i]\n",
    "        token = sentence_tokens[i]\n",
    "\n",
    "        if true_label != pred_label:\n",
    "        # get previous and next tokens with handling for boundary cases\n",
    "            prev_token = sentence_tokens[i - 1] if i > 0 else \"BOS\"\n",
    "            next_token = sentence_tokens[i + 1] if i < len(sentence_tokens) - 1 else \"EOS\"\n",
    "            \n",
    "            error_info = {\n",
    "                'token': token,\n",
    "                'true_label': true_label,\n",
    "                'pred_label': pred_label,\n",
    "                'prev_token': prev_token,\n",
    "                'next_token': next_token\n",
    "            }\n",
    "            error_data.append(error_info)"
   ]
  },
  {
   "cell_type": "markdown",
   "metadata": {
    "id": "G_R8CCAFZSzF"
   },
   "source": [
    "##### **9.1.3** Create dataframe from error_data and print overall accuracy <font color = red>[1 marks]</font> <br>\n",
    "\n",
    "\n",
    "\n",
    "Change error_data into dataframe and then use it to illustrate the overall accuracy of validation data"
   ]
  },
  {
   "cell_type": "code",
   "execution_count": 201,
   "metadata": {
    "id": "fUffRP7XU3YC"
   },
   "outputs": [
    {
     "name": "stdout",
     "output_type": "stream",
     "text": [
      "Validation Accuracy: 99.44%\n"
     ]
    },
    {
     "data": {
      "text/html": [
       "<div>\n",
       "<style scoped>\n",
       "    .dataframe tbody tr th:only-of-type {\n",
       "        vertical-align: middle;\n",
       "    }\n",
       "\n",
       "    .dataframe tbody tr th {\n",
       "        vertical-align: top;\n",
       "    }\n",
       "\n",
       "    .dataframe thead th {\n",
       "        text-align: right;\n",
       "    }\n",
       "</style>\n",
       "<table border=\"1\" class=\"dataframe\">\n",
       "  <thead>\n",
       "    <tr style=\"text-align: right;\">\n",
       "      <th></th>\n",
       "      <th>token</th>\n",
       "      <th>true_label</th>\n",
       "      <th>pred_label</th>\n",
       "      <th>prev_token</th>\n",
       "      <th>next_token</th>\n",
       "    </tr>\n",
       "  </thead>\n",
       "  <tbody>\n",
       "    <tr>\n",
       "      <th>0</th>\n",
       "      <td>1/4</td>\n",
       "      <td>quantity</td>\n",
       "      <td>unit</td>\n",
       "      <td>powder</td>\n",
       "      <td>Salt</td>\n",
       "    </tr>\n",
       "    <tr>\n",
       "      <th>1</th>\n",
       "      <td>cut</td>\n",
       "      <td>unit</td>\n",
       "      <td>quantity</td>\n",
       "      <td>French</td>\n",
       "      <td>into</td>\n",
       "    </tr>\n",
       "    <tr>\n",
       "      <th>2</th>\n",
       "      <td>6-8</td>\n",
       "      <td>quantity</td>\n",
       "      <td>unit</td>\n",
       "      <td>Pudina</td>\n",
       "      <td>Saffron</td>\n",
       "    </tr>\n",
       "    <tr>\n",
       "      <th>3</th>\n",
       "      <td>cold</td>\n",
       "      <td>unit</td>\n",
       "      <td>quantity</td>\n",
       "      <td>Oil</td>\n",
       "      <td>pressed</td>\n",
       "    </tr>\n",
       "    <tr>\n",
       "      <th>4</th>\n",
       "      <td>1-1/2</td>\n",
       "      <td>quantity</td>\n",
       "      <td>unit</td>\n",
       "      <td>pressed</td>\n",
       "      <td>Poppy</td>\n",
       "    </tr>\n",
       "  </tbody>\n",
       "</table>\n",
       "</div>"
      ],
      "text/plain": [
       "   token true_label pred_label prev_token next_token\n",
       "0    1/4   quantity       unit     powder       Salt\n",
       "1    cut       unit   quantity     French       into\n",
       "2    6-8   quantity       unit     Pudina    Saffron\n",
       "3   cold       unit   quantity        Oil    pressed\n",
       "4  1-1/2   quantity       unit    pressed      Poppy"
      ]
     },
     "execution_count": 201,
     "metadata": {},
     "output_type": "execute_result"
    }
   ],
   "source": [
    "# Create DataFrame and Print Overall Accuracy\n",
    "error_df = pd.DataFrame(error_data)\n",
    "total_tokens = sum(len(seq) for seq in y_val_labels)\n",
    "correct_tokens = total_tokens - len(error_df)\n",
    "accuracy = correct_tokens / total_tokens\n",
    "\n",
    "print(\"Validation Accuracy: {:.2f}%\".format(accuracy * 100))\n",
    "error_df.head()"
   ]
  },
  {
   "cell_type": "markdown",
   "metadata": {
    "id": "8OUYHFmgZhgJ"
   },
   "source": [
    "##### **9.1.4** Analyse errors by label type<font color = red> [3 marks]</font> <br>\n",
    "Analyse errors found in the validation data by each label and display their class weights along with accuracy and also display the error dataframe with token,  previous token, next token, true label, predicted label and context"
   ]
  },
  {
   "cell_type": "code",
   "execution_count": 203,
   "metadata": {
    "id": "zu8CtjU6WR9l"
   },
   "outputs": [
    {
     "name": "stdout",
     "output_type": "stream",
     "text": [
      "Per-Label Error Analysis:\n"
     ]
    },
    {
     "data": {
      "text/html": [
       "<div>\n",
       "<style scoped>\n",
       "    .dataframe tbody tr th:only-of-type {\n",
       "        vertical-align: middle;\n",
       "    }\n",
       "\n",
       "    .dataframe tbody tr th {\n",
       "        vertical-align: top;\n",
       "    }\n",
       "\n",
       "    .dataframe thead th {\n",
       "        text-align: right;\n",
       "    }\n",
       "</style>\n",
       "<table border=\"1\" class=\"dataframe\">\n",
       "  <thead>\n",
       "    <tr style=\"text-align: right;\">\n",
       "      <th></th>\n",
       "      <th>label</th>\n",
       "      <th>total</th>\n",
       "      <th>errors</th>\n",
       "      <th>accuracy</th>\n",
       "      <th>class_weight</th>\n",
       "    </tr>\n",
       "  </thead>\n",
       "  <tbody>\n",
       "    <tr>\n",
       "      <th>1</th>\n",
       "      <td>quantity</td>\n",
       "      <td>411</td>\n",
       "      <td>9</td>\n",
       "      <td>97.81</td>\n",
       "      <td>7.26</td>\n",
       "    </tr>\n",
       "    <tr>\n",
       "      <th>2</th>\n",
       "      <td>unit</td>\n",
       "      <td>358</td>\n",
       "      <td>7</td>\n",
       "      <td>98.04</td>\n",
       "      <td>8.77</td>\n",
       "    </tr>\n",
       "    <tr>\n",
       "      <th>0</th>\n",
       "      <td>ingredient</td>\n",
       "      <td>2107</td>\n",
       "      <td>0</td>\n",
       "      <td>100.00</td>\n",
       "      <td>3.01</td>\n",
       "    </tr>\n",
       "  </tbody>\n",
       "</table>\n",
       "</div>"
      ],
      "text/plain": [
       "        label  total  errors  accuracy  class_weight\n",
       "1    quantity    411       9     97.81          7.26\n",
       "2        unit    358       7     98.04          8.77\n",
       "0  ingredient   2107       0    100.00          3.01"
      ]
     },
     "metadata": {},
     "output_type": "display_data"
    },
    {
     "data": {
      "text/html": [
       "<div>\n",
       "<style scoped>\n",
       "    .dataframe tbody tr th:only-of-type {\n",
       "        vertical-align: middle;\n",
       "    }\n",
       "\n",
       "    .dataframe tbody tr th {\n",
       "        vertical-align: top;\n",
       "    }\n",
       "\n",
       "    .dataframe thead th {\n",
       "        text-align: right;\n",
       "    }\n",
       "</style>\n",
       "<table border=\"1\" class=\"dataframe\">\n",
       "  <thead>\n",
       "    <tr style=\"text-align: right;\">\n",
       "      <th></th>\n",
       "      <th>token</th>\n",
       "      <th>prev_token</th>\n",
       "      <th>next_token</th>\n",
       "      <th>true_label</th>\n",
       "      <th>pred_label</th>\n",
       "      <th>context</th>\n",
       "    </tr>\n",
       "  </thead>\n",
       "  <tbody>\n",
       "    <tr>\n",
       "      <th>0</th>\n",
       "      <td>1/4</td>\n",
       "      <td>powder</td>\n",
       "      <td>Salt</td>\n",
       "      <td>quantity</td>\n",
       "      <td>unit</td>\n",
       "      <td>powder 1/4 Salt</td>\n",
       "    </tr>\n",
       "    <tr>\n",
       "      <th>1</th>\n",
       "      <td>cut</td>\n",
       "      <td>French</td>\n",
       "      <td>into</td>\n",
       "      <td>unit</td>\n",
       "      <td>quantity</td>\n",
       "      <td>French cut into</td>\n",
       "    </tr>\n",
       "    <tr>\n",
       "      <th>2</th>\n",
       "      <td>6-8</td>\n",
       "      <td>Pudina</td>\n",
       "      <td>Saffron</td>\n",
       "      <td>quantity</td>\n",
       "      <td>unit</td>\n",
       "      <td>Pudina 6-8 Saffron</td>\n",
       "    </tr>\n",
       "    <tr>\n",
       "      <th>3</th>\n",
       "      <td>cold</td>\n",
       "      <td>Oil</td>\n",
       "      <td>pressed</td>\n",
       "      <td>unit</td>\n",
       "      <td>quantity</td>\n",
       "      <td>Oil cold pressed</td>\n",
       "    </tr>\n",
       "    <tr>\n",
       "      <th>4</th>\n",
       "      <td>1-1/2</td>\n",
       "      <td>pressed</td>\n",
       "      <td>Poppy</td>\n",
       "      <td>quantity</td>\n",
       "      <td>unit</td>\n",
       "      <td>pressed 1-1/2 Poppy</td>\n",
       "    </tr>\n",
       "    <tr>\n",
       "      <th>5</th>\n",
       "      <td>into</td>\n",
       "      <td>cut</td>\n",
       "      <td>cm</td>\n",
       "      <td>unit</td>\n",
       "      <td>quantity</td>\n",
       "      <td>cut into cm</td>\n",
       "    </tr>\n",
       "    <tr>\n",
       "      <th>6</th>\n",
       "      <td>2</td>\n",
       "      <td>1-1</td>\n",
       "      <td>tablespoon</td>\n",
       "      <td>quantity</td>\n",
       "      <td>unit</td>\n",
       "      <td>1-1 2 tablespoon</td>\n",
       "    </tr>\n",
       "    <tr>\n",
       "      <th>7</th>\n",
       "      <td>1/3</td>\n",
       "      <td>powder</td>\n",
       "      <td>Water</td>\n",
       "      <td>quantity</td>\n",
       "      <td>unit</td>\n",
       "      <td>powder 1/3 Water</td>\n",
       "    </tr>\n",
       "    <tr>\n",
       "      <th>8</th>\n",
       "      <td>pinch</td>\n",
       "      <td>powder</td>\n",
       "      <td>Salt</td>\n",
       "      <td>unit</td>\n",
       "      <td>quantity</td>\n",
       "      <td>powder pinch Salt</td>\n",
       "    </tr>\n",
       "    <tr>\n",
       "      <th>9</th>\n",
       "      <td>2</td>\n",
       "      <td>Salt</td>\n",
       "      <td>Instant</td>\n",
       "      <td>quantity</td>\n",
       "      <td>unit</td>\n",
       "      <td>Salt 2 Instant</td>\n",
       "    </tr>\n",
       "  </tbody>\n",
       "</table>\n",
       "</div>"
      ],
      "text/plain": [
       "   token prev_token  next_token true_label pred_label              context\n",
       "0    1/4     powder        Salt   quantity       unit      powder 1/4 Salt\n",
       "1    cut     French        into       unit   quantity      French cut into\n",
       "2    6-8     Pudina     Saffron   quantity       unit   Pudina 6-8 Saffron\n",
       "3   cold        Oil     pressed       unit   quantity     Oil cold pressed\n",
       "4  1-1/2    pressed       Poppy   quantity       unit  pressed 1-1/2 Poppy\n",
       "5   into        cut          cm       unit   quantity          cut into cm\n",
       "6      2        1-1  tablespoon   quantity       unit     1-1 2 tablespoon\n",
       "7    1/3     powder       Water   quantity       unit     powder 1/3 Water\n",
       "8  pinch     powder        Salt       unit   quantity    powder pinch Salt\n",
       "9      2       Salt     Instant   quantity       unit       Salt 2 Instant"
      ]
     },
     "metadata": {},
     "output_type": "display_data"
    }
   ],
   "source": [
    "# Analyse errors found in the validation data by each label\n",
    "label_error_counts = error_df['true_label'].value_counts()\n",
    "label_total_counts = pd.Series([label for seq in y_val_labels for label in seq]).value_counts()\n",
    "\n",
    "# and display their class weights along with accuracy\n",
    "analysis_data = []\n",
    "for label in sorted(label_total_counts.index):\n",
    "    total = label_total_counts.get(label, 0)\n",
    "    errors = label_error_counts.get(label, 0)\n",
    "    correct = total - errors\n",
    "    accuracy = correct / total if total > 0 else 0.0\n",
    "    class_weight = weight_dict.get(label, 1.0)\n",
    "    analysis_data.append({\n",
    "        'label': label,\n",
    "        'total': total,\n",
    "        'errors': errors,\n",
    "        'accuracy': round(accuracy * 100, 2),\n",
    "        'class_weight': round(class_weight, 2)\n",
    "    })\n",
    "\n",
    "analysis_df = pd.DataFrame(analysis_data)\n",
    "print(\"Per-Label Error Analysis:\")\n",
    "display(analysis_df.sort_values(by=\"accuracy\", ascending=True))\n",
    "\n",
    "# and display the error dataframe with token, previous token, next token, true label, predicted label and context\n",
    "error_df['context'] = error_df['prev_token'] + \" \" + error_df['token'] + \" \" + error_df['next_token']\n",
    "display(error_df[['token', 'prev_token', 'next_token', 'true_label', 'pred_label', 'context']].head(10))"
   ]
  },
  {
   "cell_type": "markdown",
   "metadata": {
    "id": "Q3n74kVvEV3q"
   },
   "source": [
    "### **9.2** *Provide insights from the validation dataset* <font color = red>[2 marks]</font>\n",
    "\n",
    "\n"
   ]
  },
  {
   "cell_type": "markdown",
   "metadata": {
    "id": "aWZdf1O_vWnD"
   },
   "source": [
    " <font color = red>[Write your answer]</font>"
   ]
  },
  {
   "cell_type": "markdown",
   "metadata": {},
   "source": [
    "Ingredient as the Most Misclassified Label: Despite applying higher class weight, the ingredient label showed the highest error rate. This suggests frequent confusion with other labels such as unit and quantity, especially when the token plays multiple roles in different contexts.\r\n",
    "\r\n",
    "Strong Performance for Quantity and Unit: Labels like quantity and unit demonstrated high accuracy. Their performance was supported by consistent numeric formats and clear keyword-based patterns (e.g., \"1/2\", \"cups\", \"tsp\").\r\n",
    "\r\n",
    "Label Confusion Patterns: Tokens like \"oil\", \"sugar\", or \"salt\" were commonly confused between ingredient and unit, especially in recipes where structure or ordering varied.\r\n",
    "\r\n",
    "Contextual Dependency of Errors: Misclassifications often occurred in cases where the neighboring tokens didn’t provide enough context. Examples include missing quantities before ingredients or isolated terms without descriptive units.asing."
   ]
  },
  {
   "cell_type": "markdown",
   "metadata": {
    "id": "qUjFPBMxH20n"
   },
   "source": [
    "## **10** Conclusion (Optional) <font color = red>[0 marks]</font> <br>\n",
    "\n",
    "Write your findings and conclusion."
   ]
  },
  {
   "cell_type": "markdown",
   "metadata": {},
   "source": [
    "Objective Accomplished: Successfully built a token-level sequence labeling pipeline to identify key entities — ingredient, unit, and quantity — from structured recipe instructions.\r\n",
    "\r\n",
    "Data Validation and Preprocessing: Ensured clean and aligned data by verifying input_tokens and pos_tokens, removing mismatches, and tokenizing input using consistent logic.\r\n",
    "\r\n",
    "Feature Engineering with spaCy and Patterns: Extracted comprehensive features capturing lexical, grammatical, and contextual characteristics of tokens. Implemented custom rules and regex-based checks to detect numeric formats, units, and measurement terms.\r\n",
    "\r\n",
    "Handling Class Imbalance: Applied class weighting using inverse frequency, with additional emphasis on the ingredient label to address its complexity and frequency of misclassification.\r\n",
    "\r\n",
    "CRF Model Development and Training: Trained a Conditional Random Field model using weighted features and optimized parameters (lbfgs, c1=0.5, c2=1.0) on a 70:30 train-validation split.\r\n",
    "\r\n",
    "Model Performance:\r\n",
    "\r\n",
    "High accuracy observed on quantity and unit labels.\r\n",
    "\r\n",
    "The ingredient label had relatively lower precision due to semantic overlap with other classes.\r\n",
    "\r\n",
    "Performance was validated using flat classification reports and confusion matrices.\r\n",
    "\r\n",
    "Error Analysis:\r\n",
    "\r\n",
    "Errors primarily stemmed from weak or missing contextual cues, such as absent quantities near ingredients.\r\n",
    "\r\n",
    "Tokens like \"sugar\", \"oil\", or \"pepper\" often caused confusion between unit and ingredient.\r\n",
    "\r\n",
    "Created a detailed error log with surrounding token context for analysis.\r\n",
    "\r\n",
    "Project Outcome:\r\n",
    "\r\n",
    "Delivered a robust and interpretable CRF-based named entity recognition (NER) system for recipe data.\r\n",
    "\r\n",
    "Established a scalable method that can be extended to other domains requiring domain-specific entity extraction.\r\n",
    "\r\n",
    "This solution supports downstream applications such as intelligent recipe parsing, grocery list generation, or cooking automation tools.on, or cooking automation tools.ers, or automated cooking tools.ers, or automated cooking tools."
   ]
  }
 ],
 "metadata": {
  "colab": {
   "collapsed_sections": [
    "-ksMVNgeyiLN",
    "1y18LwoqyFpk",
    "bhNG_XC1r4Qw",
    "-JtvsBYur-oV",
    "dpJQu3JE_P7Z",
    "JbriClEV9CW5",
    "Qtqtij2-CD2m",
    "_RJEStPSC9PB",
    "qJdYJ2TEDBzd",
    "hJm2nUw0998s"
   ],
   "provenance": [],
   "toc_visible": true
  },
  "kernelspec": {
   "display_name": "Python 3 (ipykernel)",
   "language": "python",
   "name": "python3"
  },
  "language_info": {
   "codemirror_mode": {
    "name": "ipython",
    "version": 3
   },
   "file_extension": ".py",
   "mimetype": "text/x-python",
   "name": "python",
   "nbconvert_exporter": "python",
   "pygments_lexer": "ipython3",
   "version": "3.12.3"
  }
 },
 "nbformat": 4,
 "nbformat_minor": 4
}
